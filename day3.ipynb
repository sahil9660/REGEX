{
 "cells": [
  {
   "cell_type": "code",
   "execution_count": null,
   "id": "aa434279",
   "metadata": {},
   "outputs": [],
   "source": [
    "'''\n",
    "1.print 1-5\n",
    "2.even from 1-10\n",
    "3.sum of even 1-10\n",
    "4.multiplication->\n",
    "5.factorial\n",
    "6.string input->vowels count\n",
    "7.user list number->average of number //\n",
    "'''"
   ]
  },
  {
   "cell_type": "code",
   "execution_count": 72,
   "id": "1a7bae2c",
   "metadata": {},
   "outputs": [
    {
     "name": "stdout",
     "output_type": "stream",
     "text": [
      "enter a number10\n",
      "0\n",
      "1\n",
      "2\n",
      "3\n",
      "4\n",
      "5\n",
      "6\n",
      "7\n",
      "8\n",
      "9\n",
      "\n",
      "even number below \n",
      "0\n",
      "2\n",
      "4\n",
      "6\n",
      "8\n",
      "\n",
      "sum of even 20\n"
     ]
    }
   ],
   "source": [
    "#1.print 1-5\n",
    "#2.even from 1-10\n",
    "#3.sum of even 1-10\n",
    "\n",
    "n=int(input(\"enter a number\"))\n",
    "for i in range(0,n):\n",
    "    print(i)\n",
    "sum=0\n",
    "print(\"\\neven number below \")\n",
    "for i in range(0,n):\n",
    "    if(i%2==0):\n",
    "        print(i)\n",
    "        sum=sum+i\n",
    "print(\"\\nsum of even\",sum)"
   ]
  },
  {
   "cell_type": "code",
   "execution_count": 78,
   "id": "d6d5d8ca",
   "metadata": {},
   "outputs": [
    {
     "name": "stdout",
     "output_type": "stream",
     "text": [
      "enter a number = 5\n",
      "5 * 1 = 5\n",
      "5 * 2 = 10\n",
      "5 * 3 = 15\n",
      "5 * 4 = 20\n",
      "5 * 5 = 25\n",
      "5 * 6 = 30\n",
      "5 * 7 = 35\n",
      "5 * 8 = 40\n",
      "5 * 9 = 45\n",
      "5 * 10 = 50\n"
     ]
    }
   ],
   "source": [
    "#4.multiplication->\n",
    "\n",
    "n=int(input(\"enter a number = \"))\n",
    "for i in range(1,11):\n",
    "    print(n,\"*\",i,\"=\",n*i)"
   ]
  },
  {
   "cell_type": "code",
   "execution_count": 101,
   "id": "a441be2f",
   "metadata": {},
   "outputs": [
    {
     "name": "stdout",
     "output_type": "stream",
     "text": [
      "enter = 3\n",
      "6\n"
     ]
    }
   ],
   "source": [
    "#5.factorial\n",
    "\n",
    "n = int(input(\"enter = \"))\n",
    "fact = 1\n",
    " \n",
    "for i in range(1, n+1):\n",
    "    fact = fact * i\n",
    "print(fact)"
   ]
  },
  {
   "cell_type": "code",
   "execution_count": 96,
   "id": "4140d74f",
   "metadata": {},
   "outputs": [
    {
     "name": "stdout",
     "output_type": "stream",
     "text": [
      "enter a character = this is a car\n",
      "i\n",
      "i\n",
      "a\n",
      "a\n",
      "4\n"
     ]
    }
   ],
   "source": [
    "#6.string input->vowels count\n",
    "\n",
    "a=input(\"enter a character = \").split()\n",
    "count=0\n",
    "for i in a:\n",
    "    char=i.split()\n",
    "    for char in i:\n",
    "        if char in 'a''e''i''o''u''A''E''I''O''U':\n",
    "            #print(char)\n",
    "            count+=1\n",
    "print(count)"
   ]
  },
  {
   "cell_type": "markdown",
   "id": "3e86caf1",
   "metadata": {},
   "source": [
    "# TASK"
   ]
  },
  {
   "cell_type": "code",
   "execution_count": null,
   "id": "e6e63aa1",
   "metadata": {},
   "outputs": [],
   "source": [
    "'''\n",
    "1.star pattern\n",
    "*\n",
    "**\n",
    "***\n",
    "****\n",
    "*****\n",
    "\n",
    "2.prime num 1-50\n",
    "3.sum of palindrome\n",
    "4.print ascii no\n",
    "5.string [voval],[consonant]\n",
    "6.factors of number\n",
    "'''"
   ]
  },
  {
   "cell_type": "code",
   "execution_count": 45,
   "id": "b119418b",
   "metadata": {},
   "outputs": [
    {
     "name": "stdout",
     "output_type": "stream",
     "text": [
      "Enter a number = 5\n",
      "*\n",
      "**\n",
      "***\n",
      "****\n",
      "*****\n"
     ]
    }
   ],
   "source": [
    "#1.star pattern\n",
    "\n",
    "s=int(input(\"Enter a number = \"))\n",
    "for i in range(0,s):\n",
    "    for j in range(0,i+1):\n",
    "        print(\"*\",end=\"\")\n",
    "    print(\"\\r\")"
   ]
  },
  {
   "cell_type": "code",
   "execution_count": 78,
   "id": "26d585e3",
   "metadata": {},
   "outputs": [
    {
     "name": "stdout",
     "output_type": "stream",
     "text": [
      "Enter a number = 5\n",
      "     *\n",
      "    **\n",
      "   ***\n",
      "  ****\n",
      " *****\n"
     ]
    }
   ],
   "source": [
    "s=int(input(\"Enter a number = \"))\n",
    "for i in range(0,s):\n",
    "    for k in range(s,i,-1):\n",
    "        print(\" \",end=\"\")\n",
    "    for j in range(0,i+1):\n",
    "        print(\"*\",end=\"\")\n",
    "    print(\"\\r\")"
   ]
  },
  {
   "cell_type": "code",
   "execution_count": 82,
   "id": "7c0e472d",
   "metadata": {},
   "outputs": [
    {
     "name": "stdout",
     "output_type": "stream",
     "text": [
      "Enter a number = 5\n",
      "*****\n",
      "****\n",
      "***\n",
      "**\n",
      "*\n"
     ]
    }
   ],
   "source": [
    "s=int(input(\"Enter a number = \"))\n",
    "for i in range(0,s):\n",
    "    for j in range(i,s):\n",
    "        print(\"*\",end=\"\")\n",
    "    print(\"\\r\")"
   ]
  },
  {
   "cell_type": "code",
   "execution_count": 86,
   "id": "cb425fc0",
   "metadata": {},
   "outputs": [
    {
     "name": "stdout",
     "output_type": "stream",
     "text": [
      "Enter a number = 5\n",
      "*****\n",
      " ****\n",
      "  ***\n",
      "   **\n",
      "    *\n"
     ]
    }
   ],
   "source": [
    "s=int(input(\"Enter a number = \"))\n",
    "for i in range(0,s):\n",
    "    for k in range(0,i):\n",
    "        print(\" \",end=\"\")\n",
    "    for j in range(i,s):\n",
    "        print(\"*\",end=\"\")\n",
    "    print(\"\\r\")"
   ]
  },
  {
   "cell_type": "code",
   "execution_count": 45,
   "id": "a25df994",
   "metadata": {},
   "outputs": [
    {
     "name": "stdout",
     "output_type": "stream",
     "text": [
      "Enter a range = 50\n",
      "prime number = [2, 3, 5, 7, 11, 13, 17, 19, 23, 29, 31, 37, 41, 43, 47]\n",
      "not prime number = [0, 1, 4, 6, 8, 9, 10, 12, 14, 15, 16, 18, 20, 21, 22, 24, 25, 26, 27, 28, 30, 32, 33, 34, 35, 36, 38, 39, 40, 42, 44, 45, 46, 48, 49]\n"
     ]
    }
   ],
   "source": [
    "#2. print prime in a range\n",
    "\n",
    "n=int(input(\"Enter a range = \"))\n",
    "p=[]\n",
    "np=[]\n",
    "def prime(i):\n",
    "    if(i<2):\n",
    "        return False\n",
    "    for j in range(2,i):\n",
    "        if(i%j==0):\n",
    "            return False  \n",
    "    return True\n",
    "\n",
    "for i in range(0,n):\n",
    "    if(prime(i)):\n",
    "        p.append(i)\n",
    "    else:\n",
    "        np.append(i)\n",
    "print(\"prime number =\",p)\n",
    "print(\"not prime number =\",np)"
   ]
  },
  {
   "cell_type": "code",
   "execution_count": 53,
   "id": "79175c14",
   "metadata": {},
   "outputs": [
    {
     "name": "stdout",
     "output_type": "stream",
     "text": [
      "Enter a number with spaces = 11 22\n",
      "The palindrome number = 11\n",
      "The palindrome number = 22\n",
      "The palindrome number list = ['11', '22']\n",
      "33\n"
     ]
    }
   ],
   "source": [
    "#3.sum of palindrome\n",
    "n=input(\"Enter a number with spaces = \").split()\n",
    "p=[]\n",
    "np=[]\n",
    "sum=0\n",
    "for i in n:\n",
    "    if(i==i[::-1]):\n",
    "        print(\"The palindrome number =\",i)\n",
    "        p.append(i)\n",
    "        sum=sum+int(i)\n",
    "    #else:\n",
    "        #print(\"The non palindrome number =\",i)\n",
    "        #np.append(i)\n",
    "print(\"The palindrome number list =\",p)\n",
    "#print(\"The non palindrome number list\",np)\n",
    "print(sum)"
   ]
  },
  {
   "cell_type": "code",
   "execution_count": 74,
   "id": "af97d0fe",
   "metadata": {},
   "outputs": [
    {
     "name": "stdout",
     "output_type": "stream",
     "text": [
      "Enter charactors = hello HELLO\n",
      "Ascii value of h is : 104\n",
      "Ascii value of e is : 101\n",
      "Ascii value of l is : 108\n",
      "Ascii value of l is : 108\n",
      "Ascii value of o is : 111\n",
      "Ascii value of   is : 32\n",
      "Ascii value of H is : 72\n",
      "Ascii value of E is : 69\n",
      "Ascii value of L is : 76\n",
      "Ascii value of L is : 76\n",
      "Ascii value of O is : 79\n"
     ]
    }
   ],
   "source": [
    "#4.print ascii no\n",
    "\n",
    "char=input(\"Enter charactors = \")\n",
    "for i in char:\n",
    "    a=ord(i)\n",
    "    print(\"Ascii value of\",i,\"is :\",a)"
   ]
  },
  {
   "cell_type": "code",
   "execution_count": 82,
   "id": "7b594bd7",
   "metadata": {},
   "outputs": [
    {
     "name": "stdout",
     "output_type": "stream",
     "text": [
      "enter a string = this ia not a ca\n",
      "\n",
      "vovals = ['i', 'i', 'a', 'o', 'a', 'a']\n",
      "total = 6\n",
      "\n",
      "consonant = ['t', 'h', 's', ' ', ' ', 'n', 't', ' ', ' ', 'c']\n",
      "total = 10\n"
     ]
    }
   ],
   "source": [
    "#5.string [voval],[consonant]\n",
    "\n",
    "a=input(\"enter a string = \")\n",
    "v=[]\n",
    "c=[]\n",
    "Vcount=0\n",
    "Ccount=0\n",
    "for i in a:\n",
    "    if(i in 'aeiou''AEIOU'):\n",
    "        #print(i,\"is a vowal\")\n",
    "        v.append(i)\n",
    "        Vcount+=1\n",
    "    else:\n",
    "        #print(i,\"is not a voval\")\n",
    "        c.append(i)\n",
    "        Ccount+=1\n",
    "\n",
    "print(\"\\nvovals =\",v)\n",
    "print(\"total =\",Vcount)\n",
    "print(\"\\nconsonant =\",c)\n",
    "print(\"total =\",Ccount)"
   ]
  },
  {
   "cell_type": "code",
   "execution_count": 81,
   "id": "adb89082",
   "metadata": {},
   "outputs": [
    {
     "name": "stdout",
     "output_type": "stream",
     "text": [
      "Enter a number = 100\n",
      "Factor = [1, 2, 4, 5, 10, 20, 25, 50, 100]\n"
     ]
    }
   ],
   "source": [
    "#6.factors of number\n",
    "n=int(input(\"Enter a number = \"))\n",
    "f=[]\n",
    "for i in range(1,n+1):\n",
    "    if n%i==0:\n",
    "        f.append(i)\n",
    "        #print(i)\n",
    "print(\"Factor =\",f)"
   ]
  }
 ],
 "metadata": {
  "kernelspec": {
   "display_name": "Python 3 (ipykernel)",
   "language": "python",
   "name": "python3"
  },
  "language_info": {
   "codemirror_mode": {
    "name": "ipython",
    "version": 3
   },
   "file_extension": ".py",
   "mimetype": "text/x-python",
   "name": "python",
   "nbconvert_exporter": "python",
   "pygments_lexer": "ipython3",
   "version": "3.11.3"
  }
 },
 "nbformat": 4,
 "nbformat_minor": 5
}
