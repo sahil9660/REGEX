{
 "cells": [
  {
   "cell_type": "code",
   "execution_count": 1,
   "id": "c4d77f27",
   "metadata": {},
   "outputs": [
    {
     "name": "stdout",
     "output_type": "stream",
     "text": [
      " *** \n",
      "*   *\n",
      "*   *\n",
      "     \n",
      " *** \n"
     ]
    }
   ],
   "source": [
    "size = 5\n",
    "\n",
    "for i in range(size):\n",
    "    for j in range(size):\n",
    "        if (i == 0 or i == size - 1) and (j > 0 and j < size - 1):\n",
    "            print(\"*\", end=\"\")\n",
    "        elif i > 0 and i < size//2 and (j == 0 or j == size - 1):\n",
    "            print(\"*\", end=\"\")\n",
    "        elif i == size//2 and (j == 0 or j == size - 1):\n",
    "            print(\"*\", end=\"\")\n",
    "        else:\n",
    "            print(\" \", end=\"\")\n",
    "    print()\n"
   ]
  }
 ],
 "metadata": {
  "kernelspec": {
   "display_name": "Python 3 (ipykernel)",
   "language": "python",
   "name": "python3"
  },
  "language_info": {
   "codemirror_mode": {
    "name": "ipython",
    "version": 3
   },
   "file_extension": ".py",
   "mimetype": "text/x-python",
   "name": "python",
   "nbconvert_exporter": "python",
   "pygments_lexer": "ipython3",
   "version": "3.11.3"
  }
 },
 "nbformat": 4,
 "nbformat_minor": 5
}
