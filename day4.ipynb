{
 "cells": [
  {
   "cell_type": "code",
   "execution_count": null,
   "id": "4dff4f25",
   "metadata": {},
   "outputs": [],
   "source": [
    "o=input(\"Menu:\\n1.Pizza\\n2.burger\\n3.cold cofee\\nenter a choice =\")\n",
    "if(o=1):\n",
    "    print(\"price of pizza = \")\n",
    "\n",
    "if(o=2):\n",
    "    print(\"price of pizza = \")\n",
    "\n",
    "if(o=3):\n",
    "    print(\"price of cold cofee = \")\n",
    "else:\n",
    "    print(\"invalid item choice\")"
   ]
  },
  {
   "cell_type": "code",
   "execution_count": 10,
   "id": "55fadfdc",
   "metadata": {},
   "outputs": [
    {
     "ename": "SyntaxError",
     "evalue": "invalid syntax (4180034807.py, line 1)",
     "output_type": "error",
     "traceback": [
      "\u001b[1;36m  Cell \u001b[1;32mIn[10], line 1\u001b[1;36m\u001b[0m\n\u001b[1;33m    lis=[\"Pizza\":150,\"burger\":50,\"cold\":30]\u001b[0m\n\u001b[1;37m                ^\u001b[0m\n\u001b[1;31mSyntaxError\u001b[0m\u001b[1;31m:\u001b[0m invalid syntax\n"
     ]
    }
   ],
   "source": [
    "lis=[\"Pizza\":150,\"burger\":50,\"cold\":30]"
   ]
  },
  {
   "cell_type": "code",
   "execution_count": 11,
   "id": "ad0c94e3",
   "metadata": {},
   "outputs": [
    {
     "data": {
      "text/plain": [
       "'m'"
      ]
     },
     "execution_count": 11,
     "metadata": {},
     "output_type": "execute_result"
    }
   ],
   "source": [
    "a=[1,\"sam\",\"rahul\"]\n",
    "a[1][-1]"
   ]
  },
  {
   "cell_type": "code",
   "execution_count": 21,
   "id": "56cec73f",
   "metadata": {},
   "outputs": [
    {
     "data": {
      "text/plain": [
       "(1, 'sam', 'rahul', 98.45)"
      ]
     },
     "execution_count": 21,
     "metadata": {},
     "output_type": "execute_result"
    }
   ],
   "source": [
    "a=(1,\"sam\",\"rahul\",98.45)\n",
    "a"
   ]
  },
  {
   "cell_type": "code",
   "execution_count": 22,
   "id": "c476dec3",
   "metadata": {},
   "outputs": [
    {
     "data": {
      "text/plain": [
       "[1, 'shubham', 'rahul', 98.45]"
      ]
     },
     "execution_count": 22,
     "metadata": {},
     "output_type": "execute_result"
    }
   ],
   "source": [
    "lis=list(a)\n",
    "lis[1]=\"shubham\"\n",
    "lis"
   ]
  },
  {
   "cell_type": "code",
   "execution_count": 24,
   "id": "b3bad05b",
   "metadata": {},
   "outputs": [
    {
     "data": {
      "text/plain": [
       "(1, 'shubham', 'rahul', 98.45)"
      ]
     },
     "execution_count": 24,
     "metadata": {},
     "output_type": "execute_result"
    }
   ],
   "source": [
    "a=tuple(lis)\n",
    "a"
   ]
  },
  {
   "cell_type": "code",
   "execution_count": 25,
   "id": "d5097413",
   "metadata": {},
   "outputs": [
    {
     "name": "stdout",
     "output_type": "stream",
     "text": [
      "enter size =5\n",
      "eter a element2\n",
      "eter a element5\n",
      "eter a element8\n",
      "eter a element3\n",
      "eter a element6\n",
      "['2', '5', '8', '3', '6']\n",
      "('2', '5', '8', '3', '6')\n"
     ]
    }
   ],
   "source": [
    "size=int(input(\"enter size =\"))\n",
    "li=[]\n",
    "for i in range(size):\n",
    "    ele=input(\"eter a element = \")\n",
    "    li.append(ele)\n",
    "print(li)\n",
    "a=tuple(li)\n",
    "print(a)"
   ]
  },
  {
   "cell_type": "code",
   "execution_count": 28,
   "id": "353566f1",
   "metadata": {},
   "outputs": [
    {
     "name": "stdout",
     "output_type": "stream",
     "text": [
      "enter size of 1st =3\n",
      "eter a element = 1\n",
      "eter a element = 2\n",
      "eter a element = 3\n",
      "('1', '2', '3')\n",
      "\n",
      "enter size of 2nd=3\n",
      "eter a element = 1\n",
      "eter a element = 2\n",
      "eter a element = 3\n",
      "('1', '2', '3')\n",
      "('1', '2', '3', '1', '2', '3')\n"
     ]
    }
   ],
   "source": [
    "size1=int(input(\"enter size of 1st =\"))\n",
    "li=[]\n",
    "bi=[]\n",
    "for i in range(size1):\n",
    "    ele=input(\"eter a element = \")\n",
    "    li.append(ele)\n",
    "    a=tuple(li)\n",
    "print(a)\n",
    "    \n",
    "size2=int(input(\"\\nenter size of 2nd=\"))\n",
    "for i in range(size2):\n",
    "    ele=input(\"eter a element = \")\n",
    "    bi.append(ele)\n",
    "    b=tuple(bi)\n",
    "print(b)\n",
    "c=a+b\n",
    "print(\"addition of 1st and 2nd =\",c)"
   ]
  },
  {
   "cell_type": "code",
   "execution_count": 43,
   "id": "3488906d",
   "metadata": {},
   "outputs": [
    {
     "data": {
      "text/plain": [
       "('s', 'a', 'm')"
      ]
     },
     "execution_count": 43,
     "metadata": {},
     "output_type": "execute_result"
    }
   ],
   "source": [
    "a=tuple(\"sam\")\n",
    "a"
   ]
  },
  {
   "cell_type": "code",
   "execution_count": 44,
   "id": "cb80bd21",
   "metadata": {},
   "outputs": [
    {
     "data": {
      "text/plain": [
       "('s', 'a', 'm', 's', 'a', 'm', 's', 'a', 'm')"
      ]
     },
     "execution_count": 44,
     "metadata": {},
     "output_type": "execute_result"
    }
   ],
   "source": [
    "b=3*a\n",
    "b"
   ]
  },
  {
   "cell_type": "code",
   "execution_count": 50,
   "id": "f6a9b0a1",
   "metadata": {},
   "outputs": [
    {
     "data": {
      "text/plain": [
       "3"
      ]
     },
     "execution_count": 50,
     "metadata": {},
     "output_type": "execute_result"
    }
   ],
   "source": [
    "len(a)"
   ]
  },
  {
   "cell_type": "code",
   "execution_count": 51,
   "id": "efc41907",
   "metadata": {},
   "outputs": [
    {
     "data": {
      "text/plain": [
       "'a'"
      ]
     },
     "execution_count": 51,
     "metadata": {},
     "output_type": "execute_result"
    }
   ],
   "source": [
    "min(a)"
   ]
  },
  {
   "cell_type": "code",
   "execution_count": 52,
   "id": "9882ebcd",
   "metadata": {},
   "outputs": [
    {
     "data": {
      "text/plain": [
       "'s'"
      ]
     },
     "execution_count": 52,
     "metadata": {},
     "output_type": "execute_result"
    }
   ],
   "source": [
    "max(a)"
   ]
  },
  {
   "cell_type": "code",
   "execution_count": 62,
   "id": "41bf16cc",
   "metadata": {},
   "outputs": [
    {
     "data": {
      "text/plain": [
       "4"
      ]
     },
     "execution_count": 62,
     "metadata": {},
     "output_type": "execute_result"
    }
   ],
   "source": [
    "a=(10,20,30,50,40)\n",
    "a\n",
    "a.index(40)"
   ]
  },
  {
   "cell_type": "code",
   "execution_count": 63,
   "id": "7f64a3e1",
   "metadata": {},
   "outputs": [
    {
     "data": {
      "text/plain": [
       "1"
      ]
     },
     "execution_count": 63,
     "metadata": {},
     "output_type": "execute_result"
    }
   ],
   "source": [
    "a.count(20)"
   ]
  },
  {
   "cell_type": "code",
   "execution_count": 100,
   "id": "f5d34ef3",
   "metadata": {},
   "outputs": [
    {
     "data": {
      "text/plain": [
       "1"
      ]
     },
     "execution_count": 100,
     "metadata": {},
     "output_type": "execute_result"
    }
   ],
   "source": [
    "a={'id':1,'name':'sahil','dep':'it'}\n",
    "a['id']"
   ]
  },
  {
   "cell_type": "code",
   "execution_count": 101,
   "id": "5605c30a",
   "metadata": {},
   "outputs": [
    {
     "data": {
      "text/plain": [
       "'sahil'"
      ]
     },
     "execution_count": 101,
     "metadata": {},
     "output_type": "execute_result"
    }
   ],
   "source": [
    "a['name']"
   ]
  },
  {
   "cell_type": "code",
   "execution_count": 102,
   "id": "9a542855",
   "metadata": {},
   "outputs": [
    {
     "data": {
      "text/plain": [
       "'it'"
      ]
     },
     "execution_count": 102,
     "metadata": {},
     "output_type": "execute_result"
    }
   ],
   "source": [
    "a['dep']"
   ]
  },
  {
   "cell_type": "code",
   "execution_count": 103,
   "id": "0137d54b",
   "metadata": {},
   "outputs": [
    {
     "name": "stdout",
     "output_type": "stream",
     "text": [
      "1\n",
      "sahil\n",
      "it\n"
     ]
    }
   ],
   "source": [
    "for i in a:\n",
    "    print(a[i])"
   ]
  },
  {
   "cell_type": "code",
   "execution_count": 104,
   "id": "cfdfe211",
   "metadata": {},
   "outputs": [
    {
     "name": "stdout",
     "output_type": "stream",
     "text": [
      "id\n",
      "name\n",
      "dep\n"
     ]
    }
   ],
   "source": [
    "for i in a.keys():\n",
    "    print(i)"
   ]
  },
  {
   "cell_type": "code",
   "execution_count": 105,
   "id": "051e31eb",
   "metadata": {},
   "outputs": [
    {
     "name": "stdout",
     "output_type": "stream",
     "text": [
      "1\n",
      "sahil\n",
      "it\n"
     ]
    }
   ],
   "source": [
    "for i in a.values():\n",
    "    print(i)"
   ]
  },
  {
   "cell_type": "code",
   "execution_count": 84,
   "id": "f4b41224",
   "metadata": {},
   "outputs": [
    {
     "name": "stdout",
     "output_type": "stream",
     "text": [
      "id 1\n",
      "name sam\n",
      "dep it\n"
     ]
    }
   ],
   "source": [
    "for x,y in a.items():\n",
    "    print(x,y)"
   ]
  },
  {
   "cell_type": "code",
   "execution_count": 88,
   "id": "aea90a49",
   "metadata": {},
   "outputs": [
    {
     "data": {
      "text/plain": [
       "{'id': 1, 'name': 'sam', 'dep': 'it', 'salary': 500}"
      ]
     },
     "execution_count": 88,
     "metadata": {},
     "output_type": "execute_result"
    }
   ],
   "source": [
    "a['salary']=500\n",
    "a"
   ]
  },
  {
   "cell_type": "code",
   "execution_count": 90,
   "id": "1d5acb78",
   "metadata": {},
   "outputs": [
    {
     "data": {
      "text/plain": [
       "4"
      ]
     },
     "execution_count": 90,
     "metadata": {},
     "output_type": "execute_result"
    }
   ],
   "source": [
    "len(a)"
   ]
  },
  {
   "cell_type": "code",
   "execution_count": 91,
   "id": "67d3a794",
   "metadata": {},
   "outputs": [
    {
     "data": {
      "text/plain": [
       "('salary', 500)"
      ]
     },
     "execution_count": 91,
     "metadata": {},
     "output_type": "execute_result"
    }
   ],
   "source": [
    "a.popitem()"
   ]
  },
  {
   "cell_type": "code",
   "execution_count": 92,
   "id": "048bf8f6",
   "metadata": {},
   "outputs": [
    {
     "data": {
      "text/plain": [
       "'sam'"
      ]
     },
     "execution_count": 92,
     "metadata": {},
     "output_type": "execute_result"
    }
   ],
   "source": [
    "a.pop('name')"
   ]
  },
  {
   "cell_type": "code",
   "execution_count": 106,
   "id": "cfc9f32e",
   "metadata": {},
   "outputs": [],
   "source": [
    "del(a)"
   ]
  },
  {
   "cell_type": "markdown",
   "id": "3e8670dc",
   "metadata": {},
   "source": [
    "# TASK"
   ]
  },
  {
   "cell_type": "code",
   "execution_count": null,
   "id": "b1c4d307",
   "metadata": {},
   "outputs": [],
   "source": [
    "'''\n",
    "1.write a function that take two tuples as an imput and  returns a new input alternative order\n",
    "2.create a list of tuples where each tuple represents a student name and their scores in 3 subjects\n",
    "write a fun that take list as input and returns a new list containing only the input who have average score greater then 80\n",
    "3.you have a list of words write a fun that take list of words as a input and returns a dictionary where the keys are the words and the values are the len of words\n",
    "4.you are given a list of transection where each transection is represented as a dictionary with sender, reciver and amount keys\n",
    "write a fun that take the list of tran as a input and returns the total amount sent by each user\n",
    "5.create a dictionary represting a library catalog where the keys are the book titles and values are [nhi likha] dic containing auther genre and year\n",
    "write a fun that take a library catalog as a input and returns a book of list publish in a given year\n",
    "6.write a fun that takes the dictionary as a inputs where the keys are contry name and values are list of city the fun should returns where the keys are contry name and value are cities in each contry\n",
    "7.write a fun that takes a list of tuple as input where each tuple contains students name and their score in 3 subjects the fun should return a new list of tuble where each tuple contains the student name and thier average scores\n",
    "8.you are given a list of items each represented as a tuple containing the item name and its price now write a fun that takes this list as input and returns the total coost of all the items\n",
    "9.write a fun that takes list of inteager as input and returns a tuple containing the min and max values from the list\n",
    "10.write a fun that takes a list of string as input the fun should return a dictionary where the keys are the unique strings from the input list and values are the number of ocurances of each string in the list\n",
    "'''"
   ]
  },
  {
   "cell_type": "code",
   "execution_count": 114,
   "id": "449f26fc",
   "metadata": {},
   "outputs": [
    {
     "name": "stdout",
     "output_type": "stream",
     "text": [
      "enter size of 1st =3\n",
      "eter a element = 1\n",
      "eter a element = 2\n",
      "eter a element = 3\n",
      "('1', '2', '3')\n",
      "\n",
      "enter size of 2nd=3\n",
      "eter a element = 4\n",
      "eter a element = 5\n",
      "eter a element = 6\n",
      "('4', '5', '6')\n",
      "('1', '2', '3', '4', '5', '6')\n",
      "('6', '5', '4', '3', '2', '1')\n"
     ]
    }
   ],
   "source": [
    "#1.write a function that take two tuples as an imput and  returns a new input alternative order\n",
    "\n",
    "size1=int(input(\"enter size of 1st =\"))\n",
    "li=[]\n",
    "bi=[]\n",
    "for i in range(size1):\n",
    "    ele=input(\"enter a element = \")\n",
    "    li.append(ele)\n",
    "    a=tuple(li)\n",
    "print(a)\n",
    "    \n",
    "size2=int(input(\"\\nenter size of 2nd=\"))\n",
    "for i in range(size2):\n",
    "    ele=input(\"enter a element = \")\n",
    "    bi.append(ele)\n",
    "    b=tuple(bi)\n",
    "print(b)\n",
    "\n",
    "c=a+b\n",
    "c1=c[::-1]\n",
    "print(c)\n",
    "print(c1)"
   ]
  },
  {
   "cell_type": "code",
   "execution_count": 30,
   "id": "ed42b00f",
   "metadata": {},
   "outputs": [
    {
     "data": {
      "text/plain": [
       "[('sahil =', 'c=80,c++=75,python=85'),\n",
       " ('sarthak  =', 'c=69,c++=87,pthon=91'),\n",
       " ('hemant =', 'c=80,c++=61,pyhon=88'),\n",
       " ('om prakash =', 'c=80,c++=66,pyhon=81')]"
      ]
     },
     "execution_count": 30,
     "metadata": {},
     "output_type": "execute_result"
    }
   ],
   "source": [
    "#2.create a list of tuples where each tuple represents a student name and their scores in 3 subjects\n",
    "names=(\"sahil =\",\"sarthak  =\",\"hemant =\",\"om prakash =\")\n",
    "scores=('c=80,c++=75,python=85','c=69,c++=87,pthon=91','c=80,c++=61,pyhon=88','c=80,c++=66,pyhon=81')\n",
    "data=list(zip(names,scores))\n",
    "data"
   ]
  },
  {
   "cell_type": "code",
   "execution_count": 106,
   "id": "2aa1a01d",
   "metadata": {},
   "outputs": [
    {
     "name": "stdout",
     "output_type": "stream",
     "text": [
      "total data = [('sahil =', 'c=80,c++=75,python=85'), ('sarthak  =', 'c=69,c++=87,pthon=91'), ('hemant =', 'c=80,c++=61,pyhon=88'), ('om prakash =', 'c=80,c++=66,pyhon=81')]\n",
      "\n",
      "Average Scores:\n",
      "sahil = = 80.0\n",
      "sarthak  = = 82.33333333333333\n",
      "hemant = = 76.33333333333333\n",
      "om prakash = = 75.66666666666667\n",
      "\n",
      "student whose average is above 80 = [('sarthak  =', 'c=69,c++=87,pthon=91')]\n"
     ]
    }
   ],
   "source": [
    "#write a fun that take list as input and returns a new list containing only the input who have average score greater then 80\n",
    "names=(\"sahil =\",\"sarthak  =\",\"hemant =\",\"om prakash =\")\n",
    "scores=('c=80,c++=75,python=85','c=69,c++=87,pthon=91','c=80,c++=61,pyhon=88','c=80,c++=66,pyhon=81')\n",
    "data=list(zip(names,scores))\n",
    "print(\"total data =\",data)\n",
    "def average_score(score_string):\n",
    "    student_score = [int(score.split('=')[1]) for score in score_string.split(',')]\n",
    "    return sum(student_score) / len(student_score)\n",
    "\n",
    "def filter_score(data):\n",
    "    new_data = []\n",
    "    for name, score_string in data:\n",
    "        average = average_score(score_string)\n",
    "        if average > 80:\n",
    "            new_data.append((name, score_string))\n",
    "    return new_data\n",
    "print(\"\\nAverage Scores:\")\n",
    "for name, score_string in data:\n",
    "    average = average_score(score_string)\n",
    "    print(name,\"=\", average)\n",
    "\n",
    "result = filter_score(data)\n",
    "print(\"\\nstudent whose average is above 80 =\", result)"
   ]
  },
  {
   "cell_type": "code",
   "execution_count": 22,
   "id": "1ce71e9f",
   "metadata": {},
   "outputs": [
    {
     "name": "stdout",
     "output_type": "stream",
     "text": [
      "Enter the number of names = 2\n",
      "Enter the number of subject = 2\n",
      "\n",
      "Enter 1st name = s\n",
      "Enter 1st scores for student 1 = 2\n",
      "Enter 2st scores for student 1 = 3\n",
      "\n",
      "Enter 2st name = s\n",
      "Enter 1st scores for student 2 = 2\n",
      "Enter 2st scores for student 2 = 3\n"
     ]
    },
    {
     "data": {
      "text/plain": [
       "['2', '3', '2', '3']"
      ]
     },
     "execution_count": 22,
     "metadata": {},
     "output_type": "execute_result"
    }
   ],
   "source": [
    "n=int(input(\"Enter the number of names = \"))\n",
    "s=int(input(\"Enter the number of subject = \"))\n",
    "score=[]\n",
    "for i in range(n):\n",
    "    name = input(f\"\\nEnter {i + 1}st name = \")\n",
    "    #names.append(name)\n",
    "    for j in range(s):\n",
    "        score.append(input(f\"Enter {j+1}st scores for student {i + 1} = \"))\n",
    "        \n",
    "name\n",
    "score"
   ]
  },
  {
   "cell_type": "code",
   "execution_count": 107,
   "id": "e764ff8f",
   "metadata": {},
   "outputs": [
    {
     "name": "stdout",
     "output_type": "stream",
     "text": [
      "enter a list of words = apple banana sev kiwi orange\n",
      "\n",
      "The input list =  ['apple', 'banana', 'sev', 'kiwi', 'orange']\n",
      "\n",
      "The output dictionary =  {'apple': 5, 'banana': 6, 'sev': 3, 'kiwi': 4, 'orange': 6}\n"
     ]
    }
   ],
   "source": [
    "#3.you have a list of words write a fun that take list of words as a input and returns a dictionary where the keys are the \n",
    "#words and the values are the len of words\n",
    "def dictionary(words):\n",
    "    d={}\n",
    "    for word in words:\n",
    "        d[word]=len(word)\n",
    "    return d\n",
    "words=input(\"enter a list of words = \").split()\n",
    "print(\"\\nThe input list = \",words)\n",
    "result=dictionary(words)\n",
    "print(\"\\nThe output dictionary = \",result)"
   ]
  },
  {
   "cell_type": "code",
   "execution_count": 10,
   "id": "f3bf423e",
   "metadata": {},
   "outputs": [
    {
     "name": "stdout",
     "output_type": "stream",
     "text": [
      "{'sahil': -75, 'sarthak': 50, 'hemant': -25, 'om prakash': 50}\n"
     ]
    }
   ],
   "source": [
    "#4.you are given a list of transection where each transection is represented as a dictionary with sender, reciver and amount\n",
    "#keys write a fun that take the list of tran as a input and returns the total amount sent by each user\n",
    "transactions = [\n",
    "    {'sender': 'sahil', 'receiver': 'sarthak', 'amount': 100},\n",
    "    {'sender': 'sarthak', 'receiver': 'hemant', 'amount': 50},\n",
    "    {'sender': 'hemant', 'receiver': 'om prakash', 'amount': 75},\n",
    "    {'sender': 'om prakash', 'receiver': 'sahil', 'amount': 25},\n",
    "]\n",
    "def calculate_amount(transactions):\n",
    "    total={}\n",
    "    for transaction in transactions:\n",
    "        sender = transaction['sender']\n",
    "        receiver = transaction['receiver']\n",
    "        amount = transaction['amount']\n",
    "        \n",
    "        total[sender]=total.get(sender,0)-amount\n",
    "        total[receiver]=total.get(receiver,0)+amount\n",
    "    return total\n",
    "print(calculate_amount(transactions))"
   ]
  },
  {
   "cell_type": "code",
   "execution_count": 109,
   "id": "dec84b91",
   "metadata": {},
   "outputs": [],
   "source": [
    "#5.create a dictionary represting a library catalog where the keys are the book titles and values are [nhi likha] dictionary\n",
    "#containing auther genre and year write a fun that take a library catalog as a input and returns a book of list publish in a\n",
    "#given year\n"
   ]
  },
  {
   "cell_type": "code",
   "execution_count": 110,
   "id": "81af5910",
   "metadata": {},
   "outputs": [],
   "source": [
    "#6.write a fun that takes the dictionary as a inputs where the keys are contry name and values are list of city the fun \n",
    "#should returns where the keys are contry name and value are cities in each contry\n",
    "place = {\n",
    "    'USA': ['New York', 'Los Angeles', 'Chicago'],\n",
    "    'Canada': ['Toronto', 'Vancouver'],\n",
    "    'Australia': ['Sydney', 'Melbourne', 'Brisbane'],\n",
    "    'India': ['Mumbai', 'Delhi', 'Bangalore']\n",
    "}\n",
    "def cities_country(place):\n",
    "    city={}\n",
    "    for contry,cities in place.items():\n",
    "        \n",
    "    "
   ]
  },
  {
   "cell_type": "code",
   "execution_count": 12,
   "id": "f5d46730",
   "metadata": {},
   "outputs": [
    {
     "name": "stdout",
     "output_type": "stream",
     "text": [
      "{'USA': ['New York', 'Los Angeles', 'Chicago'], 'Canada': ['Toronto', 'Vancouver'], 'Australia': ['Sydney', 'Melbourne', 'Brisbane'], 'India': ['Mumbai', 'Delhi', 'Bangalore']}\n",
      "{'USA': ['New York', 'Los Angeles', 'Chicago'], 'Canada': ['Toronto', 'Vancouver'], 'Australia': ['Sydney', 'Melbourne', 'Brisbane'], 'India': ['Mumbai', 'Delhi', 'Bangalore']}\n"
     ]
    }
   ],
   "source": [
    "def cities_by_country(input_dict):\n",
    "    cities_by_country_dict = {}\n",
    "\n",
    "    # Iterate through the input dictionary\n",
    "    for country, cities in input_dict.items():\n",
    "        # Check if the country is already in the result dictionary\n",
    "        if country in cities_by_country_dict:\n",
    "            # If it is, extend the list of cities for that country\n",
    "            cities_by_country_dict[country].extend(cities)\n",
    "        else:\n",
    "            # If it's not, add the country to the result dictionary with the list of cities\n",
    "            cities_by_country_dict[country] = cities.copy()\n",
    "\n",
    "    return cities_by_country_dict\n",
    "\n",
    "# Example usage:\n",
    "input_dict = {\n",
    "    'USA': ['New York', 'Los Angeles', 'Chicago'],\n",
    "    'Canada': ['Toronto', 'Vancouver'],\n",
    "    'Australia': ['Sydney', 'Melbourne', 'Brisbane'],\n",
    "    'India': ['Mumbai', 'Delhi', 'Bangalore']\n",
    "}\n",
    "\n",
    "result = cities_by_country(input_dict)\n",
    "print(result)\n"
   ]
  },
  {
   "cell_type": "code",
   "execution_count": 111,
   "id": "af5f5996",
   "metadata": {},
   "outputs": [],
   "source": [
    "#7.write a fun that takes a list of tuple as input where each tuple contains students name and their score in 3 subjects \n",
    "#the fun should return a new list of tuble where each tuple contains the student name and thier average scores\n"
   ]
  },
  {
   "cell_type": "code",
   "execution_count": 112,
   "id": "e9231f19",
   "metadata": {},
   "outputs": [],
   "source": [
    "#8.you are given a list of items each represented as a tuple containing the item name and its price now write a fun that \n",
    "#takes this list as input and returns the total coost of all the items\n"
   ]
  },
  {
   "cell_type": "code",
   "execution_count": 113,
   "id": "a20bac02",
   "metadata": {},
   "outputs": [],
   "source": [
    "#9.write a fun that takes list of inteager as input and returns a tuple containing the min and max values from the list\n"
   ]
  },
  {
   "cell_type": "code",
   "execution_count": null,
   "id": "6f520b47",
   "metadata": {},
   "outputs": [],
   "source": [
    "#10.write a fun that takes a list of string as input the fun should return a dictionary where the keys are the unique \n",
    "#strings from the input list and values are the number of ocurances of each string in the list\n"
   ]
  }
 ],
 "metadata": {
  "kernelspec": {
   "display_name": "Python 3 (ipykernel)",
   "language": "python",
   "name": "python3"
  },
  "language_info": {
   "codemirror_mode": {
    "name": "ipython",
    "version": 3
   },
   "file_extension": ".py",
   "mimetype": "text/x-python",
   "name": "python",
   "nbconvert_exporter": "python",
   "pygments_lexer": "ipython3",
   "version": "3.11.3"
  }
 },
 "nbformat": 4,
 "nbformat_minor": 5
}
