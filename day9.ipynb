{
 "cells": [
  {
   "cell_type": "code",
   "execution_count": 6,
   "id": "ff476e44",
   "metadata": {},
   "outputs": [
    {
     "name": "stdout",
     "output_type": "stream",
     "text": [
      "1.check, 2.inset, 3.delete, 4.show, 0 EXIT = 0\n",
      "exit\n"
     ]
    }
   ],
   "source": [
    "n=1\n",
    "lis=['sahil','sarthak','hemant','om']\n",
    "while(0<n):\n",
    "    n=int(input(\"1.check, 2.inset, 3.delete, 4.show, 0 EXIT = \"))\n",
    "    if(n==1):\n",
    "        name=input(\"enter your name = \")\n",
    "        if name in lis:\n",
    "            print(\"yes your name is present in the list\")\n",
    "        else:\n",
    "            print(\"no your name is not present in the list\")\n",
    "    elif(n==2):\n",
    "        name=input(\"enter your name to insetinng in the list = \")\n",
    "        lis.append(name)\n",
    "    elif(n==3):\n",
    "        name=input(\"enter your name to delete = \")\n",
    "        lis.remove(name)\n",
    "    elif(n==4):\n",
    "        print(lis)\n",
    "    elif(n==0):\n",
    "        print(\"exit\")\n",
    "    else:\n",
    "        print(\"invalid input\")"
   ]
  },
  {
   "cell_type": "code",
   "execution_count": 5,
   "id": "05e6ba2e",
   "metadata": {},
   "outputs": [
    {
     "data": {
      "text/plain": [
       "['Pass', 'Fail', 'Fail', 'Fail', 'Pass', 'Pass']"
      ]
     },
     "execution_count": 5,
     "metadata": {},
     "output_type": "execute_result"
    }
   ],
   "source": [
    "age=[50,10,30,40,101,150]\n",
    "for i in range(len(age)):\n",
    "    if age[i]>=50:\n",
    "        age[i]='Pass'\n",
    "    else:\n",
    "        age[i]='Fail'\n",
    "age"
   ]
  },
  {
   "cell_type": "code",
   "execution_count": null,
   "id": "2c741a8c",
   "metadata": {},
   "outputs": [],
   "source": [
    "#second largest number\n",
    "n=list(map(int,input(\"enter many um with spaces = \").split()))\n",
    "for i in n-1:\n",
    "    if i>i+1:\n",
    "        "
   ]
  },
  {
   "cell_type": "code",
   "execution_count": 3,
   "id": "74396583",
   "metadata": {},
   "outputs": [
    {
     "name": "stdout",
     "output_type": "stream",
     "text": [
      "enter a number = 10\n"
     ]
    },
    {
     "data": {
      "text/plain": [
       "[2, 3, 5, 7]"
      ]
     },
     "execution_count": 3,
     "metadata": {},
     "output_type": "execute_result"
    }
   ],
   "source": [
    "n=int(input(\"enter a number = \"))\n",
    "prime=[]\n",
    "\n",
    "for i in range(2,n):\n",
    "    count=0\n",
    "    for j in range(2,i):\n",
    "        if(i%j==0):\n",
    "            count+=1\n",
    "    if(count==0):\n",
    "        prime.append(i)\n",
    "prime"
   ]
  },
  {
   "cell_type": "code",
   "execution_count": 4,
   "id": "7ff8ccf8",
   "metadata": {},
   "outputs": [
    {
     "name": "stdout",
     "output_type": "stream",
     "text": [
      "enter a number = 10\n"
     ]
    },
    {
     "data": {
      "text/plain": [
       "[2, 3, 5, 7]"
      ]
     },
     "execution_count": 4,
     "metadata": {},
     "output_type": "execute_result"
    }
   ],
   "source": [
    "n=int(input(\"enter a number = \"))\n",
    "prime = []\n",
    "\n",
    "\n",
    "for i in range(2,n):\n",
    "    count=0\n",
    "    for j in range(2,i):\n",
    "        if(i%j==0):\n",
    "            count = 1\n",
    "            \n",
    "    if count!=1:\n",
    "        prime.append(i)\n",
    "        \n",
    "\n",
    "prime"
   ]
  }
 ],
 "metadata": {
  "kernelspec": {
   "display_name": "Python 3 (ipykernel)",
   "language": "python",
   "name": "python3"
  },
  "language_info": {
   "codemirror_mode": {
    "name": "ipython",
    "version": 3
   },
   "file_extension": ".py",
   "mimetype": "text/x-python",
   "name": "python",
   "nbconvert_exporter": "python",
   "pygments_lexer": "ipython3",
   "version": "3.11.3"
  }
 },
 "nbformat": 4,
 "nbformat_minor": 5
}
