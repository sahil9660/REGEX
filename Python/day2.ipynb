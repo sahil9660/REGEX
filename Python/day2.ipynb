{
 "cells": [
  {
   "cell_type": "code",
   "execution_count": null,
   "id": "01983025",
   "metadata": {},
   "outputs": [],
   "source": [
    "fruits=[\"apple\",\"banana\",\"kiwi\"]\n",
    "for fruit in fruits:\n",
    "    print(fruit)"
   ]
  },
  {
   "cell_type": "code",
   "execution_count": null,
   "id": "0bb8fc37",
   "metadata": {},
   "outputs": [],
   "source": [
    "fruits[0]"
   ]
  },
  {
   "cell_type": "code",
   "execution_count": null,
   "id": "8abc04d8",
   "metadata": {},
   "outputs": [],
   "source": [
    "fruits"
   ]
  },
  {
   "cell_type": "code",
   "execution_count": null,
   "id": "b15d632f",
   "metadata": {},
   "outputs": [],
   "source": [
    "list[]\n",
    "for i in range(5):\n",
    "    list=input(\"enter a number: \")\n",
    "    print(list[])"
   ]
  },
  {
   "cell_type": "markdown",
   "id": "00bf3f44",
   "metadata": {},
   "source": [
    "\n",
    "# TASK"
   ]
  },
  {
   "cell_type": "code",
   "execution_count": null,
   "id": "8b47bd39",
   "metadata": {},
   "outputs": [],
   "source": [
    "'''\n",
    "1.space seperated->3input->add->print\n",
    "2.sentence->words count\n",
    "3.user list->max,min\n",
    "4.user num string\n",
    "  even->cube\n",
    "  odd->square\n",
    "5.check word in sentence\n",
    "6.list->prime list\n",
    "7.list->newlist->[orango word(only same 1st and last word)]\n",
    "8.list compliment-> squares(perfect)\n",
    "9.list of number->print palindrome number\n",
    "10.list->reverse each word->put on list\n",
    "'''"
   ]
  },
  {
   "cell_type": "code",
   "execution_count": 8,
   "id": "cf32ca63",
   "metadata": {},
   "outputs": [
    {
     "name": "stdout",
     "output_type": "stream",
     "text": [
      "enter five number = 5\n",
      "enter five number = 5\n",
      "enter five number = 5\n",
      "enter five number = 5\n",
      "enter five number = 5\n",
      "25\n"
     ]
    }
   ],
   "source": [
    "#1.Space seperated->3input->add->print\n",
    "\n",
    "lis=[int(input(\"Enter five number = \"))for _ in range(5)]\n",
    "sum=0\n",
    "for i in lis:\n",
    "    sum=sum+i\n",
    "print(sum)"
   ]
  },
  {
   "cell_type": "code",
   "execution_count": 82,
   "id": "b055c7bc",
   "metadata": {},
   "outputs": [
    {
     "name": "stdout",
     "output_type": "stream",
     "text": [
      "Enter a sentence = thi is a sahil\n",
      "Total word is list is = 4\n"
     ]
    }
   ],
   "source": [
    "#2.Sentence->words count\n",
    "\n",
    "s=input(\"Enter a sentence = \").split()\n",
    "count=0\n",
    "for i in range(0,len(s)):\n",
    "    count=count+1\n",
    "print(\"Total word is list is =\",count)"
   ]
  },
  {
   "cell_type": "code",
   "execution_count": 83,
   "id": "2f447632",
   "metadata": {},
   "outputs": [
    {
     "name": "stdout",
     "output_type": "stream",
     "text": [
      "Enter number by spaces = 2 5 3 7 9\n",
      "Minimum number in the list = 2\n",
      "Maximum number in the list = 9\n"
     ]
    }
   ],
   "source": [
    "#3.User list->max,min\n",
    "\n",
    "lis=input(\"Enter number by spaces = \").split()\n",
    "#lis=[int(input(\"enter five number = \"))for _ in range(5)]\n",
    "print(\"Minimum number in the list =\",min(lis))\n",
    "print(\"Maximum number in the list =\",max(lis))"
   ]
  },
  {
   "cell_type": "code",
   "execution_count": 81,
   "id": "e425e3b4",
   "metadata": {},
   "outputs": [
    {
     "name": "stdout",
     "output_type": "stream",
     "text": [
      "Enter a number string = 1 3 7 4\n",
      "The result = [1, 27, 49, 64]\n"
     ]
    }
   ],
   "source": [
    "#4.User num string\n",
    "#  even->cube\n",
    "#  odd->square\n",
    "\n",
    "lis=input(\"Enter a number string = \").split()\n",
    "number=[int(num) for num in lis]\n",
    "result=[num**2 if i%2==0 else num**3 for i,num in enumerate(number)]\n",
    "print(\"The result =\",result)"
   ]
  },
  {
   "cell_type": "code",
   "execution_count": 86,
   "id": "8e394956",
   "metadata": {},
   "outputs": [
    {
     "name": "stdout",
     "output_type": "stream",
     "text": [
      "Enter a sentence = this is a sahil\n",
      "Enter a word = a\n",
      "The word a is present in sentence at position 3\n"
     ]
    }
   ],
   "source": [
    "#5.check word in sentence\n",
    "\n",
    "s=input(\"Enter a sentence = \").split()\n",
    "w=input(\"Enter a word = \")\n",
    "count=0\n",
    "for i in s:\n",
    "    count+=1\n",
    "    if(w==i):\n",
    "        print(\"The word\",w,\"is present in sentence at position\",count)\n",
    "    else:\n",
    "        continue"
   ]
  },
  {
   "cell_type": "code",
   "execution_count": 9,
   "id": "13ebae08",
   "metadata": {},
   "outputs": [
    {
     "name": "stdout",
     "output_type": "stream",
     "text": [
      "Enter a range = 1 2 3 4 5  6 7 8 9 0 11 22 33 44 55 66 67 69 71\n",
      "prime number = [2, 3, 5, 7, 11, 67, 71]\n",
      "not prime number = [1, 4, 6, 8, 9, 0, 22, 33, 44, 55, 66, 69]\n"
     ]
    }
   ],
   "source": [
    "#6.list->prime list\n",
    "def prime(i):\n",
    "    if(i<2):\n",
    "        return False\n",
    "    for j in range(2,int(i**0.5)+1):\n",
    "        if(i%j==0):\n",
    "            return False\n",
    "    return True\n",
    "\n",
    "n=input(\"Enter a numbers = \").split()\n",
    "p=[]\n",
    "np=[]\n",
    "for num in n:\n",
    "    i=int(num)\n",
    "    if prime(i):\n",
    "        p.append(i)\n",
    "    else:\n",
    "        np.append(i)\n",
    "print(\"prime number =\",p)\n",
    "print(\"not prime number =\",np)"
   ]
  },
  {
   "cell_type": "code",
   "execution_count": 75,
   "id": "153d06d3",
   "metadata": {},
   "outputs": [
    {
     "name": "stdout",
     "output_type": "stream",
     "text": [
      "enter some words = hi that how wow what\n",
      "The orango word = that\n",
      "The orango word = wow\n",
      "The orango word list = ['that', 'wow']\n"
     ]
    }
   ],
   "source": [
    "#7.list->newlist->[orango word(only same 1st and last word)]\n",
    "lis=input(\"enter some words = \").split()\n",
    "o=[]\n",
    "for i in lis:\n",
    "    if(i[0]==i[-1]):\n",
    "        print(\"The orango word =\",i)\n",
    "        o.append(i)\n",
    "    else:\n",
    "        continue\n",
    "print(\"The orango word list =\",o)"
   ]
  },
  {
   "cell_type": "code",
   "execution_count": 71,
   "id": "fb48355b",
   "metadata": {},
   "outputs": [
    {
     "name": "stdout",
     "output_type": "stream",
     "text": [
      "Enter numbers = 16\n",
      "no\n"
     ]
    }
   ],
   "source": [
    "#8.list compliment-> squareroot(perfect)\n",
    "n=int(input(\"Enter numbers = \"))\n",
    "if(n**0.5 == int):\n",
    "    print(\"perfect square\")\n",
    "else:\n",
    "    print(\"no\")"
   ]
  },
  {
   "cell_type": "code",
   "execution_count": 3,
   "id": "4cb5da21",
   "metadata": {},
   "outputs": [
    {
     "name": "stdout",
     "output_type": "stream",
     "text": [
      "Enter a number with spaces = 23432 666 456 739837\n",
      "The palindrome number = 23432\n",
      "The palindrome number = 666\n",
      "The palindrome number list = ['23432', '666']\n"
     ]
    }
   ],
   "source": [
    "#9.list of number->print palindrome number\n",
    "n=input(\"Enter a number with spaces = \").split()\n",
    "p=[]\n",
    "np=[]\n",
    "for i in n:\n",
    "    if(i==i[::-1]):\n",
    "        print(\"The palindrome number =\",i)\n",
    "        p.append(i)\n",
    "    else:\n",
    "        continue\n",
    "        #print(\"The non palindrome number =\",i)\n",
    "        #np.append(i)\n",
    "print(\"The palindrome number list =\",p)\n",
    "#print(\"The non palindrome number list\",np)"
   ]
  },
  {
   "cell_type": "code",
   "execution_count": 12,
   "id": "b8a90008",
   "metadata": {},
   "outputs": [
    {
     "name": "stdout",
     "output_type": "stream",
     "text": [
      "Enter sentence = this is sahil\n",
      "Reversed word list = ['siht', 'si', 'lihas']\n"
     ]
    }
   ],
   "source": [
    "#10.list->reverse each word->put on list\n",
    "lis=input(\"Enter sentence = \").split()\n",
    "r=[]\n",
    "for i in lis:\n",
    "    #print(\"Reversed word =\",i[::-1])\n",
    "    r.append(i[::-1])\n",
    "print(\"Reversed word list =\",r)"
   ]
  }
 ],
 "metadata": {
  "kernelspec": {
   "display_name": "Python 3 (ipykernel)",
   "language": "python",
   "name": "python3"
  },
  "language_info": {
   "codemirror_mode": {
    "name": "ipython",
    "version": 3
   },
   "file_extension": ".py",
   "mimetype": "text/x-python",
   "name": "python",
   "nbconvert_exporter": "python",
   "pygments_lexer": "ipython3",
   "version": "3.11.3"
  }
 },
 "nbformat": 4,
 "nbformat_minor": 5
}
