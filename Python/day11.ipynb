{
 "cells": [
  {
   "cell_type": "code",
   "execution_count": 1,
   "id": "6b67189d",
   "metadata": {},
   "outputs": [],
   "source": [
    "#dictionary\n",
    "# key - identifier -unique value - data\n",
    "#{key : value}\n",
    "#key = immutable\n"
   ]
  },
  {
   "cell_type": "code",
   "execution_count": 33,
   "id": "77956e0d",
   "metadata": {},
   "outputs": [
    {
     "name": "stdout",
     "output_type": "stream",
     "text": [
      "{1: 'yash', 'sid': 110, 'friend': 'mandeep'}\n",
      "<class 'dict'>\n"
     ]
    }
   ],
   "source": [
    "mydic={1:\"yash\",\"sid\":110,\"friend\":\"mandeep\"}\n",
    "print(mydic)\n",
    "print(type(mydic))"
   ]
  },
  {
   "cell_type": "code",
   "execution_count": 34,
   "id": "59679241",
   "metadata": {},
   "outputs": [
    {
     "name": "stdout",
     "output_type": "stream",
     "text": [
      "{1: 'yash', 'sid': 110, 'friend': 'hemant'}\n"
     ]
    }
   ],
   "source": [
    "mydic[\"friend\"]=\"hemant\"\n",
    "print(mydic)"
   ]
  },
  {
   "cell_type": "code",
   "execution_count": 35,
   "id": "54d42ad4",
   "metadata": {},
   "outputs": [
    {
     "data": {
      "text/plain": [
       "{1: 'yash', 'sid': 110, 'friend': 'hemant', 'email': 'sahil@gmail.com'}"
      ]
     },
     "execution_count": 35,
     "metadata": {},
     "output_type": "execute_result"
    }
   ],
   "source": [
    "mydic[\"email\"]=\"sahil@gmail.com\"\n",
    "mydic"
   ]
  },
  {
   "cell_type": "code",
   "execution_count": 36,
   "id": "9b281b69",
   "metadata": {},
   "outputs": [
    {
     "data": {
      "text/plain": [
       "'sahil@gmail.com'"
      ]
     },
     "execution_count": 36,
     "metadata": {},
     "output_type": "execute_result"
    }
   ],
   "source": [
    "mydic.get(\"email\",\"no data\")"
   ]
  },
  {
   "cell_type": "code",
   "execution_count": 37,
   "id": "4bdab208",
   "metadata": {},
   "outputs": [
    {
     "data": {
      "text/plain": [
       "'no data'"
      ]
     },
     "execution_count": 37,
     "metadata": {},
     "output_type": "execute_result"
    }
   ],
   "source": [
    "mydic.get(\"email2\",\"no data\")"
   ]
  },
  {
   "cell_type": "code",
   "execution_count": 38,
   "id": "3b27ba68",
   "metadata": {},
   "outputs": [
    {
     "data": {
      "text/plain": [
       "dict_keys([1, 'sid', 'friend', 'email'])"
      ]
     },
     "execution_count": 38,
     "metadata": {},
     "output_type": "execute_result"
    }
   ],
   "source": [
    "mydic.keys()"
   ]
  },
  {
   "cell_type": "code",
   "execution_count": 39,
   "id": "9f56a042",
   "metadata": {},
   "outputs": [
    {
     "data": {
      "text/plain": [
       "'yash'"
      ]
     },
     "execution_count": 39,
     "metadata": {},
     "output_type": "execute_result"
    }
   ],
   "source": [
    "mydic.pop(1)"
   ]
  },
  {
   "cell_type": "code",
   "execution_count": 40,
   "id": "f162e1d5",
   "metadata": {},
   "outputs": [
    {
     "data": {
      "text/plain": [
       "{'sid': 110, 'friend': 'hemant', 'email': 'sahil@gmail.com'}"
      ]
     },
     "execution_count": 40,
     "metadata": {},
     "output_type": "execute_result"
    }
   ],
   "source": [
    "mydic"
   ]
  },
  {
   "cell_type": "code",
   "execution_count": 41,
   "id": "991bb639",
   "metadata": {},
   "outputs": [
    {
     "data": {
      "text/plain": [
       "('email', 'sahil@gmail.com')"
      ]
     },
     "execution_count": 41,
     "metadata": {},
     "output_type": "execute_result"
    }
   ],
   "source": [
    "mydic.popitem()"
   ]
  },
  {
   "cell_type": "code",
   "execution_count": 42,
   "id": "2ef7e50d",
   "metadata": {},
   "outputs": [
    {
     "data": {
      "text/plain": [
       "{'sid': 110, 'friend': 'hemant'}"
      ]
     },
     "execution_count": 42,
     "metadata": {},
     "output_type": "execute_result"
    }
   ],
   "source": [
    "mydic"
   ]
  },
  {
   "cell_type": "markdown",
   "id": "2549af3f",
   "metadata": {},
   "source": [
    "# Assignment"
   ]
  },
  {
   "cell_type": "code",
   "execution_count": 1,
   "id": "a75ed79a",
   "metadata": {},
   "outputs": [],
   "source": [
    "#update,setdefault,enamurate"
   ]
  },
  {
   "cell_type": "code",
   "execution_count": 2,
   "id": "4f1b0a53",
   "metadata": {},
   "outputs": [
    {
     "data": {
      "text/plain": [
       "{1: 'sahil', 2: 'hemant', 3: 'sarthak', 'hi': 100}"
      ]
     },
     "execution_count": 2,
     "metadata": {},
     "output_type": "execute_result"
    }
   ],
   "source": [
    "mydictionary={1:\"sahil\",2:\"aman\",3:\"sarthak\",2:\"hemant\",\"hi\":100}\n",
    "mydictionary"
   ]
  },
  {
   "cell_type": "code",
   "execution_count": 56,
   "id": "8424005f",
   "metadata": {},
   "outputs": [
    {
     "name": "stdout",
     "output_type": "stream",
     "text": [
      "1\n",
      "2\n",
      "3\n",
      "hi\n"
     ]
    }
   ],
   "source": [
    "for data in mydictionary:\n",
    "    print(data)"
   ]
  },
  {
   "cell_type": "code",
   "execution_count": 70,
   "id": "4e7c844a",
   "metadata": {},
   "outputs": [
    {
     "name": "stdout",
     "output_type": "stream",
     "text": [
      "1 sahil\n",
      "2 hemant\n",
      "3 sarthak\n",
      "hi 100\n"
     ]
    }
   ],
   "source": [
    "for i in mydictionary.items():\n",
    "    key,data=i\n",
    "    print(key,data)"
   ]
  },
  {
   "cell_type": "code",
   "execution_count": 71,
   "id": "1f57f95d",
   "metadata": {},
   "outputs": [
    {
     "name": "stdout",
     "output_type": "stream",
     "text": [
      "1 sahil\n",
      "2 hemant\n",
      "3 sarthak\n",
      "hi 100\n"
     ]
    }
   ],
   "source": [
    "for key,data in mydictionary.items():\n",
    "    print(key,data)"
   ]
  },
  {
   "cell_type": "code",
   "execution_count": 57,
   "id": "8bc00f76",
   "metadata": {},
   "outputs": [
    {
     "name": "stdout",
     "output_type": "stream",
     "text": [
      "sahil\n",
      "hemant\n",
      "sarthak\n",
      "100\n"
     ]
    }
   ],
   "source": [
    "for data in mydictionary.values():\n",
    "    print(data)"
   ]
  },
  {
   "cell_type": "code",
   "execution_count": 58,
   "id": "c02e7b05",
   "metadata": {},
   "outputs": [
    {
     "name": "stdout",
     "output_type": "stream",
     "text": [
      "<class 'str'>\n",
      "<class 'str'>\n",
      "<class 'str'>\n",
      "<class 'int'>\n"
     ]
    }
   ],
   "source": [
    "for data in mydictionary.values():\n",
    "    print(type(data))"
   ]
  },
  {
   "cell_type": "code",
   "execution_count": 59,
   "id": "4b9d8270",
   "metadata": {},
   "outputs": [
    {
     "name": "stdout",
     "output_type": "stream",
     "text": [
      "<class 'tuple'>\n"
     ]
    }
   ],
   "source": [
    "mytuple=(11000,20008)\n",
    "print(type(mytuple))"
   ]
  },
  {
   "cell_type": "code",
   "execution_count": 61,
   "id": "6229fb7b",
   "metadata": {},
   "outputs": [
    {
     "name": "stdout",
     "output_type": "stream",
     "text": [
      "11000 20008\n"
     ]
    }
   ],
   "source": [
    "x,y=mytuple\n",
    "print(x,y)"
   ]
  },
  {
   "cell_type": "code",
   "execution_count": 62,
   "id": "c09fb8e6",
   "metadata": {},
   "outputs": [
    {
     "data": {
      "text/plain": [
       "{1: 'sahil', 2: 'hemant', 3: 'sarthak', 'hi': 100}"
      ]
     },
     "execution_count": 62,
     "metadata": {},
     "output_type": "execute_result"
    }
   ],
   "source": [
    "mydictionary"
   ]
  },
  {
   "cell_type": "code",
   "execution_count": 63,
   "id": "4664fe52",
   "metadata": {},
   "outputs": [
    {
     "data": {
      "text/plain": [
       "dict_items([(1, 'sahil'), (2, 'hemant'), (3, 'sarthak'), ('hi', 100)])"
      ]
     },
     "execution_count": 63,
     "metadata": {},
     "output_type": "execute_result"
    }
   ],
   "source": [
    "mydictionary.items()"
   ]
  },
  {
   "cell_type": "code",
   "execution_count": 64,
   "id": "bf753658",
   "metadata": {},
   "outputs": [
    {
     "data": {
      "text/plain": [
       "dict_values(['sahil', 'hemant', 'sarthak', 100])"
      ]
     },
     "execution_count": 64,
     "metadata": {},
     "output_type": "execute_result"
    }
   ],
   "source": [
    "mydictionary.values()"
   ]
  },
  {
   "cell_type": "code",
   "execution_count": 65,
   "id": "be68f1f6",
   "metadata": {},
   "outputs": [
    {
     "data": {
      "text/plain": [
       "dict_values(['sahil', 'hemant', 'sarthak', 100])"
      ]
     },
     "execution_count": 65,
     "metadata": {},
     "output_type": "execute_result"
    }
   ],
   "source": [
    "mydictionary.values()"
   ]
  },
  {
   "cell_type": "code",
   "execution_count": 66,
   "id": "d332243b",
   "metadata": {},
   "outputs": [],
   "source": [
    "mylist=[(1, 'sahil'), (2, 'hemant'), (3, 'sarthak'), ('hi', 100)]"
   ]
  },
  {
   "cell_type": "code",
   "execution_count": 67,
   "id": "a3fa381b",
   "metadata": {},
   "outputs": [
    {
     "name": "stdout",
     "output_type": "stream",
     "text": [
      "(1, 'sahil')\n",
      "(2, 'hemant')\n",
      "(3, 'sarthak')\n",
      "('hi', 100)\n"
     ]
    }
   ],
   "source": [
    "for i in mylist:\n",
    "    print(i)"
   ]
  },
  {
   "cell_type": "code",
   "execution_count": 68,
   "id": "9eee8e7f",
   "metadata": {},
   "outputs": [
    {
     "name": "stdout",
     "output_type": "stream",
     "text": [
      "1 sahil\n",
      "2 hemant\n",
      "3 sarthak\n",
      "hi 100\n"
     ]
    }
   ],
   "source": [
    "for i in mylist:\n",
    "    key,data=i\n",
    "    print(key,data)"
   ]
  },
  {
   "cell_type": "code",
   "execution_count": 72,
   "id": "0eef9340",
   "metadata": {},
   "outputs": [
    {
     "name": "stdout",
     "output_type": "stream",
     "text": [
      "1 sahil\n",
      "2 hemant\n",
      "3 sarthak\n",
      "hi 100\n"
     ]
    }
   ],
   "source": [
    "for key,data in mylist:\n",
    "    print(key,data)"
   ]
  },
  {
   "cell_type": "markdown",
   "id": "642980b7",
   "metadata": {},
   "source": [
    "# Assignment"
   ]
  },
  {
   "cell_type": "code",
   "execution_count": 73,
   "id": "9bc21d83",
   "metadata": {},
   "outputs": [],
   "source": [
    "#Q1 take a input from a user and find out all consonant with the count in form of dictionary\n",
    "#prime,fibonacci,armstrong,palindrome"
   ]
  },
  {
   "cell_type": "code",
   "execution_count": null,
   "id": "db63c2cc",
   "metadata": {},
   "outputs": [],
   "source": [
    "#Q1 take a input from a user and find out all consonant with the count in form of dictionary\n"
   ]
  },
  {
   "cell_type": "code",
   "execution_count": 74,
   "id": "a3b793c8",
   "metadata": {},
   "outputs": [],
   "source": [
    "#set: mutable all element without order and index"
   ]
  },
  {
   "cell_type": "code",
   "execution_count": 77,
   "id": "4b89f274",
   "metadata": {},
   "outputs": [
    {
     "name": "stdout",
     "output_type": "stream",
     "text": [
      "<class 'set'>\n"
     ]
    }
   ],
   "source": [
    "myset=set({})\n",
    "print(type(myset))"
   ]
  },
  {
   "cell_type": "code",
   "execution_count": 83,
   "id": "d95c74ef",
   "metadata": {},
   "outputs": [
    {
     "name": "stdout",
     "output_type": "stream",
     "text": [
      "<class 'set'>\n",
      "{10, 20, 30, 300}\n"
     ]
    }
   ],
   "source": [
    "myset={10,20,30,300,20,30}\n",
    "print(type(myset))\n",
    "print(myset)"
   ]
  },
  {
   "cell_type": "code",
   "execution_count": 84,
   "id": "971773a8",
   "metadata": {},
   "outputs": [
    {
     "data": {
      "text/plain": [
       "(10, 20, 30, 10)"
      ]
     },
     "execution_count": 84,
     "metadata": {},
     "output_type": "execute_result"
    }
   ],
   "source": [
    "mytuple=(10,20,30,10)\n",
    "mytuple\n",
    "#differ in tuple and set"
   ]
  },
  {
   "cell_type": "code",
   "execution_count": 97,
   "id": "fd1f9f7b",
   "metadata": {},
   "outputs": [
    {
     "data": {
      "text/plain": [
       "{(10, 20), 10, 20, 30, 300}"
      ]
     },
     "execution_count": 97,
     "metadata": {},
     "output_type": "execute_result"
    }
   ],
   "source": [
    "myset={10,20,30,300,20,30,(10,20)}\n",
    "myset"
   ]
  },
  {
   "cell_type": "code",
   "execution_count": 98,
   "id": "7f1b4cc5",
   "metadata": {},
   "outputs": [
    {
     "data": {
      "text/plain": [
       "{(10, 20), 10, 1000, 20, 30, 300}"
      ]
     },
     "execution_count": 98,
     "metadata": {},
     "output_type": "execute_result"
    }
   ],
   "source": [
    "myset.add(1000)\n",
    "myset"
   ]
  },
  {
   "cell_type": "code",
   "execution_count": 99,
   "id": "2519c239",
   "metadata": {},
   "outputs": [
    {
     "data": {
      "text/plain": [
       "set()"
      ]
     },
     "execution_count": 99,
     "metadata": {},
     "output_type": "execute_result"
    }
   ],
   "source": [
    "myset.clear()\n",
    "myset"
   ]
  },
  {
   "cell_type": "code",
   "execution_count": 100,
   "id": "d6821a5d",
   "metadata": {},
   "outputs": [
    {
     "data": {
      "text/plain": [
       "{(10, 20), 20, 30, 300}"
      ]
     },
     "execution_count": 100,
     "metadata": {},
     "output_type": "execute_result"
    }
   ],
   "source": [
    "myset={10,20,30,300,20,30,(10,20)}\n",
    "myset.remove(10)\n",
    "myset\n",
    "#will error if no ele"
   ]
  },
  {
   "cell_type": "code",
   "execution_count": 101,
   "id": "235d9536",
   "metadata": {},
   "outputs": [
    {
     "data": {
      "text/plain": [
       "{(10, 20), 20, 30, 300}"
      ]
     },
     "execution_count": 101,
     "metadata": {},
     "output_type": "execute_result"
    }
   ],
   "source": [
    "myset.discard(10)\n",
    "myset\n",
    "#no error when no ele"
   ]
  },
  {
   "cell_type": "markdown",
   "id": "ba3a6a1c",
   "metadata": {},
   "source": [
    "# Assignment"
   ]
  },
  {
   "cell_type": "code",
   "execution_count": 102,
   "id": "38eae3fa",
   "metadata": {},
   "outputs": [],
   "source": [
    "#deep copy and shallow copy\n",
    "\n",
    "#TRY in set = difference , isdisjoint,issuperset"
   ]
  },
  {
   "cell_type": "code",
   "execution_count": 104,
   "id": "3f3cd6e0",
   "metadata": {},
   "outputs": [
    {
     "data": {
      "text/plain": [
       "{1, 2, 3, 4, 5, 6, 7, 8}"
      ]
     },
     "execution_count": 104,
     "metadata": {},
     "output_type": "execute_result"
    }
   ],
   "source": [
    "mysetA={1,2,3,4,5}\n",
    "mysetB={4,5,6,7,8}\n",
    "mysetA.union(mysetB)"
   ]
  },
  {
   "cell_type": "code",
   "execution_count": 105,
   "id": "e3113cd0",
   "metadata": {},
   "outputs": [
    {
     "data": {
      "text/plain": [
       "{4, 5}"
      ]
     },
     "execution_count": 105,
     "metadata": {},
     "output_type": "execute_result"
    }
   ],
   "source": [
    "mysetA.intersection(mysetB)"
   ]
  },
  {
   "cell_type": "code",
   "execution_count": 106,
   "id": "45f47a3a",
   "metadata": {},
   "outputs": [
    {
     "data": {
      "text/plain": [
       "{1, 2, 3, 4, 5}"
      ]
     },
     "execution_count": 106,
     "metadata": {},
     "output_type": "execute_result"
    }
   ],
   "source": [
    "mysetA"
   ]
  },
  {
   "cell_type": "code",
   "execution_count": 108,
   "id": "0b3ba054",
   "metadata": {},
   "outputs": [
    {
     "data": {
      "text/plain": [
       "{4, 5}"
      ]
     },
     "execution_count": 108,
     "metadata": {},
     "output_type": "execute_result"
    }
   ],
   "source": [
    "mysetA.intersection_update(mysetB)\n",
    "mysetA"
   ]
  },
  {
   "cell_type": "markdown",
   "id": "7401c4b4",
   "metadata": {},
   "source": [
    "# Assignment"
   ]
  },
  {
   "cell_type": "code",
   "execution_count": null,
   "id": "4f230f46",
   "metadata": {},
   "outputs": [],
   "source": [
    "# take a input from a user and find out all the unique word(sequence no matter)"
   ]
  },
  {
   "cell_type": "code",
   "execution_count": 113,
   "id": "cd925dee",
   "metadata": {},
   "outputs": [
    {
     "name": "stdout",
     "output_type": "stream",
     "text": [
      "enter element = 123\n",
      "1\n",
      "2\n",
      "3\n"
     ]
    },
    {
     "data": {
      "text/plain": [
       "['1', '2', '3']"
      ]
     },
     "execution_count": 113,
     "metadata": {},
     "output_type": "execute_result"
    }
   ],
   "source": [
    "mysat=list(input(\"enter element = \"))\n",
    "for i in mysat:\n",
    "    print(i)\n",
    "mysat"
   ]
  },
  {
   "cell_type": "code",
   "execution_count": null,
   "id": "fe07ab85",
   "metadata": {},
   "outputs": [],
   "source": []
  },
  {
   "cell_type": "code",
   "execution_count": 120,
   "id": "f2eee494",
   "metadata": {},
   "outputs": [
    {
     "name": "stdout",
     "output_type": "stream",
     "text": [
      "1\n",
      "*\n",
      "2\n",
      "****\n",
      "3\n",
      "*********\n",
      "4\n",
      "****************\n",
      "5\n",
      "*************************\n",
      "6\n",
      "************************************\n",
      "7\n",
      "*************************************************\n",
      "8\n",
      "****************************************************************\n"
     ]
    }
   ],
   "source": [
    "for i in range(1,9):\n",
    "    print(i)\n",
    "    for j in range(0,i*i):\n",
    "        print(\"*\",end=\"\")\n",
    "    print()"
   ]
  },
  {
   "cell_type": "code",
   "execution_count": 123,
   "id": "fe211ae3",
   "metadata": {},
   "outputs": [
    {
     "name": "stdout",
     "output_type": "stream",
     "text": [
      "100\n",
      "400\n",
      "900\n"
     ]
    }
   ],
   "source": [
    "mylist=[10,20,30]\n",
    "newlist=[]\n",
    "for val in mylist:\n",
    "    print(val**2)"
   ]
  },
  {
   "cell_type": "code",
   "execution_count": 124,
   "id": "b6459124",
   "metadata": {},
   "outputs": [
    {
     "data": {
      "text/plain": [
       "[100, 400, 900]"
      ]
     },
     "execution_count": 124,
     "metadata": {},
     "output_type": "execute_result"
    }
   ],
   "source": [
    "for val in mylist:\n",
    "    newlist.append(val**2)\n",
    "newlist"
   ]
  },
  {
   "cell_type": "code",
   "execution_count": 125,
   "id": "5fdb8457",
   "metadata": {},
   "outputs": [
    {
     "data": {
      "text/plain": [
       "[100, 400, 900]"
      ]
     },
     "execution_count": 125,
     "metadata": {},
     "output_type": "execute_result"
    }
   ],
   "source": [
    "[val**2 for val in mylist]"
   ]
  },
  {
   "cell_type": "code",
   "execution_count": 126,
   "id": "0b4ae545",
   "metadata": {},
   "outputs": [
    {
     "data": {
      "text/plain": [
       "[100, 400, 900]"
      ]
     },
     "execution_count": 126,
     "metadata": {},
     "output_type": "execute_result"
    }
   ],
   "source": [
    "newlist=[val**2 for val in mylist]\n",
    "newlist"
   ]
  },
  {
   "cell_type": "code",
   "execution_count": 127,
   "id": "6f7e1bb1",
   "metadata": {},
   "outputs": [],
   "source": [
    "invitation1={\"aman\",\"raj\",\"shyam\"}\n",
    "invitation2={\"happy\",\"king\",\"aman\"}"
   ]
  },
  {
   "cell_type": "code",
   "execution_count": 128,
   "id": "9256a252",
   "metadata": {},
   "outputs": [
    {
     "name": "stdout",
     "output_type": "stream",
     "text": [
      "shyam\n",
      "raj\n",
      "aman\n"
     ]
    }
   ],
   "source": [
    "for x in invitation1:\n",
    "    print(x)"
   ]
  },
  {
   "cell_type": "code",
   "execution_count": 129,
   "id": "1993b149",
   "metadata": {},
   "outputs": [
    {
     "data": {
      "text/plain": [
       "{'aman', 'raj', 'shyam'}"
      ]
     },
     "execution_count": 129,
     "metadata": {},
     "output_type": "execute_result"
    }
   ],
   "source": [
    "setA={x for x in invitation1}\n",
    "setA"
   ]
  },
  {
   "cell_type": "code",
   "execution_count": 131,
   "id": "5f97a47b",
   "metadata": {},
   "outputs": [
    {
     "data": {
      "text/plain": [
       "{'aman', 'happy', 'king', 'raj', 'shyam'}"
      ]
     },
     "execution_count": 131,
     "metadata": {},
     "output_type": "execute_result"
    }
   ],
   "source": [
    "setA={x for x in invitation1.union(invitation2)}\n",
    "setA"
   ]
  },
  {
   "cell_type": "code",
   "execution_count": 135,
   "id": "ae99fa2a",
   "metadata": {},
   "outputs": [
    {
     "data": {
      "text/plain": [
       "{'aman'}"
      ]
     },
     "execution_count": 135,
     "metadata": {},
     "output_type": "execute_result"
    }
   ],
   "source": [
    "setA={x for x in invitation1.intersection(invitation2)}\n",
    "setA"
   ]
  },
  {
   "cell_type": "code",
   "execution_count": 141,
   "id": "723df35b",
   "metadata": {},
   "outputs": [
    {
     "name": "stdout",
     "output_type": "stream",
     "text": [
      "['aman']\n"
     ]
    }
   ],
   "source": [
    "lis1=[\"aman\",\"raj\",\"shyam\"]\n",
    "lis2=[\"happy\",\"king\",\"aman\"]\n",
    "lis3=[x for x in lis1 if x in lis2]\n",
    "print(lis3)"
   ]
  },
  {
   "cell_type": "code",
   "execution_count": null,
   "id": "0f2ee41e",
   "metadata": {},
   "outputs": [],
   "source": [
    "#dictionary compromise"
   ]
  }
 ],
 "metadata": {
  "kernelspec": {
   "display_name": "Python 3 (ipykernel)",
   "language": "python",
   "name": "python3"
  },
  "language_info": {
   "codemirror_mode": {
    "name": "ipython",
    "version": 3
   },
   "file_extension": ".py",
   "mimetype": "text/x-python",
   "name": "python",
   "nbconvert_exporter": "python",
   "pygments_lexer": "ipython3",
   "version": "3.11.3"
  }
 },
 "nbformat": 4,
 "nbformat_minor": 5
}
