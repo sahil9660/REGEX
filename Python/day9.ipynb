{
 "cells": [
  {
   "cell_type": "code",
   "execution_count": 6,
   "id": "ff476e44",
   "metadata": {},
   "outputs": [
    {
     "name": "stdout",
     "output_type": "stream",
     "text": [
      "1.check, 2.inset, 3.delete, 4.show, 0 EXIT = 0\n",
      "exit\n"
     ]
    }
   ],
   "source": [
    "n=1\n",
    "lis=['sahil','sarthak','hemant','om']\n",
    "while(0<n):\n",
    "    n=int(input(\"1.check, 2.inset, 3.delete, 4.show, 0 EXIT = \"))\n",
    "    if(n==1):\n",
    "        name=input(\"enter your name = \")\n",
    "        if name in lis:\n",
    "            print(\"yes your name is present in the list\")\n",
    "        else:\n",
    "            print(\"no your name is not present in the list\")\n",
    "    elif(n==2):\n",
    "        name=input(\"enter your name to insetinng in the list = \")\n",
    "        lis.append(name)\n",
    "    elif(n==3):\n",
    "        name=input(\"enter your name to delete = \")\n",
    "        lis.remove(name)\n",
    "    elif(n==4):\n",
    "        print(lis)\n",
    "    elif(n==0):\n",
    "        print(\"exit\")\n",
    "    else:\n",
    "        print(\"invalid input\")"
   ]
  },
  {
   "cell_type": "code",
   "execution_count": 5,
   "id": "05e6ba2e",
   "metadata": {},
   "outputs": [
    {
     "data": {
      "text/plain": [
       "['Pass', 'Fail', 'Fail', 'Fail', 'Pass', 'Pass']"
      ]
     },
     "execution_count": 5,
     "metadata": {},
     "output_type": "execute_result"
    }
   ],
   "source": [
    "age=[50,10,30,40,101,150]\n",
    "for i in range(len(age)):\n",
    "    if age[i]>=50:\n",
    "        age[i]='Pass'\n",
    "    else:\n",
    "        age[i]='Fail'\n",
    "age"
   ]
  },
  {
   "cell_type": "code",
   "execution_count": null,
   "id": "2c741a8c",
   "metadata": {},
   "outputs": [],
   "source": [
    "#second largest number\n",
    "n=list(map(int,input(\"enter many um with spaces = \").split()))\n",
    "for i in n-1:\n",
    "    if i>i+1:\n",
    "        "
   ]
  },
  {
   "cell_type": "code",
   "execution_count": null,
   "id": "92b69219",
   "metadata": {},
   "outputs": [],
   "source": [
    "a=50\n",
    "b=90\n",
    "c=70\n",
    "d=100\n",
    "if a>b and a>c and a>d :\n",
    "    print(a)\n",
    "elif b>a and b>c and b>d :\n",
    "    print(b)\n",
    "elif c>a and c>b and c>d :\n",
    "    print(c)\n",
    "elif d>a and d>b and d>a :\n",
    "    print(d)"
   ]
  },
  {
   "cell_type": "code",
   "execution_count": 22,
   "id": "43086f81",
   "metadata": {},
   "outputs": [
    {
     "name": "stdout",
     "output_type": "stream",
     "text": [
      "Enter value of 1st = 5245230\n",
      "Enter value of 2nd = 54324\n",
      "Enter value of 3rd = 4634\n",
      "Enter value of 4th = 23845\n",
      "\n",
      "the largest number is = 5245230\n",
      "\n",
      "the largest number is = 3\n"
     ]
    }
   ],
   "source": [
    "a=int(input(\"Enter value of 1st = \"))\n",
    "b=int(input(\"Enter value of 2nd = \"))\n",
    "c=int(input(\"Enter value of 3rd = \"))\n",
    "d=int(input(\"Enter value of 4th = \"))\n",
    "\n",
    "if a>=b:\n",
    "    if a>=c:\n",
    "        if a>=d:\n",
    "            largest=a\n",
    "        else:\n",
    "            largest=d\n",
    "            largest2=a\n",
    "    else:\n",
    "        if c>=d:\n",
    "            largest=c\n",
    "        else:\n",
    "            largest=d\n",
    "            largest2=c\n",
    "else:\n",
    "    if b>=c:\n",
    "        if b>=d:\n",
    "            largest=b\n",
    "        else:\n",
    "            largest=d\n",
    "            largest2=b\n",
    "    else:\n",
    "        if c>=d:\n",
    "            largest=c\n",
    "        else:\n",
    "            largest=d\n",
    "            largest2=c\n",
    "print(\"\\nthe largest number is =\",largest)\n",
    "print(\"\\nthe largest number is =\",largest2)"
   ]
  },
  {
   "cell_type": "code",
   "execution_count": 1,
   "id": "74396583",
   "metadata": {},
   "outputs": [
    {
     "name": "stdout",
     "output_type": "stream",
     "text": [
      "enter a number = 100\n"
     ]
    },
    {
     "data": {
      "text/plain": [
       "[2,\n",
       " 3,\n",
       " 5,\n",
       " 7,\n",
       " 11,\n",
       " 13,\n",
       " 17,\n",
       " 19,\n",
       " 23,\n",
       " 29,\n",
       " 31,\n",
       " 37,\n",
       " 41,\n",
       " 43,\n",
       " 47,\n",
       " 53,\n",
       " 59,\n",
       " 61,\n",
       " 67,\n",
       " 71,\n",
       " 73,\n",
       " 79,\n",
       " 83,\n",
       " 89,\n",
       " 97]"
      ]
     },
     "execution_count": 1,
     "metadata": {},
     "output_type": "execute_result"
    }
   ],
   "source": [
    "n=int(input(\"enter a number = \"))\n",
    "prime=[]\n",
    "\n",
    "for i in range(2,n):\n",
    "    count=0\n",
    "    for j in range(2,i):\n",
    "        if(i%j==0):\n",
    "            count+=1\n",
    "    if(count==0):\n",
    "        prime.append(i)\n",
    "prime"
   ]
  },
  {
   "cell_type": "code",
   "execution_count": 2,
   "id": "7ff8ccf8",
   "metadata": {},
   "outputs": [
    {
     "name": "stdout",
     "output_type": "stream",
     "text": [
      "enter a number = 100\n"
     ]
    },
    {
     "data": {
      "text/plain": [
       "[2,\n",
       " 3,\n",
       " 5,\n",
       " 7,\n",
       " 11,\n",
       " 13,\n",
       " 17,\n",
       " 19,\n",
       " 23,\n",
       " 29,\n",
       " 31,\n",
       " 37,\n",
       " 41,\n",
       " 43,\n",
       " 47,\n",
       " 53,\n",
       " 59,\n",
       " 61,\n",
       " 67,\n",
       " 71,\n",
       " 73,\n",
       " 79,\n",
       " 83,\n",
       " 89,\n",
       " 97]"
      ]
     },
     "execution_count": 2,
     "metadata": {},
     "output_type": "execute_result"
    }
   ],
   "source": [
    "n=int(input(\"enter a number = \"))\n",
    "prime = []\n",
    "\n",
    "\n",
    "for i in range(2,n):\n",
    "    count=0\n",
    "    for j in range(2,i):\n",
    "        if(i%j==0):\n",
    "            count = 1\n",
    "            \n",
    "    if count!=1:\n",
    "        prime.append(i)\n",
    "        \n",
    "\n",
    "prime"
   ]
  }
 ],
 "metadata": {
  "kernelspec": {
   "display_name": "Python 3 (ipykernel)",
   "language": "python",
   "name": "python3"
  },
  "language_info": {
   "codemirror_mode": {
    "name": "ipython",
    "version": 3
   },
   "file_extension": ".py",
   "mimetype": "text/x-python",
   "name": "python",
   "nbconvert_exporter": "python",
   "pygments_lexer": "ipython3",
   "version": "3.11.3"
  }
 },
 "nbformat": 4,
 "nbformat_minor": 5
}
