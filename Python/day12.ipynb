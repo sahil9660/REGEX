{
 "cells": [
  {
   "cell_type": "code",
   "execution_count": 1,
   "id": "3be0df83",
   "metadata": {},
   "outputs": [],
   "source": [
    "#1input user word and is any vowel then we replace it with xz\n",
    "#2take a string from the user if starting of word any consonent then add ey and if it is vowel so in starting add o and in end put ing\n",
    "#3take the input from the user and find out all unique word and print in sequentiol order\n",
    "#zyxw\n",
    "# vut\n",
    "#  sr\n",
    "#   q"
   ]
  },
  {
   "cell_type": "code",
   "execution_count": 16,
   "id": "602478b0",
   "metadata": {},
   "outputs": [
    {
     "name": "stdout",
     "output_type": "stream",
     "text": [
      "enter a word =hleo\n"
     ]
    },
    {
     "data": {
      "text/plain": [
       "'hleoxzxz'"
      ]
     },
     "execution_count": 16,
     "metadata": {},
     "output_type": "execute_result"
    }
   ],
   "source": [
    "#1input user word and is any vowel then we replace it with xz\n",
    "w=input(\"enter a word =\")\n",
    "vow=\"aeiouAEIOU\"\n",
    "for i in w:\n",
    "    if i in vow:\n",
    "        w=w+\"xz\"\n",
    "w"
   ]
  },
  {
   "cell_type": "code",
   "execution_count": 22,
   "id": "4522e417",
   "metadata": {},
   "outputs": [
    {
     "name": "stdout",
     "output_type": "stream",
     "text": [
      "enter a word =hello\n"
     ]
    },
    {
     "data": {
      "text/plain": [
       "'hxzllxz'"
      ]
     },
     "execution_count": 22,
     "metadata": {},
     "output_type": "execute_result"
    }
   ],
   "source": [
    "w=input(\"enter a word =\")\n",
    "vow=\"aeiouAEIOU\"\n",
    "ans=\"\"\n",
    "for i in w:\n",
    "    if i in vow:\n",
    "        ans=ans+\"xz\"\n",
    "    else:\n",
    "        ans=ans+i\n",
    "        \n",
    "ans"
   ]
  },
  {
   "cell_type": "code",
   "execution_count": 32,
   "id": "f85c0c5e",
   "metadata": {},
   "outputs": [
    {
     "name": "stdout",
     "output_type": "stream",
     "text": [
      "enter a string =hello\n"
     ]
    },
    {
     "data": {
      "text/plain": [
       "'helloey'"
      ]
     },
     "execution_count": 32,
     "metadata": {},
     "output_type": "execute_result"
    }
   ],
   "source": [
    "#2take a string from the user if starting of word any consonent then add ey and \n",
    "#if it is vowel so in starting add o and in end put ing\n",
    "mystr=input(\"enter a string =\")\n",
    "vow=\"aeiouAEIOU\"\n",
    "if mystr[0] not in vow:\n",
    "    mystr=mystr+\"ey\"\n",
    "else:\n",
    "    mystr=\"o\"+mystr+\"ing\"\n",
    "mystr"
   ]
  },
  {
   "cell_type": "code",
   "execution_count": null,
   "id": "946e42a9",
   "metadata": {},
   "outputs": [],
   "source": [
    "#3take the input from the user and find out all unique word and print in sequentiol order\n",
    "string=input(\"enter a string\").split()"
   ]
  },
  {
   "cell_type": "code",
   "execution_count": 26,
   "id": "cca7df41",
   "metadata": {},
   "outputs": [
    {
     "name": "stdout",
     "output_type": "stream",
     "text": [
      "zyxwvutsrqponmlkjihgfedcba\n",
      "zyxwvutsrqponmlkjihgfedcba\n",
      "zyxwvutsrqponmlkjihgfedcba\n",
      "zyxwvutsrqponmlkjihgfedcba\n"
     ]
    }
   ],
   "source": [
    "for i in range(4):\n",
    "    for k in range(122,96,-1):\n",
    "        print(chr(k),end=\"\")\n",
    "    print()\n",
    "        #for j in range(122,97,-1):\n",
    "         #   print(chr(j))"
   ]
  },
  {
   "cell_type": "code",
   "execution_count": 39,
   "id": "621572d2",
   "metadata": {},
   "outputs": [
    {
     "name": "stdout",
     "output_type": "stream",
     "text": [
      "Enter a number = 4\n",
      "ZYXWV\n",
      "ZYXW\n",
      " ZYX\n",
      "  ZY\n",
      "   Z\n"
     ]
    }
   ],
   "source": [
    "s=int(input(\"Enter a number = \"))\n",
    "for i in range(s+1,0,-1):\n",
    "    for k in range(i,s):\n",
    "        print(\" \",end=\"\")\n",
    "    for j in range(90,90-i,-1):\n",
    "        print(chr(j),end=\"\")\n",
    "    print()"
   ]
  },
  {
   "cell_type": "code",
   "execution_count": 1,
   "id": "49ce3662",
   "metadata": {},
   "outputs": [
    {
     "name": "stdout",
     "output_type": "stream",
     "text": [
      "enter a range = 5\n",
      "ZYXWV\n",
      " UTSR\n",
      "  QPO\n",
      "   NM\n",
      "    L\n"
     ]
    }
   ],
   "source": [
    "start=90\n",
    "n=int(input(\"enter a range = \"))\n",
    "for i in range(n):\n",
    "    for j in range(i):\n",
    "        print(\" \",end=\"\")\n",
    "    for k in range(n-i):\n",
    "        print(chr(start),end=\"\")\n",
    "        start-=1\n",
    "    print()"
   ]
  },
  {
   "cell_type": "code",
   "execution_count": 2,
   "id": "35947a23",
   "metadata": {},
   "outputs": [],
   "source": [
    "#function"
   ]
  },
  {
   "cell_type": "code",
   "execution_count": 3,
   "id": "527eb0bc",
   "metadata": {},
   "outputs": [],
   "source": [
    "#Q1 difference b/w python 2 and python 3"
   ]
  },
  {
   "cell_type": "code",
   "execution_count": 7,
   "id": "6bed82ea",
   "metadata": {},
   "outputs": [
    {
     "name": "stdout",
     "output_type": "stream",
     "text": [
      "input the 1 numbers2\n",
      "input the 2 numbers9\n",
      "False\n"
     ]
    }
   ],
   "source": [
    "def lcm(a,b):\n",
    "    if a>b:\n",
    "        if a%b==0:\n",
    "            return True\n",
    "        else:\n",
    "            return False\n",
    "    else:\n",
    "        if b%a==0:\n",
    "            return True\n",
    "        else:\n",
    "            return False\n",
    "        \n",
    "a=int(input(\"input the 1 numbers\"))\n",
    "b=int(input(\"input the 2 numbers\"))\n",
    "ans=lcm(a,b)\n",
    "print(ans)"
   ]
  },
  {
   "cell_type": "code",
   "execution_count": 18,
   "id": "1d3a071e",
   "metadata": {},
   "outputs": [
    {
     "name": "stdout",
     "output_type": "stream",
     "text": [
      "100\n",
      "<function <lambda> at 0x0000019E3459FA60>\n",
      "<class 'function'>\n"
     ]
    }
   ],
   "source": [
    "#lambda\n",
    "a=lambda x: x**2\n",
    "print(a(10))\n",
    "print(a)\n",
    "print(type(a))"
   ]
  },
  {
   "cell_type": "code",
   "execution_count": 20,
   "id": "0996a401",
   "metadata": {},
   "outputs": [
    {
     "data": {
      "text/plain": [
       "100"
      ]
     },
     "execution_count": 20,
     "metadata": {},
     "output_type": "execute_result"
    }
   ],
   "source": [
    "(lambda x: x**2)(10)"
   ]
  },
  {
   "cell_type": "code",
   "execution_count": 21,
   "id": "cade8511",
   "metadata": {},
   "outputs": [],
   "source": [
    "def addnumber(x):\n",
    "    return x+5"
   ]
  },
  {
   "cell_type": "code",
   "execution_count": 26,
   "id": "afd37408",
   "metadata": {},
   "outputs": [
    {
     "data": {
      "text/plain": [
       "<map at 0x19e34650310>"
      ]
     },
     "execution_count": 26,
     "metadata": {},
     "output_type": "execute_result"
    }
   ],
   "source": [
    "mylist=[2,3,4,59]\n",
    "map(addnumber,mylist)"
   ]
  },
  {
   "cell_type": "code",
   "execution_count": 27,
   "id": "d340f46d",
   "metadata": {},
   "outputs": [
    {
     "data": {
      "text/plain": [
       "[7, 8, 9, 64]"
      ]
     },
     "execution_count": 27,
     "metadata": {},
     "output_type": "execute_result"
    }
   ],
   "source": [
    "list(map(addnumber,mylist))"
   ]
  },
  {
   "cell_type": "code",
   "execution_count": 29,
   "id": "05b96a82",
   "metadata": {},
   "outputs": [
    {
     "data": {
      "text/plain": [
       "[7, 8, 9, 64]"
      ]
     },
     "execution_count": 29,
     "metadata": {},
     "output_type": "execute_result"
    }
   ],
   "source": [
    "list(map(lambda x: x+5,mylist))"
   ]
  },
  {
   "cell_type": "code",
   "execution_count": null,
   "id": "cc09140e",
   "metadata": {},
   "outputs": [],
   "source": [
    "#first class functions all proparty vs high order functions"
   ]
  }
 ],
 "metadata": {
  "kernelspec": {
   "display_name": "Python 3 (ipykernel)",
   "language": "python",
   "name": "python3"
  },
  "language_info": {
   "codemirror_mode": {
    "name": "ipython",
    "version": 3
   },
   "file_extension": ".py",
   "mimetype": "text/x-python",
   "name": "python",
   "nbconvert_exporter": "python",
   "pygments_lexer": "ipython3",
   "version": "3.11.3"
  }
 },
 "nbformat": 4,
 "nbformat_minor": 5
}
