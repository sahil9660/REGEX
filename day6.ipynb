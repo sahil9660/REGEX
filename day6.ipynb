{
 "cells": [
  {
   "cell_type": "code",
   "execution_count": null,
   "id": "b2ad3198",
   "metadata": {},
   "outputs": [],
   "source": [
    "a='mohit'\n",
    "for i in range(0,len(a),2):\n",
    "    print(a[i])"
   ]
  },
  {
   "cell_type": "code",
   "execution_count": null,
   "id": "4bc8e1dd",
   "metadata": {},
   "outputs": [],
   "source": [
    "a='mohit'\n",
    "for i in range(len(a)):\n",
    "    if (i%2==0):"
   ]
  },
  {
   "cell_type": "code",
   "execution_count": null,
   "id": "0cc4a7b5",
   "metadata": {
    "scrolled": true
   },
   "outputs": [],
   "source": [
    "a='mohit'\n",
    "count=0\n",
    "for i in range(len(a)):\n",
    "    if(a[i] in 'aeiou''AEIOU'):\n",
    "        print(a[i])\n",
    "        count+=1\n",
    "count"
   ]
  },
  {
   "cell_type": "code",
   "execution_count": null,
   "id": "27adf777",
   "metadata": {},
   "outputs": [],
   "source": [
    "a = 'mohieotee'\n",
    "count = 0\n",
    "vov = \"aeiou\"\n",
    "\n",
    "for i in range(len(a) - 1):\n",
    "    if a[i] in vov and a[i + 1] in vov:\n",
    "        count += 1\n",
    "        i += 1  # Skip the second vowel of the current pair\n",
    "\n",
    "print(count)\n"
   ]
  },
  {
   "cell_type": "code",
   "execution_count": null,
   "id": "35afca23",
   "metadata": {},
   "outputs": [],
   "source": [
    "a = 'mohieotee'\n",
    "count = 0\n",
    "vov = \"aeiou\"\n",
    "\n",
    "for i in range(len(a) - 1):\n",
    "    if a[i] in vov and a[i + 1] in vov:\n",
    "        count += 1\n",
    "        i += 1\n",
    "\n",
    "print(count)\n"
   ]
  },
  {
   "cell_type": "code",
   "execution_count": null,
   "id": "d8ab83f9",
   "metadata": {},
   "outputs": [],
   "source": [
    "a='mohieotee'\n",
    "count=0\n",
    "vov=\"aeiou\"\n",
    "i=0\n",
    "while i<len(a)-1:\n",
    "    if(a[i] in vov and a[i+1] in vov):\n",
    "        i+=2\n",
    "        count+=1\n",
    "    else:\n",
    "        i+=1\n",
    "count"
   ]
  },
  {
   "cell_type": "code",
   "execution_count": null,
   "id": "59198e2d",
   "metadata": {},
   "outputs": [],
   "source": [
    "a='mmo'\n",
    "if(a==a[::-1]):\n",
    "    print(\"palindrome\")\n",
    "else:\n",
    "    print(\"not palindrome\")"
   ]
  },
  {
   "cell_type": "markdown",
   "id": "25a55ef6",
   "metadata": {},
   "source": [
    "# TASK"
   ]
  },
  {
   "cell_type": "code",
   "execution_count": null,
   "id": "fa37b0d0",
   "metadata": {},
   "outputs": [],
   "source": [
    "#whatsapp massage bombing\n",
    "#password[capital,special,number]\n"
   ]
  },
  {
   "cell_type": "code",
   "execution_count": 9,
   "id": "15cf1cfb",
   "metadata": {},
   "outputs": [
    {
     "name": "stdout",
     "output_type": "stream",
     "text": [
      "Enter your password: sahil\n",
      "Password is not valid. Please try again.\n",
      "Enter your password: Sahil283747\n",
      "Password is not valid. Please try again.\n",
      "Enter your password: Sahil@10\n",
      "Password is valid.\n"
     ]
    }
   ],
   "source": [
    "#password[capital,special,number]\n",
    "def valid_password(password):\n",
    "    if len(password) < 8:\n",
    "        return False\n",
    "    \n",
    "    lowercase = False\n",
    "    uppercase = False\n",
    "    digit = False\n",
    "    special = False\n",
    "    special_characters = \"!@#$%^&*()_-+=<>?/[]{}|\"\n",
    "    \n",
    "    for char in password:\n",
    "        if char.islower():\n",
    "            lowercase = True\n",
    "        elif char.isupper():\n",
    "            uppercase = True\n",
    "        elif char.isdigit():\n",
    "            digit = True\n",
    "        elif char in special_characters:\n",
    "            special = True\n",
    "    \n",
    "    return lowercase and uppercase and digit and special\n",
    "\n",
    "while True:\n",
    "    password = input(\"Enter your password: \")\n",
    "    \n",
    "    if valid_password(password):\n",
    "        print(\"Password is valid.\")\n",
    "        break\n",
    "    else:\n",
    "        print(\"Password is not valid. Please try again.\")\n"
   ]
  },
  {
   "cell_type": "code",
   "execution_count": 8,
   "id": "dab632a8",
   "metadata": {},
   "outputs": [
    {
     "name": "stdout",
     "output_type": "stream",
     "text": [
      "\n",
      "Enter 10 digit Number with contry code -> +919660560220\n",
      "Enter your massage -> hi\n",
      "Hour -> 13\n",
      "Minute -> 35\n",
      "Enter number of bombing -> 2\n",
      "In 16 Seconds WhatsApp will open and after 10 Seconds Message will be Delivered!\n",
      "In 50 Seconds WhatsApp will open and after 10 Seconds Message will be Delivered!\n"
     ]
    }
   ],
   "source": [
    "#whatsapp massage bombing\n",
    "import pywhatkit\n",
    "mb=input(\"\\nEnter 10 digit Number with contry code -> \")\n",
    "msg=input(\"Enter your massage -> \")\n",
    "\n",
    "hr=int(input(\"Hour -> \"))\n",
    "mn=int(input(\"Minute -> \"))\n",
    "time=10\n",
    "n=int(input(\"Enter number of bombing -> \"))\n",
    "for i in range(n):\n",
    "    pywhatkit.sendwhatmsg(mb,msg,hr,mn,time)\n",
    "    mn=mn+1\n",
    "    #print(\"\\nThe massage\",msg,\"is sent to the number\",mb,\"At time =\",hr,\":\",mn)"
   ]
  }
 ],
 "metadata": {
  "kernelspec": {
   "display_name": "Python 3 (ipykernel)",
   "language": "python",
   "name": "python3"
  },
  "language_info": {
   "codemirror_mode": {
    "name": "ipython",
    "version": 3
   },
   "file_extension": ".py",
   "mimetype": "text/x-python",
   "name": "python",
   "nbconvert_exporter": "python",
   "pygments_lexer": "ipython3",
   "version": "3.11.3"
  }
 },
 "nbformat": 4,
 "nbformat_minor": 5
}
