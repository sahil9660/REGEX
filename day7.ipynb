{
 "cells": [
  {
   "cell_type": "code",
   "execution_count": 17,
   "id": "1cff45d9",
   "metadata": {},
   "outputs": [
    {
     "name": "stdout",
     "output_type": "stream",
     "text": [
      "0 1 2 3 4 \n",
      "\n",
      "0 1 2 3 4 \n",
      "\n",
      "0 1 2 3 4 \n",
      "\n",
      "0 1 2 3 4 \n",
      "\n",
      "0 1 2 3 4 \n",
      "\n"
     ]
    }
   ],
   "source": [
    "for i in range(0,5):\n",
    "    for j in range(0,5):\n",
    "        print(j,end=\" \")\n",
    "    print(\"\\n\")"
   ]
  },
  {
   "cell_type": "code",
   "execution_count": 18,
   "id": "3edfdcb3",
   "metadata": {},
   "outputs": [
    {
     "name": "stdout",
     "output_type": "stream",
     "text": [
      "* * * * * \n",
      "\n",
      "* * * * * \n",
      "\n",
      "* * * * * \n",
      "\n",
      "* * * * * \n",
      "\n",
      "* * * * * \n",
      "\n"
     ]
    }
   ],
   "source": [
    "for i in range(0,5):\n",
    "    for j in range(0,5):\n",
    "        print(\"*\",end=\" \")\n",
    "    print(\"\\n\")"
   ]
  },
  {
   "cell_type": "code",
   "execution_count": 19,
   "id": "11b9de8c",
   "metadata": {},
   "outputs": [
    {
     "name": "stdout",
     "output_type": "stream",
     "text": [
      "* \r\n",
      "* * \r\n",
      "* * * \r\n",
      "* * * * \r\n",
      "* * * * * \r\n"
     ]
    }
   ],
   "source": [
    "for i in range(0,5):\n",
    "    for j in range(i+1,0,-1):\n",
    "        print(\"*\",end=\" \")\n",
    "    print(\"\\r\")"
   ]
  },
  {
   "cell_type": "code",
   "execution_count": 20,
   "id": "c4089eab",
   "metadata": {},
   "outputs": [
    {
     "name": "stdout",
     "output_type": "stream",
     "text": [
      "* * * * * \r\n",
      "* * * * \r\n",
      "* * * \r\n",
      "* * \r\n",
      "* \r\n"
     ]
    }
   ],
   "source": [
    "for i in range(0,5):\n",
    "    for j in range(i,5):\n",
    "        print(\"*\",end=\" \")\n",
    "    print(\"\\r\")"
   ]
  },
  {
   "cell_type": "code",
   "execution_count": 21,
   "id": "91a08792",
   "metadata": {},
   "outputs": [
    {
     "name": "stdout",
     "output_type": "stream",
     "text": [
      "          * \r\n",
      "        * * \r\n",
      "      * * * \r\n",
      "    * * * * \r\n",
      "  * * * * * \r\n"
     ]
    }
   ],
   "source": [
    "for i in range(0,5):\n",
    "    for j in range(5,i,-1):\n",
    "        print(\" \",end=\" \")\n",
    "    for k in range(0,i+1):\n",
    "        print(\"*\",end=\" \")\n",
    "    print(\"\\r\")"
   ]
  },
  {
   "cell_type": "code",
   "execution_count": 22,
   "id": "c7a0ff7b",
   "metadata": {},
   "outputs": [
    {
     "name": "stdout",
     "output_type": "stream",
     "text": [
      "* * * * * \r\n",
      "  * * * * \r\n",
      "    * * * \r\n",
      "      * * \r\n",
      "        * \r\n"
     ]
    }
   ],
   "source": [
    "for i in range(0,5):\n",
    "    for k in range(0,i):\n",
    "        print(\" \",end=\" \")\n",
    "    for j in range(i,5):\n",
    "        print(\"*\",end=\" \")\n",
    "    print(\"\\r\")"
   ]
  },
  {
   "cell_type": "code",
   "execution_count": 23,
   "id": "16ce3780",
   "metadata": {},
   "outputs": [
    {
     "name": "stdout",
     "output_type": "stream",
     "text": [
      "* * * * * \t\n",
      "*       * \t\n",
      "*       * \t\n",
      "*       * \t\n",
      "* * * * * \t\n"
     ]
    }
   ],
   "source": [
    "for i in range(0,5):\n",
    "    if i==0 or i==4:\n",
    "        for j in range(0,5):\n",
    "            print(\"*\",end=\" \")\n",
    "        #print(\"\\r\")\n",
    "    else:\n",
    "        print(\"*\",end=\" \")\n",
    "        for k in range(0,3):\n",
    "            print(\" \",end=\" \")\n",
    "        print(\"*\",end=\" \")\n",
    "    print(\"\\t\")"
   ]
  },
  {
   "cell_type": "code",
   "execution_count": 24,
   "id": "e258f05a",
   "metadata": {},
   "outputs": [
    {
     "name": "stdout",
     "output_type": "stream",
     "text": [
      "*****\r\n",
      "*\r\n",
      "*****\r\n",
      "    *\r\n",
      "*****\r\n"
     ]
    }
   ],
   "source": [
    "for i in range(0,5):\n",
    "    if i==0 or i==2 or i==4:\n",
    "        for j in range(0,5):\n",
    "            print(\"*\",end=\"\")\n",
    "    elif i<2:\n",
    "        print(\"*\",end=\"\")\n",
    "    else:\n",
    "        print(\"    *\",end=\"\")\n",
    "    print(\"\\r\")"
   ]
  },
  {
   "cell_type": "code",
   "execution_count": 25,
   "id": "a965351c",
   "metadata": {},
   "outputs": [
    {
     "name": "stdout",
     "output_type": "stream",
     "text": [
      "***** ***** *   * ***** *    \n",
      "*     *   * *   *   *   *    \n",
      "***** ***** *****   *   *    \n",
      "    * *   * *   *   *   *    \n",
      "***** *   * *   * ***** *****\n"
     ]
    }
   ],
   "source": [
    "#SAHIL\n",
    "for i in range(0,5):\n",
    "    for j in range(29):\n",
    "        if i==0 :\n",
    "            if j==5 or j==11 or 12<j<16 or j==17 or j==23 or j>24:\n",
    "                print(\" \",end=\"\")\n",
    "            else:\n",
    "                print(\"*\",end=\"\")\n",
    "        elif i==1:\n",
    "            if 0<j<6 or 6<j<10 or j==11 or 12<j<16 or 16<j<20 or 20<j<24 or j>24:\n",
    "                print(\" \",end=\"\")\n",
    "            else:\n",
    "                print(\"*\",end=\"\")\n",
    "        elif i==2:\n",
    "            if j==5 or j==11 or 16<j<20 or 20<j<24 or j>24:\n",
    "                print(\" \",end=\"\")\n",
    "            else:\n",
    "                print(\"*\",end=\"\")\n",
    "        elif i==3:\n",
    "            if 0<=j<4 or j==5 or 6<j<10 or j==11 or 12<j<16 or 16<j<20 or 20<j<24 or j>24:\n",
    "                print(\" \",end=\"\")\n",
    "            else:\n",
    "                print(\"*\",end=\"\")\n",
    "        elif i==4:\n",
    "            if j==5 or 6<j<10 or j==11 or 12<j<16 or j==17 or j==23 :\n",
    "                print(\" \",end=\"\")\n",
    "            else:\n",
    "                print(\"*\",end=\"\")\n",
    "    print()"
   ]
  },
  {
   "cell_type": "code",
   "execution_count": null,
   "id": "66e58c23",
   "metadata": {},
   "outputs": [],
   "source": [
    "***** ***** *   * ***** *\n",
    "*     *   * *   *   *   *\n",
    "***** ***** *****   *   *\n",
    "    * *   * *   *   *   *\n",
    "***** *   * *   * ***** *****"
   ]
  },
  {
   "cell_type": "code",
   "execution_count": 26,
   "id": "ffef1cf5",
   "metadata": {},
   "outputs": [
    {
     "name": "stdout",
     "output_type": "stream",
     "text": [
      "*   * ***** *   * ***** *   * *****\n",
      "*   * *     ** ** *   * **  *   *  \n",
      "***** ***** * * * ***** * * *   *  \n",
      "*   * *     *   * *   * *  **   *  \n",
      "*   * ***** *   * *   * *   *   *  \n"
     ]
    }
   ],
   "source": [
    "#HEMANT\n",
    "for i in range(0,5):\n",
    "    for j in range(35):\n",
    "        if i==0 :\n",
    "            if 0<j<4 or j==5 or j==11 or 12<j<16 or j==17 or j==23 or 24<j<28 or j==29:\n",
    "                print(\" \",end=\"\")\n",
    "            else:\n",
    "                print(\"*\",end=\"\")\n",
    "        elif i==1:\n",
    "            if 0<j<4 or j==5 or 6<j<12 or j==14 or j==17 or 18<j<22 or j==23 or 25<j<28 or 28<j<32 or j>32:\n",
    "                print(\" \",end=\"\")\n",
    "            else:\n",
    "                print(\"*\",end=\"\")\n",
    "        elif i==2:\n",
    "            if j==5 or j==11 or j==13 or j==15 or j==17 or j==23 or j==25 or j==27 or 28<j<32 or j>32:\n",
    "                print(\" \",end=\"\")\n",
    "            else:\n",
    "                print(\"*\",end=\"\")\n",
    "        elif i==3:\n",
    "            if 0<j<4 or j==5 or 6<j<12 or 12<j<16 or j==17 or 18<j<22 or j==23 or 24<j<27 or 28<j<32 or j>32:\n",
    "                print(\" \",end=\"\")\n",
    "            else:\n",
    "                print(\"*\",end=\"\")\n",
    "        elif i==4:\n",
    "            if 0<j<4 or j==5 or j==11 or 12<j<16 or j==17 or 18<j<22 or j==23 or 24<j<28 or 28<j<32 or j>32 :\n",
    "                print(\" \",end=\"\")\n",
    "            else:\n",
    "                print(\"*\",end=\"\")\n",
    "    print()"
   ]
  },
  {
   "cell_type": "code",
   "execution_count": null,
   "id": "bf6a7b7f",
   "metadata": {},
   "outputs": [],
   "source": [
    "*   * ***** *   * ***** *   * *****\n",
    "*   * *     ** ** *   * **  *   *\n",
    "***** ***** * * * ***** * * *   *\n",
    "*   * *     *   * *   * *  **   *\n",
    "*   * ***** *   * *   * *   *   *"
   ]
  },
  {
   "cell_type": "code",
   "execution_count": 27,
   "id": "a074da2e",
   "metadata": {},
   "outputs": [
    {
     "name": "stdout",
     "output_type": "stream",
     "text": [
      "***** ***** ****  ***** *   * ***** *   *\n",
      "*     *   * *   *   *   *   * *   * *  * \n",
      "***** ***** *****   *   ***** ***** * *  \n",
      "    * *   * *  *    *   *   * *   * *  * \n",
      "***** *   * *   *   *   *   * *   * *   *\n"
     ]
    }
   ],
   "source": [
    "#HSARTHAK\n",
    "for i in range(0,5):\n",
    "    for j in range(41):\n",
    "        if i==0 :\n",
    "            if j==5 or j==11 or 15<j<18 or j==23 or 24<j<28 or j==29 or j==35 or 36<j<40:\n",
    "                print(\" \",end=\"\")\n",
    "            else:\n",
    "                print(\"*\",end=\"\")\n",
    "        elif i==1:\n",
    "            if 0<j<6 or 6<j<10 or j==11 or 12<j<16 or 16<j<20 or 20<j<24 or 24<j<28 or j==29 or 30<j<34 or j==35 or 36<j<39 or j>39:\n",
    "                print(\" \",end=\"\")\n",
    "            else:\n",
    "                print(\"*\",end=\"\")\n",
    "        elif i==2:\n",
    "            if j==5 or j==11 or 16<j<20 or 20<j<24 or j==29 or j==35 or j==37 or j>38:\n",
    "                print(\" \",end=\"\")\n",
    "            else:\n",
    "                print(\"*\",end=\"\")\n",
    "        elif i==3:\n",
    "            if 0<=j<4 or j==5 or 6<j<10 or j==11 or 12<j<15 or 15<j<20 or 20<j<24 or 24<j<28 or j==29 or 30<j<34 or j==35 or 36<j<39 or j>39:\n",
    "                print(\" \",end=\"\")\n",
    "            else:\n",
    "                print(\"*\",end=\"\")\n",
    "        elif i==4:\n",
    "            if j==5 or 6<j<10 or j==11 or 12<j<16 or 16<j<20 or 20<j<24 or 24<j<28 or j==29 or 30<j<34 or j==35 or 36<j<40:\n",
    "                print(\" \",end=\"\")\n",
    "            else:\n",
    "                print(\"*\",end=\"\")\n",
    "    print()"
   ]
  },
  {
   "cell_type": "code",
   "execution_count": null,
   "id": "08c1b674",
   "metadata": {},
   "outputs": [],
   "source": [
    "***** ***** ***** ***** *   * ***** *   *\n",
    "*     *   * *   *   *   *   * *   * *  *\n",
    "***** ***** * * *   *   ***** ***** * *\n",
    "    * *   * *  *    *   *   * *   * *  *\n",
    "***** *   * *   *   *   *   * *   * *   *"
   ]
  },
  {
   "cell_type": "code",
   "execution_count": 31,
   "id": "a16558f5",
   "metadata": {},
   "outputs": [
    {
     "name": "stdout",
     "output_type": "stream",
     "text": [
      "***** *   *\n",
      "*   * ** **\n",
      "*   * * * *\n",
      "*   * *   *\n",
      "***** *   *\n"
     ]
    }
   ],
   "source": [
    "#OM\n",
    "for i in range(0,5):\n",
    "    for j in range(11):\n",
    "        if i==0 :\n",
    "            if j==5 or 6<j<10:\n",
    "                print(\" \",end=\"\")\n",
    "            else:\n",
    "                print(\"*\",end=\"\")\n",
    "        elif i==1:\n",
    "            if 0<j<4 or j==5 or j==8:\n",
    "                print(\" \",end=\"\")\n",
    "            else:\n",
    "                print(\"*\",end=\"\")\n",
    "        elif i==2:\n",
    "            if 0<j<4 or j==5 or j==7 or j==9:\n",
    "                print(\" \",end=\"\")\n",
    "            else:\n",
    "                print(\"*\",end=\"\")\n",
    "        elif i==3:\n",
    "            if 0<j<4 or j==5 or 6<j<10:\n",
    "                print(\" \",end=\"\")\n",
    "            else:\n",
    "                print(\"*\",end=\"\")\n",
    "        elif i==4:\n",
    "            if j==5 or 6<j<10:\n",
    "                print(\" \",end=\"\")\n",
    "            else:\n",
    "                print(\"*\",end=\"\")\n",
    "    print()"
   ]
  },
  {
   "cell_type": "code",
   "execution_count": null,
   "id": "73d9259c",
   "metadata": {},
   "outputs": [],
   "source": [
    "***** *   * \n",
    "*   * ** ** \n",
    "*   * * * * \n",
    "*   * *   *     \n",
    "***** *   * "
   ]
  },
  {
   "cell_type": "code",
   "execution_count": 23,
   "id": "507190c3",
   "metadata": {},
   "outputs": [
    {
     "name": "stdout",
     "output_type": "stream",
     "text": [
      "***** ***** *     ***** *   * *****\n",
      "*     *   * *     *   * **  *   *  \n",
      "***** ***** *     *   * * * *   *  \n",
      "    * *   * *     *   * *  **   *  \n",
      "***** *   * ***** ***** *   * *****\n"
     ]
    }
   ],
   "source": [
    "#SALONI\n",
    "for i in range(0,5):\n",
    "    for j in range(35):\n",
    "        if i==0 :\n",
    "            if j==5 or j==11 or 12<j<18 or j==17 or j==23 or 24<j<28 or j==29:\n",
    "                print(\" \",end=\"\")\n",
    "            else:\n",
    "                print(\"*\",end=\"\")\n",
    "        elif i==1:\n",
    "            if 0<j<6 or 6<j<10 or j==11 or 12<j<18 or 18<j<22 or j==23 or 25<j<28 or 28<j<32 or j>32:\n",
    "                print(\" \",end=\"\")\n",
    "            else:\n",
    "                print(\"*\",end=\"\")\n",
    "        elif i==2:\n",
    "            if j==5 or j==11 or 12<j<18 or 18<j<22 or j==23 or j==25 or j==27 or 28<j<32 or j>32:\n",
    "                print(\" \",end=\"\")\n",
    "            else:\n",
    "                print(\"*\",end=\"\")\n",
    "        elif i==3:\n",
    "            if 0<=j<4 or j==5 or 6<j<10 or j==11 or 12<j<18 or 18<j<22 or j==23 or 24<j<27 or 28<j<32 or j>32:\n",
    "                print(\" \",end=\"\")\n",
    "            else:\n",
    "                print(\"*\",end=\"\")\n",
    "        elif i==4:\n",
    "            if j==5 or 6<j<10 or j==11 or j==17 or j==23 or 24<j<28 or j==29:\n",
    "                print(\" \",end=\"\")\n",
    "            else:\n",
    "                print(\"*\",end=\"\")\n",
    "    print()"
   ]
  },
  {
   "cell_type": "code",
   "execution_count": null,
   "id": "dd792b0f",
   "metadata": {},
   "outputs": [],
   "source": [
    "***** ***** *     ***** *   * *****\n",
    "*     *   * *     *   * **  *   *\n",
    "***** ***** *     *   * * * *   *\n",
    "    * *   * *     *   * *  **   *\n",
    "***** *   * ***** ***** *   * *****"
   ]
  },
  {
   "cell_type": "code",
   "execution_count": 38,
   "id": "4027849b",
   "metadata": {},
   "outputs": [
    {
     "name": "stdout",
     "output_type": "stream",
     "text": [
      "***** *   * ***** *****\n",
      "*      * *    *     *  \n",
      "*****   *     *     *  \n",
      "*      * *    *     *  \n",
      "***** *   * ***** *****\n"
     ]
    },
    {
     "data": {
      "text/plain": [
       "'\\n***** *   * ***** *****\\n*      * *    *     *\\n*****   *     *     *\\n*      * *    *     *\\n***** *   * *****   *\\n'"
      ]
     },
     "execution_count": 38,
     "metadata": {},
     "output_type": "execute_result"
    }
   ],
   "source": [
    "#EXIT\n",
    "for i in range(0,5):\n",
    "    for j in range(23):\n",
    "        if i==0 :\n",
    "            if j==5 or 6<j<10 or j==11 or j==17:\n",
    "                print(\" \",end=\"\")\n",
    "            else:\n",
    "                print(\"*\",end=\"\")\n",
    "        elif i==1:\n",
    "            if 0<j<7 or j==8 or 9<j<14 or 14<j<20 or j>20:\n",
    "                print(\" \",end=\"\")\n",
    "            else:\n",
    "                print(\"*\",end=\"\")\n",
    "        elif i==2:\n",
    "            if 4<j<8 or 8<j<14 or 14<j<20 or j>20 :\n",
    "                print(\" \",end=\"\")\n",
    "            else:\n",
    "                print(\"*\",end=\"\")\n",
    "        elif i==3:\n",
    "            if 0<j<7 or j==8 or 9<j<14 or 14<j<20 or j>20:\n",
    "                print(\" \",end=\"\")\n",
    "            else:\n",
    "                print(\"*\",end=\"\")\n",
    "        elif i==4:\n",
    "            if j==5 or 6<j<10 or j==11 or j==17:\n",
    "                print(\" \",end=\"\")\n",
    "            else:\n",
    "                print(\"*\",end=\"\")\n",
    "    print()"
   ]
  },
  {
   "cell_type": "code",
   "execution_count": null,
   "id": "f035c461",
   "metadata": {},
   "outputs": [],
   "source": [
    "***** *   * ***** *****\n",
    "*      * *    *     *\n",
    "*****   *     *     *\n",
    "*      * *    *     *\n",
    "***** *   * *****   *"
   ]
  },
  {
   "cell_type": "code",
   "execution_count": 1,
   "id": "7ed24325",
   "metadata": {},
   "outputs": [
    {
     "name": "stdout",
     "output_type": "stream",
     "text": [
      "1.SAHIL\n",
      "2.HEMANT\n",
      "3.SARTHAK\n",
      "4.OM\n",
      "5.SALONI\n",
      "Enter your choice = 1\n",
      "\n",
      "***** ***** *   * ***** *    \n",
      "*     *   * *   *   *   *    \n",
      "***** ***** *****   *   *    \n",
      "    * *   * *   *   *   *    \n",
      "***** *   * *   * ***** *****\n",
      "\n",
      "1.SAHIL\n",
      "2.HEMANT\n",
      "3.SARTHAK\n",
      "4.OM\n",
      "5.SALONI\n",
      "Enter your choice = 2\n",
      "\n",
      "*   * ***** *   * ***** *   * *****\n",
      "*   * *     ** ** *   * **  *   *  \n",
      "***** ***** * * * ***** * * *   *  \n",
      "*   * *     *   * *   * *  **   *  \n",
      "*   * ***** *   * *   * *   *   *  \n",
      "\n",
      "1.SAHIL\n",
      "2.HEMANT\n",
      "3.SARTHAK\n",
      "4.OM\n",
      "5.SALONI\n",
      "Enter your choice = 3\n",
      "\n",
      "***** ***** ****  ***** *   * ***** *   *\n",
      "*     *   * *   *   *   *   * *   * *  * \n",
      "***** ***** *****   *   ***** ***** * *  \n",
      "    * *   * *  *    *   *   * *   * *  * \n",
      "***** *   * *   *   *   *   * *   * *   *\n",
      "\n",
      "1.SAHIL\n",
      "2.HEMANT\n",
      "3.SARTHAK\n",
      "4.OM\n",
      "5.SALONI\n",
      "Enter your choice = 4\n",
      "\n",
      "***** *   *\n",
      "*   * ** **\n",
      "*   * * * *\n",
      "*   * *   *\n",
      "***** *   *\n",
      "\n",
      "1.SAHIL\n",
      "2.HEMANT\n",
      "3.SARTHAK\n",
      "4.OM\n",
      "5.SALONI\n",
      "Enter your choice = 6\n",
      "\n",
      "INVALID CHOICE\n",
      "***** *   * ***** *****\n",
      "*      * *    *     *  \n",
      "*****   *     *     *  \n",
      "*      * *    *     *  \n",
      "***** *   * ***** *****\n"
     ]
    }
   ],
   "source": [
    "name=0\n",
    "def pattern(name):\n",
    "    if name ==1:\n",
    "        #sahil\n",
    "        for i in range(0,5):\n",
    "            for j in range(29):\n",
    "                if i==0 :\n",
    "                    if j==5 or j==11 or 12<j<16 or j==17 or j==23 or j>24:\n",
    "                        print(\" \",end=\"\")\n",
    "                    else:\n",
    "                        print(\"*\",end=\"\")\n",
    "                elif i==1:\n",
    "                    if 0<j<6 or 6<j<10 or j==11 or 12<j<16 or 16<j<20 or 20<j<24 or j>24:\n",
    "                        print(\" \",end=\"\")\n",
    "                    else:\n",
    "                        print(\"*\",end=\"\")\n",
    "                elif i==2:\n",
    "                    if j==5 or j==11 or 16<j<20 or 20<j<24 or j>24:\n",
    "                        print(\" \",end=\"\")\n",
    "                    else:\n",
    "                        print(\"*\",end=\"\")\n",
    "                elif i==3:\n",
    "                    if 0<=j<4 or j==5 or 6<j<10 or j==11 or 12<j<16 or 16<j<20 or 20<j<24 or j>24:\n",
    "                        print(\" \",end=\"\")\n",
    "                    else:\n",
    "                        print(\"*\",end=\"\")\n",
    "                elif i==4:\n",
    "                    if j==5 or 6<j<10 or j==11 or 12<j<16 or j==17 or j==23 :\n",
    "                        print(\" \",end=\"\")\n",
    "                    else:\n",
    "                        print(\"*\",end=\"\")\n",
    "            print()\n",
    "        print()\n",
    "    elif name==2:\n",
    "        #HEMANT\n",
    "        for i in range(0,5):\n",
    "            for j in range(35):\n",
    "                if i==0 :\n",
    "                    if 0<j<4 or j==5 or j==11 or 12<j<16 or j==17 or j==23 or 24<j<28 or j==29:\n",
    "                        print(\" \",end=\"\")\n",
    "                    else:\n",
    "                        print(\"*\",end=\"\")\n",
    "                elif i==1:\n",
    "                    if 0<j<4 or j==5 or 6<j<12 or j==14 or j==17 or 18<j<22 or j==23 or 25<j<28 or 28<j<32 or j>32:\n",
    "                        print(\" \",end=\"\")\n",
    "                    else:\n",
    "                        print(\"*\",end=\"\")\n",
    "                elif i==2:\n",
    "                    if j==5 or j==11 or j==13 or j==15 or j==17 or j==23 or j==25 or j==27 or 28<j<32 or j>32:\n",
    "                        print(\" \",end=\"\")\n",
    "                    else:\n",
    "                        print(\"*\",end=\"\")\n",
    "                elif i==3:\n",
    "                    if 0<j<4 or j==5 or 6<j<12 or 12<j<16 or j==17 or 18<j<22 or j==23 or 24<j<27 or 28<j<32 or j>32:\n",
    "                        print(\" \",end=\"\")\n",
    "                    else:\n",
    "                        print(\"*\",end=\"\")\n",
    "                elif i==4:\n",
    "                    if 0<j<4 or j==5 or j==11 or 12<j<16 or j==17 or 18<j<22 or j==23 or 24<j<28 or 28<j<32 or j>32 :\n",
    "                        print(\" \",end=\"\")\n",
    "                    else:\n",
    "                        print(\"*\",end=\"\")\n",
    "            print()\n",
    "        print()\n",
    "    elif name==3:\n",
    "        #HSARTHAK\n",
    "        for i in range(0,5):\n",
    "            for j in range(41):\n",
    "                if i==0 :\n",
    "                    if j==5 or j==11 or 15<j<18 or j==23 or 24<j<28 or j==29 or j==35 or 36<j<40:\n",
    "                        print(\" \",end=\"\")\n",
    "                    else:\n",
    "                        print(\"*\",end=\"\")\n",
    "                elif i==1:\n",
    "                    if 0<j<6 or 6<j<10 or j==11 or 12<j<16 or 16<j<20 or 20<j<24 or 24<j<28 or j==29 or 30<j<34 or j==35 or 36<j<39 or j>39:\n",
    "                        print(\" \",end=\"\")\n",
    "                    else:\n",
    "                        print(\"*\",end=\"\")\n",
    "                elif i==2:\n",
    "                    if j==5 or j==11 or 16<j<20 or 20<j<24 or j==29 or j==35 or j==37 or j>38:\n",
    "                        print(\" \",end=\"\")\n",
    "                    else:\n",
    "                        print(\"*\",end=\"\")\n",
    "                elif i==3:\n",
    "                    if 0<=j<4 or j==5 or 6<j<10 or j==11 or 12<j<15 or 15<j<20 or 20<j<24 or 24<j<28 or j==29 or 30<j<34 or j==35 or 36<j<39 or j>39:\n",
    "                        print(\" \",end=\"\")\n",
    "                    else:\n",
    "                        print(\"*\",end=\"\")\n",
    "                elif i==4:\n",
    "                    if j==5 or 6<j<10 or j==11 or 12<j<16 or 16<j<20 or 20<j<24 or 24<j<28 or j==29 or 30<j<34 or j==35 or 36<j<40:\n",
    "                        print(\" \",end=\"\")\n",
    "                    else:\n",
    "                        print(\"*\",end=\"\")\n",
    "            print()\n",
    "        print()\n",
    "    elif name ==4:\n",
    "        #OM\n",
    "        for i in range(0,5):\n",
    "            for j in range(11):\n",
    "                if i==0 :\n",
    "                    if j==5 or 6<j<10:\n",
    "                        print(\" \",end=\"\")\n",
    "                    else:\n",
    "                        print(\"*\",end=\"\")\n",
    "                elif i==1:\n",
    "                    if 0<j<4 or j==5 or j==8:\n",
    "                        print(\" \",end=\"\")\n",
    "                    else:\n",
    "                        print(\"*\",end=\"\")\n",
    "                elif i==2:\n",
    "                    if 0<j<4 or j==5 or j==7 or j==9:\n",
    "                        print(\" \",end=\"\")\n",
    "                    else:\n",
    "                        print(\"*\",end=\"\")\n",
    "                elif i==3:\n",
    "                    if 0<j<4 or j==5 or 6<j<10:\n",
    "                        print(\" \",end=\"\")\n",
    "                    else:\n",
    "                        print(\"*\",end=\"\")\n",
    "                elif i==4:\n",
    "                    if j==5 or 6<j<10:\n",
    "                        print(\" \",end=\"\")\n",
    "                    else:\n",
    "                        print(\"*\",end=\"\")\n",
    "            print()\n",
    "        print()\n",
    "    elif name==5:\n",
    "        #SALONI\n",
    "            for i in range(0,5):\n",
    "                for j in range(35):\n",
    "                    if i==0 :\n",
    "                        if j==5 or j==11 or 12<j<18 or j==17 or j==23 or 24<j<28 or j==29:\n",
    "                            print(\" \",end=\"\")\n",
    "                        else:\n",
    "                            print(\"*\",end=\"\")\n",
    "                    elif i==1:\n",
    "                        if 0<j<6 or 6<j<10 or j==11 or 12<j<18 or 18<j<22 or j==23 or 25<j<28 or 28<j<32 or j>32:\n",
    "                            print(\" \",end=\"\")\n",
    "                        else:\n",
    "                            print(\"*\",end=\"\")\n",
    "                    elif i==2:\n",
    "                        if j==5 or j==11 or 12<j<18 or 18<j<22 or j==23 or j==25 or j==27 or 28<j<32 or j>32:\n",
    "                            print(\" \",end=\"\")\n",
    "                        else:\n",
    "                            print(\"*\",end=\"\")\n",
    "                    elif i==3:\n",
    "                        if 0<=j<4 or j==5 or 6<j<10 or j==11 or 12<j<18 or 18<j<22 or j==23 or 24<j<27 or 28<j<32 or j>32:\n",
    "                            print(\" \",end=\"\")\n",
    "                        else:\n",
    "                            print(\"*\",end=\"\")\n",
    "                    elif i==4:\n",
    "                        if j==5 or 6<j<10 or j==11 or j==17 or j==23 or 24<j<28 or j==29:\n",
    "                            print(\" \",end=\"\")\n",
    "                        else:\n",
    "                            print(\"*\",end=\"\")\n",
    "                print()\n",
    "            print()\n",
    "    else:\n",
    "        #EXIT\n",
    "        print(\"INVALID CHOICE\")\n",
    "        for i in range(0,5):\n",
    "            for j in range(23):\n",
    "                if i==0 :\n",
    "                    if j==5 or 6<j<10 or j==11 or j==17:\n",
    "                        print(\" \",end=\"\")\n",
    "                    else:\n",
    "                        print(\"*\",end=\"\")\n",
    "                elif i==1:\n",
    "                    if 0<j<7 or j==8 or 9<j<14 or 14<j<20 or j>20:\n",
    "                        print(\" \",end=\"\")\n",
    "                    else:\n",
    "                        print(\"*\",end=\"\")\n",
    "                elif i==2:\n",
    "                    if 4<j<8 or 8<j<14 or 14<j<20 or j>20 :\n",
    "                        print(\" \",end=\"\")\n",
    "                    else:\n",
    "                        print(\"*\",end=\"\")\n",
    "                elif i==3:\n",
    "                    if 0<j<7 or j==8 or 9<j<14 or 14<j<20 or j>20:\n",
    "                        print(\" \",end=\"\")\n",
    "                    else:\n",
    "                        print(\"*\",end=\"\")\n",
    "                elif i==4:\n",
    "                    if j==5 or 6<j<10 or j==11 or j==17:\n",
    "                        print(\" \",end=\"\")\n",
    "                    else:\n",
    "                        print(\"*\",end=\"\")\n",
    "            print()\n",
    "while(name<6):\n",
    "    name=int(input(\"1.SAHIL\\n2.HEMANT\\n3.SARTHAK\\n4.OM\\n5.SALONI\\nEnter your choice = \"))\n",
    "    print()\n",
    "    pattern(name)"
   ]
  }
 ],
 "metadata": {
  "kernelspec": {
   "display_name": "Python 3 (ipykernel)",
   "language": "python",
   "name": "python3"
  },
  "language_info": {
   "codemirror_mode": {
    "name": "ipython",
    "version": 3
   },
   "file_extension": ".py",
   "mimetype": "text/x-python",
   "name": "python",
   "nbconvert_exporter": "python",
   "pygments_lexer": "ipython3",
   "version": "3.11.3"
  }
 },
 "nbformat": 4,
 "nbformat_minor": 5
}
