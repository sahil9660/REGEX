{
 "cells": [
  {
   "cell_type": "code",
   "execution_count": 1,
   "id": "e3430247",
   "metadata": {},
   "outputs": [
    {
     "data": {
      "text/plain": [
       "6.666666666666667"
      ]
     },
     "execution_count": 1,
     "metadata": {},
     "output_type": "execute_result"
    }
   ],
   "source": [
    "20/3"
   ]
  },
  {
   "cell_type": "code",
   "execution_count": 2,
   "id": "51fe5960",
   "metadata": {},
   "outputs": [
    {
     "data": {
      "text/plain": [
       "6"
      ]
     },
     "execution_count": 2,
     "metadata": {},
     "output_type": "execute_result"
    }
   ],
   "source": [
    "20//3"
   ]
  },
  {
   "cell_type": "code",
   "execution_count": 4,
   "id": "ddd48b3a",
   "metadata": {},
   "outputs": [
    {
     "data": {
      "text/plain": [
       "8"
      ]
     },
     "execution_count": 4,
     "metadata": {},
     "output_type": "execute_result"
    }
   ],
   "source": [
    "2**3"
   ]
  },
  {
   "cell_type": "code",
   "execution_count": 5,
   "id": "1a126534",
   "metadata": {},
   "outputs": [
    {
     "data": {
      "text/plain": [
       "2"
      ]
     },
     "execution_count": 5,
     "metadata": {},
     "output_type": "execute_result"
    }
   ],
   "source": [
    "20%3"
   ]
  },
  {
   "cell_type": "code",
   "execution_count": 10,
   "id": "ac6fc9dd",
   "metadata": {},
   "outputs": [
    {
     "data": {
      "text/plain": [
       "10.0"
      ]
     },
     "execution_count": 10,
     "metadata": {},
     "output_type": "execute_result"
    }
   ],
   "source": [
    "2+4*3/4+5"
   ]
  },
  {
   "cell_type": "code",
   "execution_count": 8,
   "id": "282c25aa",
   "metadata": {},
   "outputs": [
    {
     "data": {
      "text/plain": [
       "512"
      ]
     },
     "execution_count": 8,
     "metadata": {},
     "output_type": "execute_result"
    }
   ],
   "source": [
    "2**3**2\n",
    "#when two same operator come start from right"
   ]
  },
  {
   "cell_type": "code",
   "execution_count": 11,
   "id": "b94375f1",
   "metadata": {},
   "outputs": [
    {
     "data": {
      "text/plain": [
       "10"
      ]
     },
     "execution_count": 11,
     "metadata": {},
     "output_type": "execute_result"
    }
   ],
   "source": [
    "11 &10"
   ]
  },
  {
   "cell_type": "code",
   "execution_count": 12,
   "id": "a2305c60",
   "metadata": {},
   "outputs": [
    {
     "data": {
      "text/plain": [
       "11"
      ]
     },
     "execution_count": 12,
     "metadata": {},
     "output_type": "execute_result"
    }
   ],
   "source": [
    "11|10"
   ]
  },
  {
   "cell_type": "code",
   "execution_count": 20,
   "id": "6a890dfa",
   "metadata": {},
   "outputs": [],
   "source": [
    "#bitwise operator"
   ]
  },
  {
   "cell_type": "code",
   "execution_count": null,
   "id": "2d1452b5",
   "metadata": {},
   "outputs": [],
   "source": [
    "#bitwise right shift\n",
    "13>>1\n",
    "# formula number //2**bit\n",
    "# 13//2**1 => 13//2=6"
   ]
  },
  {
   "cell_type": "code",
   "execution_count": 17,
   "id": "84400ed1",
   "metadata": {},
   "outputs": [
    {
     "data": {
      "text/plain": [
       "'homework\\nbitwise xor operator\\nname space in python\\ncompiler vs interpretor vs encoder'"
      ]
     },
     "execution_count": 17,
     "metadata": {},
     "output_type": "execute_result"
    }
   ],
   "source": [
    "'''homework\n",
    "bitwise xor operator\n",
    "name space in python\n",
    "compiler vs interpretor vs encoder'''"
   ]
  },
  {
   "cell_type": "code",
   "execution_count": 18,
   "id": "6bfdadaa",
   "metadata": {},
   "outputs": [
    {
     "data": {
      "text/plain": [
       "True"
      ]
     },
     "execution_count": 18,
     "metadata": {},
     "output_type": "execute_result"
    }
   ],
   "source": [
    "#member ship operator\n",
    "\"t\"in \"tushar\""
   ]
  },
  {
   "cell_type": "code",
   "execution_count": 19,
   "id": "b70cdb27",
   "metadata": {},
   "outputs": [
    {
     "data": {
      "text/plain": [
       "True"
      ]
     },
     "execution_count": 19,
     "metadata": {},
     "output_type": "execute_result"
    }
   ],
   "source": [
    "\"t\" not in \"tushar\""
   ]
  },
  {
   "cell_type": "code",
   "execution_count": 21,
   "id": "2a3ec211",
   "metadata": {},
   "outputs": [
    {
     "name": "stdout",
     "output_type": "stream",
     "text": [
      "<class 'int'>\n"
     ]
    }
   ],
   "source": [
    "x=10\n",
    "print(type(x))"
   ]
  },
  {
   "cell_type": "code",
   "execution_count": 24,
   "id": "7634ffb7",
   "metadata": {},
   "outputs": [
    {
     "data": {
      "text/plain": [
       "False"
      ]
     },
     "execution_count": 24,
     "metadata": {},
     "output_type": "execute_result"
    }
   ],
   "source": [
    "type(x) is str"
   ]
  },
  {
   "cell_type": "code",
   "execution_count": 25,
   "id": "c4978d92",
   "metadata": {},
   "outputs": [
    {
     "data": {
      "text/plain": [
       "True"
      ]
     },
     "execution_count": 25,
     "metadata": {},
     "output_type": "execute_result"
    }
   ],
   "source": [
    "type(x) is not str"
   ]
  },
  {
   "cell_type": "code",
   "execution_count": 28,
   "id": "fa0b070a",
   "metadata": {},
   "outputs": [
    {
     "name": "stdout",
     "output_type": "stream",
     "text": [
      "age is 20\n"
     ]
    }
   ],
   "source": [
    "# conditional statement\n",
    "# if-else,swich,case\n",
    "age=20\n",
    "if(age<10):\n",
    "    print(\"age is less then 10\")\n",
    "        \n",
    "elif(age==20):\n",
    "    print(\"age is 20\")\n",
    "    \n",
    "else:\n",
    "    print(\"not\")"
   ]
  },
  {
   "cell_type": "code",
   "execution_count": 36,
   "id": "00303258",
   "metadata": {
    "scrolled": true
   },
   "outputs": [
    {
     "name": "stdout",
     "output_type": "stream",
     "text": [
      "both number are integer\n",
      "both number are 20 10\n",
      "addition 30\n",
      "substraction 10\n",
      "multiply 200\n",
      "devide 2.0\n",
      "division 2\n",
      "power 10240000000000\n"
     ]
    }
   ],
   "source": [
    "a=20\n",
    "b=10\n",
    "\n",
    "if(type(a)==int and type(b)==int):\n",
    "    print(\"both number are integer\")\n",
    "    print(\"both number are\",a,b)\n",
    "    print(\"addition\",a+b)\n",
    "    print(\"substraction\",a-b)\n",
    "    print(\"multiply\",a*b)\n",
    "    print(\"devide\",a/b)\n",
    "    print(\"division\",a//b)\n",
    "    print(\"power\",a**b)\n",
    "else:\n",
    "    print(\"not integer\")"
   ]
  },
  {
   "cell_type": "code",
   "execution_count": 2,
   "id": "38d4f0f7",
   "metadata": {},
   "outputs": [],
   "source": [
    "#TASK"
   ]
  },
  {
   "cell_type": "code",
   "execution_count": 48,
   "id": "0c8094e6",
   "metadata": {},
   "outputs": [
    {
     "name": "stdout",
     "output_type": "stream",
     "text": [
      "enter 1st no. = 1\n",
      "enter 2nd no. = 1\n",
      "enter 3rd no. = 2\n",
      "two number are same\n"
     ]
    }
   ],
   "source": [
    "#1\n",
    "#take 3 input from user and identify which is the smallest\n",
    "a=int(input(\"enter 1st no. = \"))\n",
    "b=int(input(\"enter 2nd no. = \"))\n",
    "c=int(input(\"enter 3rd no. = \"))\n",
    "if(a<b and a<c):\n",
    "    print(\"smallest no. is a = \",a)\n",
    "elif(b<a and b<c):\n",
    "    print(\"smallest no. is b = \",b)\n",
    "elif(b<a and b<c):\n",
    "    print(\"smallest no. is c = \",c)\n",
    "else:\n",
    "    print(\"two or three number are same\")"
   ]
  },
  {
   "cell_type": "code",
   "execution_count": 66,
   "id": "da61ca46",
   "metadata": {},
   "outputs": [
    {
     "name": "stdout",
     "output_type": "stream",
     "text": [
      "enter 1st string = ujdfb\n",
      "enter 2nd string = jd\n"
     ]
    },
    {
     "data": {
      "text/plain": [
       "True"
      ]
     },
     "execution_count": 66,
     "metadata": {},
     "output_type": "execute_result"
    }
   ],
   "source": [
    "#2\n",
    "#take a string as a input from user\n",
    "#take another string from user and check is it available in up\n",
    "a=(input(\"enter 1st string = \"))\n",
    "b=(input(\"enter 2nd string = \"))\n",
    "b in a\n",
    "#if(b in a)\n",
    "#    print(\"string 2 is in 1st\")\n",
    "#else:\n",
    "#   print(\"not \")"
   ]
  },
  {
   "cell_type": "code",
   "execution_count": 73,
   "id": "d5881d19",
   "metadata": {},
   "outputs": [
    {
     "name": "stdout",
     "output_type": "stream",
     "text": [
      "enter a character = a\n",
      "a is a vowal\n"
     ]
    }
   ],
   "source": [
    "#take a char from user and check if char is vovel\n",
    "a=(input(\"enter a character = \"))\n",
    "\n",
    "if(a in 'a''e''i''o''u''A''E''I''O''U'):\n",
    "    print(a,\"is a vowal\")\n",
    "else:\n",
    "    print(a,\"is not a voval\")"
   ]
  },
  {
   "cell_type": "code",
   "execution_count": 41,
   "id": "b0182a35",
   "metadata": {},
   "outputs": [],
   "source": [
    "#take a input from a user and perform following task\n",
    "#if 1 print current date\n",
    "#if 2 create a folder\n",
    "#if 3 then check all folder on the desktop\n",
    "#if 4 then massage on whatsapp\n"
   ]
  },
  {
   "cell_type": "code",
   "execution_count": null,
   "id": "43e2012a",
   "metadata": {},
   "outputs": [],
   "source": []
  }
 ],
 "metadata": {
  "kernelspec": {
   "display_name": "Python 3 (ipykernel)",
   "language": "python",
   "name": "python3"
  },
  "language_info": {
   "codemirror_mode": {
    "name": "ipython",
    "version": 3
   },
   "file_extension": ".py",
   "mimetype": "text/x-python",
   "name": "python",
   "nbconvert_exporter": "python",
   "pygments_lexer": "ipython3",
   "version": "3.11.3"
  }
 },
 "nbformat": 4,
 "nbformat_minor": 5
}
