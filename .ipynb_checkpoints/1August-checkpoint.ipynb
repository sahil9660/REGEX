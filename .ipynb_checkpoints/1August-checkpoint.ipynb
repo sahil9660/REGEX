{
 "cells": [
  {
   "cell_type": "code",
   "execution_count": 3,
   "id": "e20d3184",
   "metadata": {},
   "outputs": [
    {
     "data": {
      "text/plain": [
       "float"
      ]
     },
     "execution_count": 3,
     "metadata": {},
     "output_type": "execute_result"
    }
   ],
   "source": [
    "# string ( slicing and indexing)\n",
    "#  call by object reference\n",
    "\n",
    "#operator and conditional statement\n",
    "# operator => symbol => with the specfic\n",
    "\n",
    "# Arithemtic\n",
    "type(10/2)\n",
    "\n"
   ]
  },
  {
   "cell_type": "code",
   "execution_count": 7,
   "id": "fe4988f8",
   "metadata": {},
   "outputs": [
    {
     "data": {
      "text/plain": [
       "6"
      ]
     },
     "execution_count": 7,
     "metadata": {},
     "output_type": "execute_result"
    }
   ],
   "source": [
    "20//3"
   ]
  },
  {
   "cell_type": "code",
   "execution_count": 9,
   "id": "fdcb8723",
   "metadata": {},
   "outputs": [
    {
     "data": {
      "text/plain": [
       "8"
      ]
     },
     "execution_count": 9,
     "metadata": {},
     "output_type": "execute_result"
    }
   ],
   "source": [
    "2**3\n"
   ]
  },
  {
   "cell_type": "code",
   "execution_count": 10,
   "id": "b3156443",
   "metadata": {},
   "outputs": [
    {
     "data": {
      "text/plain": [
       "2"
      ]
     },
     "execution_count": 10,
     "metadata": {},
     "output_type": "execute_result"
    }
   ],
   "source": [
    "20%3"
   ]
  },
  {
   "cell_type": "code",
   "execution_count": 12,
   "id": "51420c7d",
   "metadata": {},
   "outputs": [
    {
     "data": {
      "text/plain": [
       "0"
      ]
     },
     "execution_count": 12,
     "metadata": {},
     "output_type": "execute_result"
    }
   ],
   "source": [
    "21%3"
   ]
  },
  {
   "cell_type": "code",
   "execution_count": 13,
   "id": "001be933",
   "metadata": {},
   "outputs": [
    {
     "data": {
      "text/plain": [
       "1.0"
      ]
     },
     "execution_count": 13,
     "metadata": {},
     "output_type": "execute_result"
    }
   ],
   "source": [
    "10+2*2/1-2*9+5"
   ]
  },
  {
   "cell_type": "code",
   "execution_count": 14,
   "id": "225b5465",
   "metadata": {},
   "outputs": [
    {
     "data": {
      "text/plain": [
       "6.2"
      ]
     },
     "execution_count": 14,
     "metadata": {},
     "output_type": "execute_result"
    }
   ],
   "source": [
    "1.2+5\n"
   ]
  },
  {
   "cell_type": "code",
   "execution_count": 17,
   "id": "e761dc0a",
   "metadata": {},
   "outputs": [
    {
     "data": {
      "text/plain": [
       "False"
      ]
     },
     "execution_count": 17,
     "metadata": {},
     "output_type": "execute_result"
    }
   ],
   "source": [
    "# comparison => compare the value ( Boolean )\n",
    "x=10   #assignment\n",
    "\n",
    "x==10   #comparison\n",
    "x<9\n"
   ]
  },
  {
   "cell_type": "code",
   "execution_count": 18,
   "id": "c33ae56d",
   "metadata": {},
   "outputs": [],
   "source": [
    "#  >, < , >=,<=, !=, == ( comparision operator)"
   ]
  },
  {
   "cell_type": "code",
   "execution_count": 19,
   "id": "31fc995e",
   "metadata": {},
   "outputs": [],
   "source": [
    "#assignment the value ( uniary, binary, ternary , x++)\n",
    "#  condition? True: False"
   ]
  },
  {
   "cell_type": "code",
   "execution_count": 20,
   "id": "b8a7df95",
   "metadata": {},
   "outputs": [
    {
     "name": "stdout",
     "output_type": "stream",
     "text": [
      "25\n"
     ]
    }
   ],
   "source": [
    "# assignment\n",
    "\n",
    "#varialbe= data\n",
    "#  variable = expression\n",
    "x=19\n",
    "\n",
    "x=x+6\n",
    "print(x)\n"
   ]
  },
  {
   "cell_type": "code",
   "execution_count": 21,
   "id": "d4144a10",
   "metadata": {},
   "outputs": [
    {
     "name": "stdout",
     "output_type": "stream",
     "text": [
      "25\n"
     ]
    }
   ],
   "source": [
    "# x=x+6\n",
    "# +=, -=, %=, **=\n",
    "\n",
    "x=19\n",
    "x+=6\n",
    "print(x)\n"
   ]
  },
  {
   "cell_type": "code",
   "execution_count": 24,
   "id": "64993534",
   "metadata": {},
   "outputs": [
    {
     "name": "stdout",
     "output_type": "stream",
     "text": [
      "8\n"
     ]
    }
   ],
   "source": [
    "x=2\n",
    "\n",
    "# x=x**3\n",
    "\n",
    "x**=3\n",
    "print(x)"
   ]
  },
  {
   "cell_type": "code",
   "execution_count": 29,
   "id": "683988db",
   "metadata": {},
   "outputs": [
    {
     "data": {
      "text/plain": [
       "False"
      ]
     },
     "execution_count": 29,
     "metadata": {},
     "output_type": "execute_result"
    }
   ],
   "source": [
    "# logical condition check krna\n",
    "# 2 condition check ho \n",
    "\n",
    "#  &, &&, and\n",
    "\n",
    "x=10\n",
    "y=24\n",
    "x>=10 and y==25"
   ]
  },
  {
   "cell_type": "code",
   "execution_count": 32,
   "id": "05cf56db",
   "metadata": {},
   "outputs": [
    {
     "data": {
      "text/plain": [
       "False"
      ]
     },
     "execution_count": 32,
     "metadata": {},
     "output_type": "execute_result"
    }
   ],
   "source": [
    "x=10\n",
    "y=24\n",
    "x>10 or y==25"
   ]
  },
  {
   "cell_type": "code",
   "execution_count": 34,
   "id": "2e73ee32",
   "metadata": {},
   "outputs": [
    {
     "data": {
      "text/plain": [
       "5"
      ]
     },
     "execution_count": 34,
     "metadata": {},
     "output_type": "execute_result"
    }
   ],
   "source": [
    "# bitwise operator\n",
    "# number => bits \n",
    "\n",
    "13 &5"
   ]
  },
  {
   "cell_type": "code",
   "execution_count": 36,
   "id": "4a8e8561",
   "metadata": {},
   "outputs": [
    {
     "data": {
      "text/plain": [
       "13"
      ]
     },
     "execution_count": 36,
     "metadata": {},
     "output_type": "execute_result"
    }
   ],
   "source": [
    "13 | 5\n",
    "\n",
    "#  bitwise xor operator\n",
    "#  know about compiler, interpretor, encoder\n",
    "# know the first 5 priority order from the priority list"
   ]
  },
  {
   "cell_type": "code",
   "execution_count": 37,
   "id": "f618bd50",
   "metadata": {},
   "outputs": [],
   "source": [
    "#  bitwise left shift / rights"
   ]
  },
  {
   "cell_type": "code",
   "execution_count": 39,
   "id": "c7221e96",
   "metadata": {},
   "outputs": [
    {
     "data": {
      "text/plain": [
       "5"
      ]
     },
     "execution_count": 39,
     "metadata": {},
     "output_type": "execute_result"
    }
   ],
   "source": [
    "11>>1\n",
    "\n",
    "# number * 2**bit\n",
    "# 44 *  2**2  => 176"
   ]
  },
  {
   "cell_type": "code",
   "execution_count": 41,
   "id": "7ca135ca",
   "metadata": {},
   "outputs": [
    {
     "data": {
      "text/plain": [
       "11"
      ]
     },
     "execution_count": 41,
     "metadata": {},
     "output_type": "execute_result"
    }
   ],
   "source": [
    "44>>2"
   ]
  },
  {
   "cell_type": "code",
   "execution_count": 42,
   "id": "8e1c8498",
   "metadata": {},
   "outputs": [
    {
     "data": {
      "text/plain": [
       "176"
      ]
     },
     "execution_count": 42,
     "metadata": {},
     "output_type": "execute_result"
    }
   ],
   "source": [
    "44<<2"
   ]
  },
  {
   "cell_type": "code",
   "execution_count": 43,
   "id": "a277c689",
   "metadata": {},
   "outputs": [],
   "source": [
    "# identity and membership operator"
   ]
  },
  {
   "cell_type": "code",
   "execution_count": 52,
   "id": "1b889ef0",
   "metadata": {},
   "outputs": [
    {
     "data": {
      "text/plain": [
       "False"
      ]
     },
     "execution_count": 52,
     "metadata": {},
     "output_type": "execute_result"
    }
   ],
   "source": [
    "\"s h\"  in \"tushar\""
   ]
  },
  {
   "cell_type": "code",
   "execution_count": 53,
   "id": "a87dd0d2",
   "metadata": {},
   "outputs": [],
   "source": [
    "#identity operator : operator jiske help se \n",
    "# you can identity ki kya hum kisi bhi variable ka type check krmna chahte hai\\\n",
    "#  object kisi class ko belong kar raha hai yh nhi kar raha\n"
   ]
  },
  {
   "cell_type": "code",
   "execution_count": 54,
   "id": "573ecc1f",
   "metadata": {},
   "outputs": [
    {
     "name": "stdout",
     "output_type": "stream",
     "text": [
      "<class 'int'>\n"
     ]
    }
   ],
   "source": [
    "x=10\n",
    "print(type(x))"
   ]
  },
  {
   "cell_type": "code",
   "execution_count": 57,
   "id": "6f04f807",
   "metadata": {},
   "outputs": [
    {
     "data": {
      "text/plain": [
       "True"
      ]
     },
     "execution_count": 57,
     "metadata": {},
     "output_type": "execute_result"
    }
   ],
   "source": [
    "# x object int class\n",
    "\n",
    "type(x) is int\n"
   ]
  },
  {
   "cell_type": "code",
   "execution_count": 60,
   "id": "d3596b35",
   "metadata": {},
   "outputs": [
    {
     "data": {
      "text/plain": [
       "True"
      ]
     },
     "execution_count": 60,
     "metadata": {},
     "output_type": "execute_result"
    }
   ],
   "source": [
    "x=10\n",
    "type(x) is not str"
   ]
  },
  {
   "cell_type": "code",
   "execution_count": 61,
   "id": "affb97cf",
   "metadata": {},
   "outputs": [],
   "source": [
    "\n",
    "#  bitwise xor operator\n",
    "#  know about compiler, interpretor, encoder\n",
    "# know the first 5 priority order from the priority list"
   ]
  },
  {
   "cell_type": "code",
   "execution_count": 64,
   "id": "7ca3f884",
   "metadata": {},
   "outputs": [
    {
     "name": "stdout",
     "output_type": "stream",
     "text": [
      "hey age is 18\n"
     ]
    }
   ],
   "source": [
    "#  conditional statement \n",
    "\n",
    "age=18\n",
    "print(\"hey age is 18\")"
   ]
  },
  {
   "cell_type": "code",
   "execution_count": 75,
   "id": "dd17c281",
   "metadata": {},
   "outputs": [
    {
     "name": "stdout",
     "output_type": "stream",
     "text": [
      "condition is false\n"
     ]
    }
   ],
   "source": [
    "# if-else, switch , case\n",
    "age=16\n",
    "if(age>=18):\n",
    "    print(\"Age is 18\")\n",
    "else:\n",
    "    print(\"condition is false\")"
   ]
  },
  {
   "cell_type": "code",
   "execution_count": 66,
   "id": "e8a2a790",
   "metadata": {},
   "outputs": [
    {
     "data": {
      "text/plain": [
       "True"
      ]
     },
     "execution_count": 66,
     "metadata": {},
     "output_type": "execute_result"
    }
   ],
   "source": [
    "x=19\n",
    "x>=19"
   ]
  },
  {
   "cell_type": "code",
   "execution_count": 79,
   "id": "dc614f7d",
   "metadata": {},
   "outputs": [
    {
     "name": "stdout",
     "output_type": "stream",
     "text": [
      "age is 17\n",
      "age is small\n"
     ]
    }
   ],
   "source": [
    "age=17\n",
    "\n",
    "if(age==17):\n",
    "    print(\"age is 17\")\n",
    "else:\n",
    "    print(\"age is small\")\n",
    "    \n",
    "if(age==19):\n",
    "    print(\"age is 19\")\n",
    "else:\n",
    "    print(\"age is small\")"
   ]
  },
  {
   "cell_type": "code",
   "execution_count": 86,
   "id": "28154663",
   "metadata": {},
   "outputs": [
    {
     "name": "stdout",
     "output_type": "stream",
     "text": [
      "age is 19\n"
     ]
    }
   ],
   "source": [
    "age=19\n",
    "if(age==17):\n",
    "    print(\"age is 17\")\n",
    "    \n",
    "elif(age==19):\n",
    "    print(\"age is 19\")\n",
    "    \n",
    "else:\n",
    "    print(\"age is small\")\n",
    "    "
   ]
  },
  {
   "cell_type": "code",
   "execution_count": 91,
   "id": "178e340a",
   "metadata": {},
   "outputs": [
    {
     "name": "stdout",
     "output_type": "stream",
     "text": [
      "Enter a msg : 550\n",
      "x has 550 <class 'int'>\n"
     ]
    }
   ],
   "source": [
    "# sys library\n",
    "\n",
    "x=input(\"Enter a msg : \")\n",
    "\n",
    "#type casting\n",
    "x=int(x)\n",
    "\n",
    "print(\"x has\",x, type(x))"
   ]
  },
  {
   "cell_type": "code",
   "execution_count": 94,
   "id": "d06faae6",
   "metadata": {},
   "outputs": [
    {
     "name": "stdout",
     "output_type": "stream",
     "text": [
      "Value of age is incorrect\n"
     ]
    }
   ],
   "source": [
    "#  username => unique, age> 13\n",
    "age=12\n",
    "username=\"tushargoyal\"\n",
    "\n",
    "if(age>=13):\n",
    "    if(username==\"tushargoyal\"):\n",
    "        print(\"user can sign up with age and username\")\n",
    "    else:\n",
    "        print(\"Username is incorrect\")\n",
    "else:\n",
    "    print(\"Value of age is incorrect\")"
   ]
  },
  {
   "cell_type": "code",
   "execution_count": null,
   "id": "ad2042a3",
   "metadata": {},
   "outputs": [],
   "source": []
  }
 ],
 "metadata": {
  "kernelspec": {
   "display_name": "Python 3 (ipykernel)",
   "language": "python",
   "name": "python3"
  },
  "language_info": {
   "codemirror_mode": {
    "name": "ipython",
    "version": 3
   },
   "file_extension": ".py",
   "mimetype": "text/x-python",
   "name": "python",
   "nbconvert_exporter": "python",
   "pygments_lexer": "ipython3",
   "version": "3.11.3"
  }
 },
 "nbformat": 4,
 "nbformat_minor": 5
}
