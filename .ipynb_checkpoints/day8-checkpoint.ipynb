{
 "cells": [
  {
   "cell_type": "code",
   "execution_count": 3,
   "id": "5b50a19f",
   "metadata": {},
   "outputs": [
    {
     "name": "stdout",
     "output_type": "stream",
     "text": [
      "100\n"
     ]
    }
   ],
   "source": [
    "a=50\n",
    "b=90\n",
    "c=70\n",
    "d=100\n",
    "if a>b and a>c and a>d :\n",
    "    print(a)\n",
    "elif b>a and b>c and b>d :\n",
    "    print(b)\n",
    "elif c>a and c>b and c>d :\n",
    "    print(c)\n",
    "elif d>a and d>b and d>a :\n",
    "    print(d)"
   ]
  },
  {
   "cell_type": "code",
   "execution_count": 7,
   "id": "a8937e85",
   "metadata": {},
   "outputs": [
    {
     "name": "stdout",
     "output_type": "stream",
     "text": [
      "Enter value of 1st = 4534\n",
      "Enter value of 2nd = 346\n",
      "Enter value of 3rd = 436\n",
      "Enter value of 4th = 4567\n",
      "\n",
      "the largest number is = 4567\n"
     ]
    }
   ],
   "source": [
    "a=int(input(\"Enter value of 1st = \"))\n",
    "b=int(input(\"Enter value of 2nd = \"))\n",
    "c=int(input(\"Enter value of 3rd = \"))\n",
    "d=int(input(\"Enter value of 4th = \"))\n",
    "\n",
    "if a>=b:\n",
    "    if a>=c:\n",
    "        if a>=d:\n",
    "            largest=a\n",
    "        else:\n",
    "            largest=d\n",
    "    else:\n",
    "        if c>=d:\n",
    "            largest=c\n",
    "        else:\n",
    "            largest=d\n",
    "else:\n",
    "    if b>=c:\n",
    "        if b>=d:\n",
    "            largest=b\n",
    "        else:\n",
    "            largest=d\n",
    "    else:\n",
    "        if c>=d:\n",
    "            largest=c\n",
    "        else:\n",
    "            largest=d\n",
    "print(\"\\nthe largest number is =\",largest)"
   ]
  }
 ],
 "metadata": {
  "kernelspec": {
   "display_name": "Python 3 (ipykernel)",
   "language": "python",
   "name": "python3"
  },
  "language_info": {
   "codemirror_mode": {
    "name": "ipython",
    "version": 3
   },
   "file_extension": ".py",
   "mimetype": "text/x-python",
   "name": "python",
   "nbconvert_exporter": "python",
   "pygments_lexer": "ipython3",
   "version": "3.11.3"
  }
 },
 "nbformat": 4,
 "nbformat_minor": 5
}
