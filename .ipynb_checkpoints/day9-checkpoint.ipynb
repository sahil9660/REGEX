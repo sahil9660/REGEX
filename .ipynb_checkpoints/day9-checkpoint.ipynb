{
 "cells": [
  {
   "cell_type": "code",
   "execution_count": 4,
   "id": "ff476e44",
   "metadata": {},
   "outputs": [
    {
     "name": "stdout",
     "output_type": "stream",
     "text": [
      "1.check, 2.inset, 3.delete, 4.show, 0 EXIT = 1\n",
      "enter your name = sahil\n",
      "yes your name is present in the list\n",
      "1.check, 2.inset, 3.delete, 4.show, 0 EXIT = 1\n",
      "enter your name = aman\n",
      "no your name is not present in the list\n",
      "1.check, 2.inset, 3.delete, 4.show, 0 EXIT = 2\n",
      "enter your name to insetinng in the list = aman\n",
      "1.check, 2.inset, 3.delete, 4.show, 0 EXIT = 4\n",
      "['sahil', 'sarthak', 'hemant', 'om', 'aman']\n",
      "1.check, 2.inset, 3.delete, 4.show, 0 EXIT = 3\n",
      "enter your name to delete = aman\n",
      "1.check, 2.inset, 3.delete, 4.show, 0 EXIT = 4\n",
      "['sahil', 'sarthak', 'hemant', 'om']\n",
      "1.check, 2.inset, 3.delete, 4.show, 0 EXIT = 0\n",
      "exit\n"
     ]
    }
   ],
   "source": [
    "n=1\n",
    "lis=['sahil','sarthak','hemant','om']\n",
    "while(0<n):\n",
    "    n=int(input(\"1.check, 2.inset, 3.delete, 4.show, 0 EXIT = \"))\n",
    "    if(n==1):\n",
    "        name=input(\"enter your name = \")\n",
    "        if name in lis:\n",
    "            print(\"yes your name is present in the list\")\n",
    "        else:\n",
    "            print(\"no your name is not present in the list\")\n",
    "    elif(n==2):\n",
    "        name=input(\"enter your name to insetinng in the list = \")\n",
    "        lis.append(name)\n",
    "    elif(n==3):\n",
    "        name=input(\"enter your name to delete = \")\n",
    "        lis.remove(name)\n",
    "    elif(n==4):\n",
    "        print(lis)\n",
    "    elif(n==0):\n",
    "        print(\"exit\")\n",
    "    else:\n",
    "        print(\"invalid input\")"
   ]
  },
  {
   "cell_type": "code",
   "execution_count": 23,
   "id": "b56c0987",
   "metadata": {},
   "outputs": [
    {
     "data": {
      "text/plain": [
       "['Pass', 'Fail', 'Fail', 'Fail', 'Pass', 'Pass']"
      ]
     },
     "execution_count": 23,
     "metadata": {},
     "output_type": "execute_result"
    }
   ],
   "source": [
    "age=[50,10,30,40,101,150]\n",
    "for i in range(len(age)):\n",
    "    if age[i]>=50:\n",
    "        age[i]='Pass'\n",
    "    else:\n",
    "        age[i]='Fail'\n",
    "age"
   ]
  },
  {
   "cell_type": "code",
   "execution_count": 22,
   "id": "f4c3cb20",
   "metadata": {},
   "outputs": [
    {
     "name": "stdout",
     "output_type": "stream",
     "text": [
      "enter many um with spaces = 23 44\n",
      "23\n",
      "44\n"
     ]
    }
   ],
   "source": [
    "n=list(map(int,input(\"enter many um with spaces = \").split()))\n",
    "for i in n-1:\n",
    "    if i>i+1:\n",
    "        "
   ]
  },
  {
   "cell_type": "code",
   "execution_count": null,
   "id": "4dbef511",
   "metadata": {},
   "outputs": [],
   "source": []
  }
 ],
 "metadata": {
  "kernelspec": {
   "display_name": "Python 3 (ipykernel)",
   "language": "python",
   "name": "python3"
  },
  "language_info": {
   "codemirror_mode": {
    "name": "ipython",
    "version": 3
   },
   "file_extension": ".py",
   "mimetype": "text/x-python",
   "name": "python",
   "nbconvert_exporter": "python",
   "pygments_lexer": "ipython3",
   "version": "3.11.3"
  }
 },
 "nbformat": 4,
 "nbformat_minor": 5
}
