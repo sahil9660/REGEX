{
 "cells": [
  {
   "cell_type": "code",
   "execution_count": 6,
   "id": "e3ce5937",
   "metadata": {},
   "outputs": [
    {
     "name": "stdout",
     "output_type": "stream",
     "text": [
      "hello world\n",
      "tushar goyal\n"
     ]
    }
   ],
   "source": [
    "print(\"hello world\")\n",
    "print(\"tushar goyal\")"
   ]
  },
  {
   "cell_type": "code",
   "execution_count": 10,
   "id": "7ca3852a",
   "metadata": {},
   "outputs": [
    {
     "name": "stdout",
     "output_type": "stream",
     "text": [
      "hello world$$tushar goyal yash\n"
     ]
    }
   ],
   "source": [
    "print(\"hello world\", end=\"$$\")\n",
    "print(\"tushar goyal\",\"yash\")"
   ]
  },
  {
   "cell_type": "code",
   "execution_count": 13,
   "id": "17593811",
   "metadata": {},
   "outputs": [
    {
     "name": "stdout",
     "output_type": "stream",
     "text": [
      "tushar goyal-yash\n"
     ]
    }
   ],
   "source": [
    "print(\"tushar goyal\",\"yash\",sep=\"-\")"
   ]
  },
  {
   "cell_type": "code",
   "execution_count": 15,
   "id": "31046bcf",
   "metadata": {},
   "outputs": [
    {
     "name": "stdout",
     "output_type": "stream",
     "text": [
      "<class 'int'>\n"
     ]
    }
   ],
   "source": [
    "x=10\n",
    "print(type(x))"
   ]
  },
  {
   "cell_type": "code",
   "execution_count": 17,
   "id": "7c20e567",
   "metadata": {},
   "outputs": [
    {
     "name": "stdout",
     "output_type": "stream",
     "text": [
      "<class 'str'>\n"
     ]
    }
   ],
   "source": [
    "fname=\"tushar\"\n",
    "print(type(fname))"
   ]
  },
  {
   "cell_type": "code",
   "execution_count": 19,
   "id": "785b2613",
   "metadata": {},
   "outputs": [
    {
     "name": "stdout",
     "output_type": "stream",
     "text": [
      "tushar\n"
     ]
    }
   ],
   "source": [
    "print(fname)"
   ]
  },
  {
   "cell_type": "code",
   "execution_count": 28,
   "id": "66392092",
   "metadata": {},
   "outputs": [
    {
     "name": "stdout",
     "output_type": "stream",
     "text": [
      "stree name \n",
      "city\n",
      "country\n"
     ]
    }
   ],
   "source": [
    "address='''stree name \n",
    "city\n",
    "country'''\n",
    "print(address)"
   ]
  },
  {
   "cell_type": "code",
   "execution_count": 26,
   "id": "02b20f54",
   "metadata": {},
   "outputs": [
    {
     "name": "stdout",
     "output_type": "stream",
     "text": [
      "tushar\n"
     ]
    }
   ],
   "source": [
    "# hey - single line comment\n",
    "print(\"tushar\")"
   ]
  },
  {
   "cell_type": "code",
   "execution_count": 31,
   "id": "6693975f",
   "metadata": {},
   "outputs": [
    {
     "name": "stdout",
     "output_type": "stream",
     "text": [
      "hey\n"
     ]
    }
   ],
   "source": [
    "'''\n",
    "comment deta hu\n",
    "multiple line kaa\n",
    "'''\n",
    "\n",
    "print(\"hey\")"
   ]
  },
  {
   "cell_type": "code",
   "execution_count": 32,
   "id": "2b8e3e73",
   "metadata": {},
   "outputs": [],
   "source": [
    "#  comment and docstring"
   ]
  },
  {
   "cell_type": "code",
   "execution_count": 35,
   "id": "d10f8155",
   "metadata": {},
   "outputs": [
    {
     "name": "stdout",
     "output_type": "stream",
     "text": [
      "age 10 company regex\n"
     ]
    }
   ],
   "source": [
    "#  string formatting\n",
    "#  string format karna \n",
    "\n",
    "age=10\n",
    "company=\"regex\"\n",
    "\n",
    "print(\"age\",age,\"company\", company)"
   ]
  },
  {
   "cell_type": "code",
   "execution_count": 39,
   "id": "f16aae74",
   "metadata": {},
   "outputs": [
    {
     "name": "stdout",
     "output_type": "stream",
     "text": [
      "10 10 company regex\n"
     ]
    }
   ],
   "source": [
    "age=10\n",
    "company=\"regex\"\n",
    "\n",
    "print(f\"{age} {age} company {company}\")"
   ]
  },
  {
   "cell_type": "code",
   "execution_count": 42,
   "id": "20338053",
   "metadata": {},
   "outputs": [
    {
     "name": "stdout",
     "output_type": "stream",
     "text": [
      "tushar 2728644290544\n",
      "Fullname is tushar 2728644290544\n",
      "goyal 2728644289904\n"
     ]
    }
   ],
   "source": [
    "# call by reference vs call by valye\n",
    "\n",
    "#  call by object reference\n",
    "fname=\"tushar\"\n",
    "print(fname, id(fname))\n",
    "\n",
    "fullname=\"tushar\"\n",
    "print(\"Fullname is\", fullname, id(fullname))\n",
    "\n",
    "fname=\"goyal\"\n",
    "print(fname, id(fname) )"
   ]
  },
  {
   "cell_type": "code",
   "execution_count": 44,
   "id": "df95ddc9",
   "metadata": {},
   "outputs": [
    {
     "name": "stdout",
     "output_type": "stream",
     "text": [
      "tushar\n",
      "goyal\n"
     ]
    }
   ],
   "source": [
    "\n",
    "print(fullname)\n",
    "print(fname)\n"
   ]
  },
  {
   "cell_type": "code",
   "execution_count": 47,
   "id": "3f4d010a",
   "metadata": {},
   "outputs": [
    {
     "name": "stdout",
     "output_type": "stream",
     "text": [
      "2728644289904 2728644289904\n"
     ]
    }
   ],
   "source": [
    "fullname=\"goyal\"\n",
    "\n",
    "print(id(fullname), id(fname))"
   ]
  },
  {
   "cell_type": "code",
   "execution_count": 49,
   "id": "7047c858",
   "metadata": {},
   "outputs": [
    {
     "name": "stdout",
     "output_type": "stream",
     "text": [
      "hello user from insta tushar\n",
      "hello user from insta tushar\n"
     ]
    }
   ],
   "source": [
    "username=\"tushar\"\n",
    "msg=f\"hello user from insta {username}\"\n",
    "\n",
    "print(msg)\n",
    "username=\"regex\"\n",
    "print(msg)"
   ]
  },
  {
   "cell_type": "code",
   "execution_count": 60,
   "id": "3e5ff8e0",
   "metadata": {},
   "outputs": [
    {
     "name": "stdout",
     "output_type": "stream",
     "text": [
      "hey 100 tushar regex\n"
     ]
    }
   ],
   "source": [
    "#placeholder\n",
    "\n",
    "x=10\n",
    "y=20\n",
    "print( \"hey {1} tushar {0}\".format(\"regex\", 100)  )"
   ]
  },
  {
   "cell_type": "code",
   "execution_count": 61,
   "id": "2237bf4d",
   "metadata": {},
   "outputs": [],
   "source": [
    "#  string slicing operator and indexing\n",
    "#  indexing : position"
   ]
  },
  {
   "cell_type": "code",
   "execution_count": 65,
   "id": "99d52d8a",
   "metadata": {},
   "outputs": [
    {
     "data": {
      "text/plain": [
       "'T'"
      ]
     },
     "execution_count": 65,
     "metadata": {},
     "output_type": "execute_result"
    }
   ],
   "source": [
    "state=\"RAJASTHAN\"\n",
    "state[-4]"
   ]
  },
  {
   "cell_type": "code",
   "execution_count": 66,
   "id": "e6cf6192",
   "metadata": {},
   "outputs": [],
   "source": [
    "#  slicing : bascially to extract some portion of the data\n",
    "#  slicing   var[start : stop : [step=1]  ]\n",
    "\n",
    "#  stop is exclusive , 0 3\n"
   ]
  },
  {
   "cell_type": "code",
   "execution_count": 68,
   "id": "e29344bc",
   "metadata": {},
   "outputs": [
    {
     "data": {
      "text/plain": [
       "'RAJA'"
      ]
     },
     "execution_count": 68,
     "metadata": {},
     "output_type": "execute_result"
    }
   ],
   "source": [
    "state=\"RAJASTHAN\"\n",
    "state[0:4]"
   ]
  },
  {
   "cell_type": "code",
   "execution_count": 70,
   "id": "fd9cfc09",
   "metadata": {},
   "outputs": [
    {
     "data": {
      "text/plain": [
       "'JAST'"
      ]
     },
     "execution_count": 70,
     "metadata": {},
     "output_type": "execute_result"
    }
   ],
   "source": [
    "state=\"RAJASTHAN\"\n",
    "state[2:6]"
   ]
  },
  {
   "cell_type": "code",
   "execution_count": 74,
   "id": "2feea2e2",
   "metadata": {},
   "outputs": [
    {
     "data": {
      "text/plain": [
       "'ASTHAN'"
      ]
     },
     "execution_count": 74,
     "metadata": {},
     "output_type": "execute_result"
    }
   ],
   "source": [
    "state=\"RAJASTHAN\"\n",
    "state[3:]"
   ]
  },
  {
   "cell_type": "code",
   "execution_count": 77,
   "id": "e6cd1847",
   "metadata": {},
   "outputs": [
    {
     "data": {
      "text/plain": [
       "'AST'"
      ]
     },
     "execution_count": 77,
     "metadata": {},
     "output_type": "execute_result"
    }
   ],
   "source": [
    "state=\"RAJASTHAN\"\n",
    "state[3:6]"
   ]
  },
  {
   "cell_type": "code",
   "execution_count": 78,
   "id": "7a8aa639",
   "metadata": {},
   "outputs": [
    {
     "data": {
      "text/plain": [
       "'RAJA'"
      ]
     },
     "execution_count": 78,
     "metadata": {},
     "output_type": "execute_result"
    }
   ],
   "source": [
    "state=\"RAJASTHAN\"\n",
    "state[0:4:1]\n",
    "\n",
    "#  start=> 0+1 => 1+1 => 2+1 => 3"
   ]
  },
  {
   "cell_type": "code",
   "execution_count": 79,
   "id": "d51f8473",
   "metadata": {},
   "outputs": [
    {
     "data": {
      "text/plain": [
       "'RAJA'"
      ]
     },
     "execution_count": 79,
     "metadata": {},
     "output_type": "execute_result"
    }
   ],
   "source": [
    "state=\"RAJASTHAN\"\n",
    "state[0:4]"
   ]
  },
  {
   "cell_type": "code",
   "execution_count": 81,
   "id": "bc126464",
   "metadata": {},
   "outputs": [
    {
     "data": {
      "text/plain": [
       "'RAJA'"
      ]
     },
     "execution_count": 81,
     "metadata": {},
     "output_type": "execute_result"
    }
   ],
   "source": [
    "state=\"RAJASTHAN\"\n",
    "state[0:4:1]"
   ]
  },
  {
   "cell_type": "code",
   "execution_count": 84,
   "id": "a6899e0f",
   "metadata": {},
   "outputs": [
    {
     "data": {
      "text/plain": [
       "'R'"
      ]
     },
     "execution_count": 84,
     "metadata": {},
     "output_type": "execute_result"
    }
   ],
   "source": [
    "state=\"RAJASTHAN\"\n",
    "state[0:4:9]\n",
    "\n",
    "#  0,1,2,3\n",
    "#  0-3 => -3"
   ]
  },
  {
   "cell_type": "code",
   "execution_count": 87,
   "id": "d5fd1f17",
   "metadata": {},
   "outputs": [
    {
     "data": {
      "text/plain": [
       "''"
      ]
     },
     "execution_count": 87,
     "metadata": {},
     "output_type": "execute_result"
    }
   ],
   "source": [
    "state=\"RAJASTHAN\"\n",
    "state[-1:-4:1]"
   ]
  },
  {
   "cell_type": "code",
   "execution_count": 89,
   "id": "fa76318e",
   "metadata": {},
   "outputs": [
    {
     "data": {
      "text/plain": [
       "'NAH'"
      ]
     },
     "execution_count": 89,
     "metadata": {},
     "output_type": "execute_result"
    }
   ],
   "source": [
    "state=\"RAJASTHAN\"\n",
    "state[-1:-4:-1]"
   ]
  },
  {
   "cell_type": "code",
   "execution_count": 90,
   "id": "321a401d",
   "metadata": {},
   "outputs": [
    {
     "data": {
      "text/plain": [
       "'STH'"
      ]
     },
     "execution_count": 90,
     "metadata": {},
     "output_type": "execute_result"
    }
   ],
   "source": [
    "state=\"RAJASTHAN\"\n",
    "state[-5:-2:1]"
   ]
  },
  {
   "cell_type": "code",
   "execution_count": 93,
   "id": "719509d3",
   "metadata": {},
   "outputs": [
    {
     "data": {
      "text/plain": [
       "'NAHTSAJAR'"
      ]
     },
     "execution_count": 93,
     "metadata": {},
     "output_type": "execute_result"
    }
   ],
   "source": [
    "state=\"RAJASTHAN\"\n",
    "state[-1::-1]"
   ]
  },
  {
   "cell_type": "code",
   "execution_count": 98,
   "id": "1d6b5bf3",
   "metadata": {},
   "outputs": [
    {
     "data": {
      "text/plain": [
       "''"
      ]
     },
     "execution_count": 98,
     "metadata": {},
     "output_type": "execute_result"
    }
   ],
   "source": [
    "state=\"RAJASTHAN\"\n",
    "state[-1:3:1]"
   ]
  }
 ],
 "metadata": {
  "kernelspec": {
   "display_name": "Python 3 (ipykernel)",
   "language": "python",
   "name": "python3"
  },
  "language_info": {
   "codemirror_mode": {
    "name": "ipython",
    "version": 3
   },
   "file_extension": ".py",
   "mimetype": "text/x-python",
   "name": "python",
   "nbconvert_exporter": "python",
   "pygments_lexer": "ipython3",
   "version": "3.10.11"
  }
 },
 "nbformat": 4,
 "nbformat_minor": 5
}
