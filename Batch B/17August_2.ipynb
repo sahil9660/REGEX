{
 "cells": [
  {
   "cell_type": "code",
   "execution_count": 3,
   "id": "208a2a71",
   "metadata": {},
   "outputs": [
    {
     "name": "stdout",
     "output_type": "stream",
     "text": [
      "<class 'tuple'>\n"
     ]
    }
   ],
   "source": [
    "#  tuple : immutable \n",
    "myTuple= (10,20,30)\n",
    "print(type(myTuple))"
   ]
  },
  {
   "cell_type": "code",
   "execution_count": 6,
   "id": "9c689da0",
   "metadata": {},
   "outputs": [
    {
     "name": "stdout",
     "output_type": "stream",
     "text": [
      "<class 'tuple'>\n"
     ]
    }
   ],
   "source": [
    "myTuple= 10,20,\"hey\"\n",
    "print(type(myTuple))\n",
    "\n"
   ]
  },
  {
   "cell_type": "code",
   "execution_count": 13,
   "id": "19d41879",
   "metadata": {},
   "outputs": [
    {
     "data": {
      "text/plain": [
       "(20,)"
      ]
     },
     "execution_count": 13,
     "metadata": {},
     "output_type": "execute_result"
    }
   ],
   "source": [
    "myTuple[-2:-1]"
   ]
  },
  {
   "cell_type": "code",
   "execution_count": 14,
   "id": "b31a6545",
   "metadata": {},
   "outputs": [],
   "source": [
    "#  dictionary : data type mutuable in nature\n",
    "#  no index position \n",
    "#  key : value   {}\n",
    "#  key: ( identifier) unique \n",
    "#  value( data) : unique or duplicate "
   ]
  },
  {
   "cell_type": "code",
   "execution_count": 17,
   "id": "241cf422",
   "metadata": {},
   "outputs": [
    {
     "name": "stdout",
     "output_type": "stream",
     "text": [
      "<class 'dict'>\n"
     ]
    }
   ],
   "source": [
    "mydictionary={\"rollnumber\":100 , 1:\"tushar\", 2:\"aman\"}\n",
    "print(type(mydictionary) )"
   ]
  },
  {
   "cell_type": "code",
   "execution_count": 22,
   "id": "5c974faf",
   "metadata": {},
   "outputs": [
    {
     "data": {
      "text/plain": [
       "{'rollnumber': 100, 1: 'aditya', 2: 'aman'}"
      ]
     },
     "execution_count": 22,
     "metadata": {},
     "output_type": "execute_result"
    }
   ],
   "source": [
    "#  update\n",
    "mydictionary[1] = \"aditya\"\n",
    "mydictionary"
   ]
  },
  {
   "cell_type": "code",
   "execution_count": 25,
   "id": "734faf02",
   "metadata": {},
   "outputs": [],
   "source": [
    "#insert \n",
    "mydictionary[\"email\"]=\"aman@gmail.com\""
   ]
  },
  {
   "cell_type": "code",
   "execution_count": 26,
   "id": "f67e4239",
   "metadata": {},
   "outputs": [
    {
     "data": {
      "text/plain": [
       "{'rollnumber': 100, 1: 'aditya', 2: 'aman', 'email': 'aman@gmail.com'}"
      ]
     },
     "execution_count": 26,
     "metadata": {},
     "output_type": "execute_result"
    }
   ],
   "source": [
    "mydictionary"
   ]
  },
  {
   "cell_type": "code",
   "execution_count": 28,
   "id": "50e78b5e",
   "metadata": {},
   "outputs": [
    {
     "data": {
      "text/plain": [
       "{'rollnumber': 100, 1: 'aditya', 2: 'aman', 'email': 'aman@gmail.com'}"
      ]
     },
     "execution_count": 28,
     "metadata": {},
     "output_type": "execute_result"
    }
   ],
   "source": [
    "mydictionary"
   ]
  },
  {
   "cell_type": "code",
   "execution_count": 42,
   "id": "127596b9",
   "metadata": {},
   "outputs": [
    {
     "data": {
      "text/plain": [
       "{'rollnumber': 100, 1: 'ujjwal', 2: 'aman'}"
      ]
     },
     "execution_count": 42,
     "metadata": {},
     "output_type": "execute_result"
    }
   ],
   "source": [
    "# key will be unique , key immutable data ki honi chaiye\n",
    "\n",
    "# unorderd ,  python 3 ordered ( jis way mai store karoge)\n",
    "\n",
    "# collections => ordered dictionary\n",
    "mydictionary={ \"rollnumber\":100 , 1:\"tushar\", \n",
    "              2:\"aman\",1:\"ujjwal\"}\n",
    "\n",
    "mydictionary\n",
    "\n"
   ]
  },
  {
   "cell_type": "code",
   "execution_count": 34,
   "id": "c273adc5",
   "metadata": {},
   "outputs": [
    {
     "name": "stdout",
     "output_type": "stream",
     "text": [
      "10 2432229310992\n",
      "10 2432229310992\n"
     ]
    }
   ],
   "source": [
    "x=10\n",
    "print(x, id(x))\n",
    "y=10\n",
    "print(y, id(y))"
   ]
  },
  {
   "cell_type": "code",
   "execution_count": 43,
   "id": "171f9b4d",
   "metadata": {},
   "outputs": [
    {
     "name": "stdout",
     "output_type": "stream",
     "text": [
      "2432316582704\n",
      "2432229316688\n"
     ]
    }
   ],
   "source": [
    "x=258\n",
    "print(id(x))\n",
    "x=188\n",
    "print(id(x))"
   ]
  },
  {
   "cell_type": "code",
   "execution_count": 46,
   "id": "561a9630",
   "metadata": {},
   "outputs": [
    {
     "data": {
      "text/plain": [
       "{'rollnumber': 100, 1: 'ujjwal', 2: 'aman'}"
      ]
     },
     "execution_count": 46,
     "metadata": {},
     "output_type": "execute_result"
    }
   ],
   "source": [
    "mydictionary"
   ]
  },
  {
   "cell_type": "code",
   "execution_count": 49,
   "id": "9ad54f33",
   "metadata": {},
   "outputs": [],
   "source": [
    "mydictionary.get(10001)"
   ]
  },
  {
   "cell_type": "code",
   "execution_count": 53,
   "id": "105f22ec",
   "metadata": {},
   "outputs": [
    {
     "data": {
      "text/plain": [
       "{'rollnumber': 100, 1: 'ujjwal', 2: 'aman'}"
      ]
     },
     "execution_count": 53,
     "metadata": {},
     "output_type": "execute_result"
    }
   ],
   "source": [
    "mydictionary"
   ]
  },
  {
   "cell_type": "code",
   "execution_count": 55,
   "id": "4b72dd53",
   "metadata": {},
   "outputs": [
    {
     "data": {
      "text/plain": [
       "(1, 'ujjwal')"
      ]
     },
     "execution_count": 55,
     "metadata": {},
     "output_type": "execute_result"
    }
   ],
   "source": [
    "mydictionary.popitem()\n"
   ]
  },
  {
   "cell_type": "code",
   "execution_count": 62,
   "id": "55cb6f7a",
   "metadata": {},
   "outputs": [
    {
     "name": "stdout",
     "output_type": "stream",
     "text": [
      "2 aman 100\n"
     ]
    }
   ],
   "source": [
    "# tuple data\n",
    "x=(2, 'aman',100)\n",
    "\n",
    "a,b,c=x\n",
    "print(a,b,c)\n",
    "# print(type(x))"
   ]
  },
  {
   "cell_type": "code",
   "execution_count": 64,
   "id": "be1089ab",
   "metadata": {},
   "outputs": [],
   "source": [
    "mydictionary={ \"rollnumber\":100 , 1:\"tushar\", \n",
    "              2:\"aman\"}"
   ]
  },
  {
   "cell_type": "code",
   "execution_count": 66,
   "id": "ac4c6d7e",
   "metadata": {},
   "outputs": [
    {
     "data": {
      "text/plain": [
       "{'rollnumber': 100, 1: 'tushar', 2: 'aman'}"
      ]
     },
     "execution_count": 66,
     "metadata": {},
     "output_type": "execute_result"
    }
   ],
   "source": [
    "mydictionary"
   ]
  },
  {
   "cell_type": "code",
   "execution_count": 69,
   "id": "60b0375c",
   "metadata": {},
   "outputs": [
    {
     "data": {
      "text/plain": [
       "dict_keys(['rollnumber', 1, 2])"
      ]
     },
     "execution_count": 69,
     "metadata": {},
     "output_type": "execute_result"
    }
   ],
   "source": [
    "mydictionary.keys()"
   ]
  },
  {
   "cell_type": "code",
   "execution_count": 71,
   "id": "ed235fd8",
   "metadata": {},
   "outputs": [
    {
     "data": {
      "text/plain": [
       "dict_items([('rollnumber', 100), (1, 'tushar'), (2, 'aman')])"
      ]
     },
     "execution_count": 71,
     "metadata": {},
     "output_type": "execute_result"
    }
   ],
   "source": [
    "mydictionary.items()"
   ]
  },
  {
   "cell_type": "code",
   "execution_count": 75,
   "id": "d33dacf3",
   "metadata": {},
   "outputs": [
    {
     "name": "stdout",
     "output_type": "stream",
     "text": [
      "rollnumber 100\n",
      "1 tushar\n",
      "2 aman\n"
     ]
    }
   ],
   "source": [
    "mylist=[('rollnumber', 100), (1, 'tushar'), (2, 'aman')]\n",
    "\n",
    "for x in mylist:\n",
    "    key, data=x\n",
    "    print(key,data)"
   ]
  },
  {
   "cell_type": "code",
   "execution_count": 78,
   "id": "ae2f0d70",
   "metadata": {},
   "outputs": [
    {
     "name": "stdout",
     "output_type": "stream",
     "text": [
      "rollnumber 100\n",
      "1 tushar\n",
      "2 aman\n"
     ]
    }
   ],
   "source": [
    "for x in mydictionary.items():\n",
    "    key,data=x\n",
    "    print(key, data)"
   ]
  },
  {
   "cell_type": "code",
   "execution_count": 80,
   "id": "e5a89b91",
   "metadata": {},
   "outputs": [
    {
     "name": "stdout",
     "output_type": "stream",
     "text": [
      "rollnumber 100\n",
      "1 tushar\n",
      "2 aman\n"
     ]
    }
   ],
   "source": [
    "for key,data in mydictionary.items():\n",
    "    print(key, data)"
   ]
  },
  {
   "cell_type": "code",
   "execution_count": 83,
   "id": "5f484c80",
   "metadata": {},
   "outputs": [
    {
     "data": {
      "text/plain": [
       "{1: 'aman', 'japan': 'herosima'}"
      ]
     },
     "execution_count": 83,
     "metadata": {},
     "output_type": "execute_result"
    }
   ],
   "source": [
    "lis1= [(1,\"aman\"),(\"japan\",\"herosima\")]\n",
    "dict(lis1)"
   ]
  },
  {
   "cell_type": "code",
   "execution_count": 86,
   "id": "a7153ae7",
   "metadata": {},
   "outputs": [],
   "source": [
    "# set => mutuable datatype\n",
    "# set are used for multiple data together\n",
    "# saare element hote hai unique\n",
    "\n",
    "myset= set( {} )\n",
    "\n",
    "# set() directly"
   ]
  },
  {
   "cell_type": "code",
   "execution_count": 92,
   "id": "f597256b",
   "metadata": {},
   "outputs": [
    {
     "name": "stdout",
     "output_type": "stream",
     "text": [
      "{99, 20, 70, 'hey', 40, 10, 30}\n"
     ]
    }
   ],
   "source": [
    "myset={10,20,30,40,10,10,70,\"hey\",99}\n",
    "print(myset)"
   ]
  },
  {
   "cell_type": "code",
   "execution_count": 93,
   "id": "37077485",
   "metadata": {},
   "outputs": [
    {
     "data": {
      "text/plain": [
       "{10, 20, 30, 40, 70, 88, 99, 'hey'}"
      ]
     },
     "execution_count": 93,
     "metadata": {},
     "output_type": "execute_result"
    }
   ],
   "source": [
    "myset.add(88)\n",
    "myset"
   ]
  },
  {
   "cell_type": "code",
   "execution_count": 96,
   "id": "2c15ed3d",
   "metadata": {},
   "outputs": [
    {
     "ename": "KeyError",
     "evalue": "10",
     "output_type": "error",
     "traceback": [
      "\u001b[1;31m---------------------------------------------------------------------------\u001b[0m",
      "\u001b[1;31mKeyError\u001b[0m                                  Traceback (most recent call last)",
      "Cell \u001b[1;32mIn[96], line 1\u001b[0m\n\u001b[1;32m----> 1\u001b[0m \u001b[43mmyset\u001b[49m\u001b[38;5;241;43m.\u001b[39;49m\u001b[43mremove\u001b[49m\u001b[43m(\u001b[49m\u001b[38;5;241;43m10\u001b[39;49m\u001b[43m)\u001b[49m\n\u001b[0;32m      2\u001b[0m myset\n",
      "\u001b[1;31mKeyError\u001b[0m: 10"
     ]
    }
   ],
   "source": [
    "myset.remove(10)\n",
    "myset"
   ]
  },
  {
   "cell_type": "raw",
   "id": "ad01694e",
   "metadata": {},
   "source": [
    "    myset"
   ]
  },
  {
   "cell_type": "code",
   "execution_count": 100,
   "id": "3dff2956",
   "metadata": {},
   "outputs": [
    {
     "ename": "KeyError",
     "evalue": "20",
     "output_type": "error",
     "traceback": [
      "\u001b[1;31m---------------------------------------------------------------------------\u001b[0m",
      "\u001b[1;31mKeyError\u001b[0m                                  Traceback (most recent call last)",
      "Cell \u001b[1;32mIn[100], line 1\u001b[0m\n\u001b[1;32m----> 1\u001b[0m \u001b[43mmyset\u001b[49m\u001b[38;5;241;43m.\u001b[39;49m\u001b[43mremove\u001b[49m\u001b[43m(\u001b[49m\u001b[38;5;241;43m20\u001b[39;49m\u001b[43m)\u001b[49m\n\u001b[0;32m      2\u001b[0m myset\n",
      "\u001b[1;31mKeyError\u001b[0m: 20"
     ]
    }
   ],
   "source": [
    "myset.remove(20)\n",
    "myset"
   ]
  },
  {
   "cell_type": "code",
   "execution_count": 101,
   "id": "3643840d",
   "metadata": {},
   "outputs": [
    {
     "data": {
      "text/plain": [
       "{30, 40, 70, 88, 99, 'hey'}"
      ]
     },
     "execution_count": 101,
     "metadata": {},
     "output_type": "execute_result"
    }
   ],
   "source": [
    "myset"
   ]
  },
  {
   "cell_type": "code",
   "execution_count": 104,
   "id": "d36bc1d0",
   "metadata": {},
   "outputs": [
    {
     "data": {
      "text/plain": [
       "{40, 70, 88, 99, 'hey'}"
      ]
     },
     "execution_count": 104,
     "metadata": {},
     "output_type": "execute_result"
    }
   ],
   "source": [
    "myset.discard(30)\n",
    "myset"
   ]
  },
  {
   "cell_type": "code",
   "execution_count": 106,
   "id": "6a25fdd2",
   "metadata": {},
   "outputs": [
    {
     "data": {
      "text/plain": [
       "{1, 2, 3, 4, 5, 6, 7, 8, 9, 10}"
      ]
     },
     "execution_count": 106,
     "metadata": {},
     "output_type": "execute_result"
    }
   ],
   "source": [
    "mysetA={1,2,3,4,5,6}\n",
    "mysetB={5,6,7,8,9,10}\n",
    "\n",
    "mysetA.union(mysetB)"
   ]
  },
  {
   "cell_type": "code",
   "execution_count": 111,
   "id": "a79a212d",
   "metadata": {},
   "outputs": [],
   "source": [
    "mysetA={1,2,3,4,5,6}\n",
    "mysetB={5,6,7,8,9,10}\n",
    "\n",
    "mysetA.intersection_update(mysetB)"
   ]
  },
  {
   "cell_type": "code",
   "execution_count": 113,
   "id": "6f690b3f",
   "metadata": {},
   "outputs": [
    {
     "data": {
      "text/plain": [
       "{5, 6}"
      ]
     },
     "execution_count": 113,
     "metadata": {},
     "output_type": "execute_result"
    }
   ],
   "source": [
    "mysetA."
   ]
  },
  {
   "cell_type": "code",
   "execution_count": 125,
   "id": "b1529c5a",
   "metadata": {},
   "outputs": [],
   "source": [
    "mylist=[10,20,30,99,77,55,8]\n",
    "sqlist=[]\n",
    "for x in mylist:\n",
    "    sqlist.append(x**2)"
   ]
  },
  {
   "cell_type": "code",
   "execution_count": 127,
   "id": "05aa9899",
   "metadata": {},
   "outputs": [
    {
     "name": "stdout",
     "output_type": "stream",
     "text": [
      "[100, 400, 900, 64]\n"
     ]
    }
   ],
   "source": [
    "# list comphrehension\n",
    "newlist = [x**2 for x in mylist if x%2==0]\n",
    "print(newlist)"
   ]
  },
  {
   "cell_type": "code",
   "execution_count": 128,
   "id": "c589a9d7",
   "metadata": {},
   "outputs": [
    {
     "data": {
      "text/plain": [
       "{15, 25, 35}"
      ]
     },
     "execution_count": 128,
     "metadata": {},
     "output_type": "execute_result"
    }
   ],
   "source": [
    "seta={10,20,30}\n",
    "\n",
    "{x+5 for x in seta}"
   ]
  }
 ],
 "metadata": {
  "kernelspec": {
   "display_name": "Python 3 (ipykernel)",
   "language": "python",
   "name": "python3"
  },
  "language_info": {
   "codemirror_mode": {
    "name": "ipython",
    "version": 3
   },
   "file_extension": ".py",
   "mimetype": "text/x-python",
   "name": "python",
   "nbconvert_exporter": "python",
   "pygments_lexer": "ipython3",
   "version": "3.10.11"
  }
 },
 "nbformat": 4,
 "nbformat_minor": 5
}
