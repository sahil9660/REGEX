{
 "cells": [
  {
   "cell_type": "code",
   "execution_count": 1,
   "id": "0c29327d",
   "metadata": {},
   "outputs": [
    {
     "name": "stdout",
     "output_type": "stream",
     "text": [
      "hello world regex\n"
     ]
    }
   ],
   "source": [
    "print(\"hello world\",end=\" \")\n",
    "print(\"regex\")"
   ]
  },
  {
   "cell_type": "code",
   "execution_count": 2,
   "id": "023390ab",
   "metadata": {},
   "outputs": [
    {
     "name": "stdout",
     "output_type": "stream",
     "text": [
      "hello world$$regex\n"
     ]
    }
   ],
   "source": [
    "print(\"hello world\",end=\"$$\")\n",
    "print(\"regex\")"
   ]
  },
  {
   "cell_type": "code",
   "execution_count": 3,
   "id": "cc8f2db8",
   "metadata": {},
   "outputs": [
    {
     "name": "stdout",
     "output_type": "stream",
     "text": [
      "yash--aman--tushar\n"
     ]
    }
   ],
   "source": [
    "print(\"yash\",\"aman\",\"tushar\",sep=\"--\")"
   ]
  },
  {
   "cell_type": "code",
   "execution_count": 4,
   "id": "8e60159c",
   "metadata": {},
   "outputs": [
    {
     "name": "stdout",
     "output_type": "stream",
     "text": [
      "age is 100\n"
     ]
    }
   ],
   "source": [
    "age=100\n",
    "print(\"age is\",age)"
   ]
  },
  {
   "cell_type": "code",
   "execution_count": 2,
   "id": "12344d5b",
   "metadata": {},
   "outputs": [
    {
     "name": "stdout",
     "output_type": "stream",
     "text": [
      "<class 'int'>\n"
     ]
    }
   ],
   "source": [
    "age=100\n",
    "print(type(age))\n"
   ]
  },
  {
   "cell_type": "code",
   "execution_count": 4,
   "id": "0f290731",
   "metadata": {},
   "outputs": [
    {
     "name": "stdout",
     "output_type": "stream",
     "text": [
      "<class 'str'>\n"
     ]
    }
   ],
   "source": [
    "fname=\"regex\"\n",
    "print(type(fname))"
   ]
  },
  {
   "cell_type": "code",
   "execution_count": 7,
   "id": "2b0cd558",
   "metadata": {},
   "outputs": [
    {
     "name": "stdout",
     "output_type": "stream",
     "text": [
      "street \n",
      "name city name \n",
      "country\n"
     ]
    }
   ],
   "source": [
    "#  document ( to understand )\n",
    "#multi line string\n",
    "address=\"\"\"street \n",
    "name city name \n",
    "country\"\"\"\n",
    "\n",
    "print(address)"
   ]
  },
  {
   "cell_type": "code",
   "execution_count": 8,
   "id": "325a9802",
   "metadata": {},
   "outputs": [
    {
     "name": "stdout",
     "output_type": "stream",
     "text": [
      "street \n",
      "name city name \n",
      "country\n"
     ]
    }
   ],
   "source": [
    "address='''street \n",
    "name city name \n",
    "country'''\n",
    "\n",
    "print(address)"
   ]
  },
  {
   "cell_type": "code",
   "execution_count": 9,
   "id": "14bb3f4d",
   "metadata": {},
   "outputs": [
    {
     "data": {
      "text/plain": [
       "str"
      ]
     },
     "execution_count": 9,
     "metadata": {},
     "output_type": "execute_result"
    }
   ],
   "source": [
    "type('''\n",
    "this is a \n",
    "multi line comment\n",
    "''')\n",
    "# print(\"hi\")"
   ]
  },
  {
   "cell_type": "code",
   "execution_count": 10,
   "id": "d77ef6db",
   "metadata": {},
   "outputs": [
    {
     "name": "stdout",
     "output_type": "stream",
     "text": [
      "age is 60 First name is tushar\n"
     ]
    }
   ],
   "source": [
    "#  string formatting\n",
    "\n",
    "age=60\n",
    "fname=\"tushar\"\n",
    "company=\"regex\"\n",
    "\n",
    "print(\"age is\",age,\"First name is\",fname)\n"
   ]
  },
  {
   "cell_type": "code",
   "execution_count": 11,
   "id": "d03ef29b",
   "metadata": {},
   "outputs": [
    {
     "name": "stdout",
     "output_type": "stream",
     "text": [
      "60 is 60 First name is tushar\n"
     ]
    }
   ],
   "source": [
    "age=60\n",
    "fname=\"tushar\"\n",
    "company=\"regex\"\n",
    "\n",
    "print(f\"{age} is {age} First name is {fname}\")"
   ]
  },
  {
   "cell_type": "code",
   "execution_count": 12,
   "id": "fbe0d85f",
   "metadata": {},
   "outputs": [
    {
     "name": "stdout",
     "output_type": "stream",
     "text": [
      "tushar 2589722181168\n",
      "tushar 2589722181168\n",
      "goyal 2589722300208\n"
     ]
    }
   ],
   "source": [
    "# call by object reference\n",
    "\n",
    "fname=\"tushar\"\n",
    "print(fname, id(fname)  )\n",
    "\n",
    "company=\"tushar\"\n",
    "print(company, id(company))\n",
    "\n",
    "fname=\"goyal\"\n",
    "print(fname, id(fname))"
   ]
  },
  {
   "cell_type": "code",
   "execution_count": 13,
   "id": "8d6f44df",
   "metadata": {},
   "outputs": [
    {
     "name": "stdout",
     "output_type": "stream",
     "text": [
      "tushar 2589722181168\n",
      "tushar 2589722181168\n",
      "goyal\n"
     ]
    }
   ],
   "source": [
    "fname=\"tushar\"\n",
    "print(fname, id(fname)  )\n",
    "\n",
    "company=\"tushar\"\n",
    "print(company, id(company))\n",
    "\n",
    "fname=\"goyal\"\n",
    "print(fname)"
   ]
  },
  {
   "cell_type": "code",
   "execution_count": 14,
   "id": "130b91b5",
   "metadata": {},
   "outputs": [
    {
     "name": "stdout",
     "output_type": "stream",
     "text": [
      "tushar 2589722181168\n"
     ]
    }
   ],
   "source": [
    "print(company, id(company))"
   ]
  },
  {
   "cell_type": "code",
   "execution_count": 15,
   "id": "2c03ef9e",
   "metadata": {},
   "outputs": [
    {
     "name": "stdout",
     "output_type": "stream",
     "text": [
      "140713316881480\n",
      "140713316881480\n",
      "new y 140713316881800\n",
      "140713316881480\n"
     ]
    }
   ],
   "source": [
    "x=10\n",
    "print(id(x))\n",
    "\n",
    "y=10\n",
    "print(id(y))\n",
    "\n",
    "y=20\n",
    "print(\"new y\",id(y))\n",
    "\n",
    "print(id(x))"
   ]
  },
  {
   "cell_type": "code",
   "execution_count": 16,
   "id": "bb1a09d8",
   "metadata": {},
   "outputs": [
    {
     "data": {
      "text/plain": [
       "'H'"
      ]
     },
     "execution_count": 16,
     "metadata": {},
     "output_type": "execute_result"
    }
   ],
   "source": [
    "# slicing and indexing\n",
    "# slice : portion extract original mai se\n",
    "\n",
    "state=\"RAJASTHAN\"\n",
    "state[-3]\n",
    "\n"
   ]
  },
  {
   "cell_type": "code",
   "execution_count": 17,
   "id": "a3b721c7",
   "metadata": {},
   "outputs": [],
   "source": [
    "#  slicing     var[start : stop : [step=1]   ]\n",
    "#  stop is exclusive "
   ]
  },
  {
   "cell_type": "code",
   "execution_count": 18,
   "id": "4827c97a",
   "metadata": {},
   "outputs": [
    {
     "data": {
      "text/plain": [
       "'THA'"
      ]
     },
     "execution_count": 18,
     "metadata": {},
     "output_type": "execute_result"
    }
   ],
   "source": [
    "state=\"RAJASTHAN\"\n",
    "state[5:8]"
   ]
  },
  {
   "cell_type": "code",
   "execution_count": 19,
   "id": "4495dc25",
   "metadata": {},
   "outputs": [
    {
     "data": {
      "text/plain": [
       "'RAJA'"
      ]
     },
     "execution_count": 19,
     "metadata": {},
     "output_type": "execute_result"
    }
   ],
   "source": [
    "state=\"RAJASTHAN\"\n",
    "state[0:4]\n"
   ]
  },
  {
   "cell_type": "code",
   "execution_count": 20,
   "id": "3e063725",
   "metadata": {},
   "outputs": [
    {
     "data": {
      "text/plain": [
       "'RAJA'"
      ]
     },
     "execution_count": 20,
     "metadata": {},
     "output_type": "execute_result"
    }
   ],
   "source": [
    "state=\"RAJASTHAN\"\n",
    "state[0:4:1]"
   ]
  },
  {
   "cell_type": "code",
   "execution_count": 21,
   "id": "415f1ffc",
   "metadata": {},
   "outputs": [
    {
     "data": {
      "text/plain": [
       "''"
      ]
     },
     "execution_count": 21,
     "metadata": {},
     "output_type": "execute_result"
    }
   ],
   "source": [
    "state=\"RAJASTHAN\"\n",
    "state[2:4:-2]"
   ]
  },
  {
   "cell_type": "code",
   "execution_count": 22,
   "id": "b3b50cd2",
   "metadata": {},
   "outputs": [
    {
     "data": {
      "text/plain": [
       "'RJS'"
      ]
     },
     "execution_count": 22,
     "metadata": {},
     "output_type": "execute_result"
    }
   ],
   "source": [
    "state=\"RAJASTHAN\"\n",
    "state[0:6:2]"
   ]
  },
  {
   "cell_type": "code",
   "execution_count": 23,
   "id": "29672829",
   "metadata": {},
   "outputs": [
    {
     "data": {
      "text/plain": [
       "'NAH'"
      ]
     },
     "execution_count": 23,
     "metadata": {},
     "output_type": "execute_result"
    }
   ],
   "source": [
    "state=\"RAJASTHAN\"\n",
    "state[-1:-4:-1]"
   ]
  },
  {
   "cell_type": "code",
   "execution_count": 24,
   "id": "f2e964c5",
   "metadata": {},
   "outputs": [
    {
     "data": {
      "text/plain": [
       "''"
      ]
     },
     "execution_count": 24,
     "metadata": {},
     "output_type": "execute_result"
    }
   ],
   "source": [
    "state=\"RAJASTHAN\"\n",
    "state[-5:-2:-1]"
   ]
  },
  {
   "cell_type": "code",
   "execution_count": 25,
   "id": "b72d62c6",
   "metadata": {},
   "outputs": [
    {
     "data": {
      "text/plain": [
       "'JASTHAN'"
      ]
     },
     "execution_count": 25,
     "metadata": {},
     "output_type": "execute_result"
    }
   ],
   "source": [
    "state=\"RAJASTHAN\"\n",
    "state[2:]"
   ]
  },
  {
   "cell_type": "code",
   "execution_count": 26,
   "id": "f723a1fe",
   "metadata": {},
   "outputs": [
    {
     "data": {
      "text/plain": [
       "'RAJA'"
      ]
     },
     "execution_count": 26,
     "metadata": {},
     "output_type": "execute_result"
    }
   ],
   "source": [
    "state=\"RAJASTHAN\"\n",
    "state[:4]"
   ]
  },
  {
   "cell_type": "code",
   "execution_count": 27,
   "id": "1217efb1",
   "metadata": {},
   "outputs": [
    {
     "data": {
      "text/plain": [
       "'HTSAJAR'"
      ]
     },
     "execution_count": 27,
     "metadata": {},
     "output_type": "execute_result"
    }
   ],
   "source": [
    "state=\"RAJASTHAN\"\n",
    "state[-3::-1]"
   ]
  },
  {
   "cell_type": "code",
   "execution_count": 28,
   "id": "c7263408",
   "metadata": {},
   "outputs": [
    {
     "data": {
      "text/plain": [
       "'NAHTSA'"
      ]
     },
     "execution_count": 28,
     "metadata": {},
     "output_type": "execute_result"
    }
   ],
   "source": [
    "state=\"RAJASTHAN\"\n",
    "state[-1:2:-1]"
   ]
  }
 ],
 "metadata": {
  "kernelspec": {
   "display_name": "Python 3 (ipykernel)",
   "language": "python",
   "name": "python3"
  },
  "language_info": {
   "codemirror_mode": {
    "name": "ipython",
    "version": 3
   },
   "file_extension": ".py",
   "mimetype": "text/x-python",
   "name": "python",
   "nbconvert_exporter": "python",
   "pygments_lexer": "ipython3",
   "version": "3.11.3"
  }
 },
 "nbformat": 4,
 "nbformat_minor": 5
}
