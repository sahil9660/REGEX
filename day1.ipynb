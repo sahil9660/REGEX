{
 "cells": [
  {
   "cell_type": "code",
   "execution_count": null,
   "id": "e3430247",
   "metadata": {},
   "outputs": [],
   "source": [
    "20/3"
   ]
  },
  {
   "cell_type": "code",
   "execution_count": null,
   "id": "51fe5960",
   "metadata": {},
   "outputs": [],
   "source": [
    "20//3"
   ]
  },
  {
   "cell_type": "code",
   "execution_count": null,
   "id": "ddd48b3a",
   "metadata": {},
   "outputs": [],
   "source": [
    "2**3"
   ]
  },
  {
   "cell_type": "code",
   "execution_count": null,
   "id": "1a126534",
   "metadata": {},
   "outputs": [],
   "source": [
    "20%3"
   ]
  },
  {
   "cell_type": "code",
   "execution_count": null,
   "id": "ac6fc9dd",
   "metadata": {},
   "outputs": [],
   "source": [
    "2+4*3/4+5"
   ]
  },
  {
   "cell_type": "code",
   "execution_count": null,
   "id": "282c25aa",
   "metadata": {},
   "outputs": [],
   "source": [
    "2**3**2\n",
    "#when two same operator come start from right"
   ]
  },
  {
   "cell_type": "code",
   "execution_count": null,
   "id": "b94375f1",
   "metadata": {},
   "outputs": [],
   "source": [
    "11 &10"
   ]
  },
  {
   "cell_type": "code",
   "execution_count": null,
   "id": "a2305c60",
   "metadata": {},
   "outputs": [],
   "source": [
    "11|10"
   ]
  },
  {
   "cell_type": "code",
   "execution_count": null,
   "id": "6a890dfa",
   "metadata": {},
   "outputs": [],
   "source": [
    "#bitwise operator"
   ]
  },
  {
   "cell_type": "code",
   "execution_count": null,
   "id": "2d1452b5",
   "metadata": {},
   "outputs": [],
   "source": [
    "#bitwise right shift\n",
    "13>>1\n",
    "# formula number //2**bit\n",
    "# 13//2**1 => 13//2=6"
   ]
  },
  {
   "cell_type": "code",
   "execution_count": null,
   "id": "6bfdadaa",
   "metadata": {},
   "outputs": [],
   "source": [
    "#member ship operator\n",
    "\"t\"in \"tushar\""
   ]
  },
  {
   "cell_type": "code",
   "execution_count": null,
   "id": "b70cdb27",
   "metadata": {},
   "outputs": [],
   "source": [
    "\"t\" not in \"tushar\""
   ]
  },
  {
   "cell_type": "code",
   "execution_count": null,
   "id": "2a3ec211",
   "metadata": {},
   "outputs": [],
   "source": [
    "x=10\n",
    "print(type(x))"
   ]
  },
  {
   "cell_type": "code",
   "execution_count": null,
   "id": "7634ffb7",
   "metadata": {},
   "outputs": [],
   "source": [
    "type(x) is str"
   ]
  },
  {
   "cell_type": "code",
   "execution_count": null,
   "id": "c4978d92",
   "metadata": {},
   "outputs": [],
   "source": [
    "type(x) is not str"
   ]
  },
  {
   "cell_type": "code",
   "execution_count": null,
   "id": "fa0b070a",
   "metadata": {},
   "outputs": [],
   "source": [
    "# conditional statement\n",
    "# if-else,swich,case\n",
    "age=20\n",
    "if(age<10):\n",
    "    print(\"age is less then 10\")\n",
    "        \n",
    "elif(age==20):\n",
    "    print(\"age is 20\")\n",
    "    \n",
    "else:\n",
    "    print(\"not\")"
   ]
  },
  {
   "cell_type": "code",
   "execution_count": null,
   "id": "00303258",
   "metadata": {
    "scrolled": true
   },
   "outputs": [],
   "source": [
    "a=20\n",
    "b=10\n",
    "\n",
    "if(type(a)==int and type(b)==int):\n",
    "    print(\"both number are integer\")\n",
    "    print(\"both number are\",a,b)\n",
    "    print(\"addition\",a+b)\n",
    "    print(\"substraction\",a-b)\n",
    "    print(\"multiply\",a*b)\n",
    "    print(\"devide\",a/b)\n",
    "    print(\"division\",a//b)\n",
    "    print(\"power\",a**b)\n",
    "else:\n",
    "    print(\"not integer\")"
   ]
  },
  {
   "cell_type": "markdown",
   "id": "006c6f9e",
   "metadata": {},
   "source": [
    "# TASK"
   ]
  },
  {
   "cell_type": "code",
   "execution_count": null,
   "id": "0c8094e6",
   "metadata": {},
   "outputs": [],
   "source": [
    "#1\n",
    "#Take 3 input from user and identify which is the smallest\n",
    "a=(input(\"enter 1st no. = \"))\n",
    "b=(input(\"enter 2nd no. = \"))\n",
    "c=(input(\"enter 3rd no. = \"))\n",
    "if(a<b and a<c):\n",
    "    print(\"smallest no. is a = \",a)\n",
    "elif(b<a and b<c):\n",
    "    print(\"smallest no. is b = \",b)\n",
    "elif(b<a and b<c):\n",
    "    print(\"smallest no. is c = \",c)\n",
    "else:\n",
    "    print(\"two or three number are same\")"
   ]
  },
  {
   "cell_type": "code",
   "execution_count": null,
   "id": "da61ca46",
   "metadata": {},
   "outputs": [],
   "source": [
    "#2\n",
    "#Take a string as a input from user\n",
    "#Take another string from user and check is it available in up\n",
    "a=(input(\"enter 1st string = \"))\n",
    "b=(input(\"enter 2nd string = \"))\n",
    "#b in a\n",
    "if(b in a):\n",
    "    print(\"string 2 is in 1st\")\n",
    "else:\n",
    "   print(\"not \")"
   ]
  },
  {
   "cell_type": "code",
   "execution_count": null,
   "id": "d5881d19",
   "metadata": {},
   "outputs": [],
   "source": [
    "#3\n",
    "#Take a char from user and check if char is vovel\n",
    "a=(input(\"enter a character = \"))\n",
    "\n",
    "if(a in 'a''e''i''o''u''A''E''I''O''U'):\n",
    "    print(a,\"is a vowal\")\n",
    "else:\n",
    "    print(a,\"is not a voval\")"
   ]
  },
  {
   "cell_type": "code",
   "execution_count": 6,
   "id": "b0182a35",
   "metadata": {},
   "outputs": [
    {
     "name": "stdout",
     "output_type": "stream",
     "text": [
      "1. Print current date \n",
      "2. Create a folder \n",
      "3. Check all folder on the desktop \n",
      "4. Massage on whatsapp\n",
      "Enter your choice = 1\n",
      "\n",
      "Current date is =  2023-08-02 \n",
      "\n",
      "1. Print current date \n",
      "2. Create a folder \n",
      "3. Check all folder on the desktop \n",
      "4. Massage on whatsapp\n",
      "Enter your choice = 2\n",
      "\n",
      "Enter a folder name = de\n",
      "\n",
      "The de  folder is created on  C:/users/Sahil/desktop \n",
      "\n",
      "1. Print current date \n",
      "2. Create a folder \n",
      "3. Check all folder on the desktop \n",
      "4. Massage on whatsapp\n",
      "Enter your choice = 3\n",
      "\n",
      "The list of folder on path C:/users/Sahil/desktop as below:\n",
      " ['aniwatch.to.lnk', 'coding', 'de', 'desktop.ini', 'Dev-C++.lnk', 'gt', 'gy', 'MinGW Installer.lnk', 'MSI Afterburner.lnk', 'Visual Studio Code.lnk'] \n",
      "\n",
      "1. Print current date \n",
      "2. Create a folder \n",
      "3. Check all folder on the desktop \n",
      "4. Massage on whatsapp\n",
      "Enter your choice = 5\n",
      "\n",
      "Invalid choice\n"
     ]
    }
   ],
   "source": [
    "#4\n",
    "#Take a input from a user and perform following task\n",
    "#If 1 print current date\n",
    "#If 2 create a folder\n",
    "#If 3 then check all folder on the desktop\n",
    "#If 4 then massage on whatsapp\n",
    "from datetime import date\n",
    "import os\n",
    "import pywhatkit\n",
    "a=0\n",
    "while(a<5):\n",
    "    a=int(input(\"1. Print current date \\n2. Create a folder \\n3. Check all folder on the desktop \\n4. Massage on whatsapp\\nEnter your choice = \"))\n",
    "    if(a==1):\n",
    "        print(\"\\nCurrent date is = \",date.today(),\"\\n\")\n",
    "        \n",
    "    elif(a==2):   \n",
    "        folder=input(\"\\nEnter a folder name = \")\n",
    "        path= \"C:/users/Sahil/desktop\"\n",
    "        os.mkdir(os.path.join(path,folder))\n",
    "        print(\"\\nThe\",folder,\" folder is created on \",path,\"\\n\")\n",
    "\n",
    "    elif(a==3):\n",
    "        path= \"C:/users/Sahil/desktop\"\n",
    "        list=os.listdir(path)\n",
    "        print(\"\\nThe list of folder on path\",path,\"as below:\\n\",list,\"\\n\")\n",
    "\n",
    "    elif(a==4):\n",
    "        mb=input(\"\\nEnter 10 digit Number -> \")\n",
    "        msg=input(\"Enter your massage -> \")\n",
    "        hr=input(\"Hour -> \")\n",
    "        mn=input(\"Minute -> \")\n",
    "        #sec=input(\"second -> \")\n",
    "        pywhatkit.sendwhatmsg(mb,msg,hr,mn)\n",
    "        print(\"\\nThe massage\",msg,\"is sent to the number\",mb,\"At time =\",hr,\":\",mn)\n",
    "\n",
    "    else:\n",
    "        print(\"\\nInvalid choice\")"
   ]
  },
  {
   "cell_type": "code",
   "execution_count": null,
   "id": "b3d3dff0",
   "metadata": {},
   "outputs": [],
   "source": [
    "#Homework\n",
    "'''\n",
    "1 bitwise xor operator\n",
    "2 name space in python\n",
    "3 compiler vs interpretor vs encoder\n",
    "'''"
   ]
  },
  {
   "cell_type": "code",
   "execution_count": null,
   "id": "3bdd93e4",
   "metadata": {},
   "outputs": [],
   "source": [
    "#Bitwise operator\n",
    "x=10\n",
    "y=12"
   ]
  },
  {
   "cell_type": "code",
   "execution_count": null,
   "id": "81e51c12",
   "metadata": {},
   "outputs": [],
   "source": [
    "#AND\n",
    "x&y"
   ]
  },
  {
   "cell_type": "code",
   "execution_count": null,
   "id": "b00e9813",
   "metadata": {},
   "outputs": [],
   "source": [
    "#OR\n",
    "x|y"
   ]
  },
  {
   "cell_type": "code",
   "execution_count": null,
   "id": "1dd1415c",
   "metadata": {},
   "outputs": [],
   "source": [
    "#XOR\n",
    "x^y"
   ]
  },
  {
   "cell_type": "code",
   "execution_count": null,
   "id": "cf721192",
   "metadata": {},
   "outputs": [],
   "source": [
    "x>>1"
   ]
  },
  {
   "cell_type": "code",
   "execution_count": null,
   "id": "fc8cb4e0",
   "metadata": {},
   "outputs": [],
   "source": [
    "y<<1"
   ]
  }
 ],
 "metadata": {
  "kernelspec": {
   "display_name": "Python 3 (ipykernel)",
   "language": "python",
   "name": "python3"
  },
  "language_info": {
   "codemirror_mode": {
    "name": "ipython",
    "version": 3
   },
   "file_extension": ".py",
   "mimetype": "text/x-python",
   "name": "python",
   "nbconvert_exporter": "python",
   "pygments_lexer": "ipython3",
   "version": "3.11.3"
  }
 },
 "nbformat": 4,
 "nbformat_minor": 5
}
