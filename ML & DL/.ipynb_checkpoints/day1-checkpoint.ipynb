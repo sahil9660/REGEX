{
 "cells": [
  {
   "cell_type": "code",
   "execution_count": 51,
   "id": "f610ad68",
   "metadata": {},
   "outputs": [],
   "source": [
    "import numpy as np"
   ]
  },
  {
   "cell_type": "code",
   "execution_count": 2,
   "id": "b911b000",
   "metadata": {},
   "outputs": [
    {
     "data": {
      "text/plain": [
       "list"
      ]
     },
     "execution_count": 2,
     "metadata": {},
     "output_type": "execute_result"
    }
   ],
   "source": [
    "a=[1,2,3,4]\n",
    "type(a)"
   ]
  },
  {
   "cell_type": "code",
   "execution_count": 3,
   "id": "45442cfc",
   "metadata": {},
   "outputs": [
    {
     "data": {
      "text/plain": [
       "array([1, 2, 3, 4])"
      ]
     },
     "execution_count": 3,
     "metadata": {},
     "output_type": "execute_result"
    }
   ],
   "source": [
    "b=np.array(a)\n",
    "b"
   ]
  },
  {
   "cell_type": "code",
   "execution_count": 4,
   "id": "bf28ab88",
   "metadata": {},
   "outputs": [
    {
     "data": {
      "text/plain": [
       "array([[1, 2, 3],\n",
       "       [4, 5, 6],\n",
       "       [7, 8, 9]])"
      ]
     },
     "execution_count": 4,
     "metadata": {},
     "output_type": "execute_result"
    }
   ],
   "source": [
    "a=[[1,2,3],[4,5,6],[7,8,9]]\n",
    "b=np.array(a)\n",
    "b"
   ]
  },
  {
   "cell_type": "code",
   "execution_count": 5,
   "id": "20bc90b0",
   "metadata": {},
   "outputs": [
    {
     "name": "stdout",
     "output_type": "stream",
     "text": [
      "total shape = (3, 3)\n",
      "total dimension = 2\n"
     ]
    }
   ],
   "source": [
    "print(\"total shape =\",b.shape)\n",
    "print(\"total dimension =\",b.ndim)"
   ]
  },
  {
   "cell_type": "markdown",
   "id": "dd8edde2",
   "metadata": {},
   "source": [
    "\n",
    "# pre-define function in numpy"
   ]
  },
  {
   "cell_type": "code",
   "execution_count": 8,
   "id": "11448f18",
   "metadata": {},
   "outputs": [
    {
     "data": {
      "text/plain": [
       "array([0., 0., 0., 0., 0.])"
      ]
     },
     "execution_count": 8,
     "metadata": {},
     "output_type": "execute_result"
    }
   ],
   "source": [
    "#1. zeros()==> by function we can create an array with all the values zero\n",
    "\n",
    "a=np.zeros(5)\n",
    "a"
   ]
  },
  {
   "cell_type": "code",
   "execution_count": 9,
   "id": "de1cd316",
   "metadata": {},
   "outputs": [
    {
     "data": {
      "text/plain": [
       "array([[0., 0., 0.],\n",
       "       [0., 0., 0.]])"
      ]
     },
     "execution_count": 9,
     "metadata": {},
     "output_type": "execute_result"
    }
   ],
   "source": [
    "a=np.zeros((2,3))\n",
    "a"
   ]
  },
  {
   "cell_type": "code",
   "execution_count": 10,
   "id": "c15f9a99",
   "metadata": {},
   "outputs": [
    {
     "data": {
      "text/plain": [
       "2"
      ]
     },
     "execution_count": 10,
     "metadata": {},
     "output_type": "execute_result"
    }
   ],
   "source": [
    "a.ndim"
   ]
  },
  {
   "cell_type": "code",
   "execution_count": 18,
   "id": "fef8d9e7",
   "metadata": {},
   "outputs": [
    {
     "data": {
      "text/plain": [
       "array([1., 1., 1., 1., 1., 1., 1., 1., 1., 1.])"
      ]
     },
     "execution_count": 18,
     "metadata": {},
     "output_type": "execute_result"
    }
   ],
   "source": [
    "#2. ones()==> by this method we can crdeate an array with all the 1.\n",
    "a=np.ones(10)\n",
    "a"
   ]
  },
  {
   "cell_type": "code",
   "execution_count": 15,
   "id": "04843e42",
   "metadata": {},
   "outputs": [
    {
     "data": {
      "text/plain": [
       "array([[1., 1., 1., 1.],\n",
       "       [1., 1., 1., 1.],\n",
       "       [1., 1., 1., 1.]])"
      ]
     },
     "execution_count": 15,
     "metadata": {},
     "output_type": "execute_result"
    }
   ],
   "source": [
    "a=np.ones((3,4))\n",
    "a"
   ]
  },
  {
   "cell_type": "code",
   "execution_count": 16,
   "id": "e8e906a6",
   "metadata": {},
   "outputs": [
    {
     "data": {
      "text/plain": [
       "2"
      ]
     },
     "execution_count": 16,
     "metadata": {},
     "output_type": "execute_result"
    }
   ],
   "source": [
    "a.ndim"
   ]
  },
  {
   "cell_type": "code",
   "execution_count": 17,
   "id": "178a78a8",
   "metadata": {},
   "outputs": [
    {
     "data": {
      "text/plain": [
       "(3, 4)"
      ]
     },
     "execution_count": 17,
     "metadata": {},
     "output_type": "execute_result"
    }
   ],
   "source": [
    "a.shape"
   ]
  },
  {
   "cell_type": "code",
   "execution_count": 20,
   "id": "b48f2ad5",
   "metadata": {},
   "outputs": [
    {
     "data": {
      "text/plain": [
       "array([[[1., 1., 1.],\n",
       "        [1., 1., 1.]]])"
      ]
     },
     "execution_count": 20,
     "metadata": {},
     "output_type": "execute_result"
    }
   ],
   "source": [
    "a=np.ones(((1,2,3)))\n",
    "a"
   ]
  },
  {
   "cell_type": "code",
   "execution_count": 21,
   "id": "0e7a721f",
   "metadata": {},
   "outputs": [
    {
     "data": {
      "text/plain": [
       "3"
      ]
     },
     "execution_count": 21,
     "metadata": {},
     "output_type": "execute_result"
    }
   ],
   "source": [
    "a.ndim"
   ]
  },
  {
   "cell_type": "code",
   "execution_count": 22,
   "id": "2f768253",
   "metadata": {},
   "outputs": [
    {
     "data": {
      "text/plain": [
       "array([[1., 0., 0., 0.],\n",
       "       [0., 1., 0., 0.],\n",
       "       [0., 0., 1., 0.]])"
      ]
     },
     "execution_count": 22,
     "metadata": {},
     "output_type": "execute_result"
    }
   ],
   "source": [
    "#3. eye() ==> by this method we can create an array in which digonal element are 1 and rest are 0.\n",
    "a=np.eye(3,4)\n",
    "a"
   ]
  },
  {
   "cell_type": "code",
   "execution_count": 23,
   "id": "d4061fdf",
   "metadata": {},
   "outputs": [
    {
     "data": {
      "text/plain": [
       "array([[1., 0., 0., 0.],\n",
       "       [0., 1., 0., 0.],\n",
       "       [0., 0., 1., 0.],\n",
       "       [0., 0., 0., 1.]])"
      ]
     },
     "execution_count": 23,
     "metadata": {},
     "output_type": "execute_result"
    }
   ],
   "source": [
    "a=np.eye(4,4)\n",
    "a"
   ]
  },
  {
   "cell_type": "code",
   "execution_count": 25,
   "id": "ab373188",
   "metadata": {},
   "outputs": [
    {
     "data": {
      "text/plain": [
       "array([[1., 0., 0.],\n",
       "       [0., 1., 0.],\n",
       "       [0., 0., 1.]])"
      ]
     },
     "execution_count": 25,
     "metadata": {},
     "output_type": "execute_result"
    }
   ],
   "source": [
    "a=np.eye(3)\n",
    "a"
   ]
  },
  {
   "cell_type": "code",
   "execution_count": 28,
   "id": "93506956",
   "metadata": {},
   "outputs": [
    {
     "data": {
      "text/plain": [
       "array([[ 1,  0,  0,  0],\n",
       "       [ 0, 56,  0,  0],\n",
       "       [ 0,  0, 78,  0],\n",
       "       [ 0,  0,  0, 90]])"
      ]
     },
     "execution_count": 28,
     "metadata": {},
     "output_type": "execute_result"
    }
   ],
   "source": [
    "# 4 diag()==> \n",
    "a=np.diag([1,56,78,90])\n",
    "a"
   ]
  },
  {
   "cell_type": "code",
   "execution_count": 37,
   "id": "78255522",
   "metadata": {},
   "outputs": [
    {
     "data": {
      "text/plain": [
       "array([5, 3, 4])"
      ]
     },
     "execution_count": 37,
     "metadata": {},
     "output_type": "execute_result"
    }
   ],
   "source": [
    "#5. random module\n",
    "# (a). ranint()\n",
    "\n",
    "a=np.random.randint(1,10,3)\n",
    "a"
   ]
  },
  {
   "cell_type": "code",
   "execution_count": 44,
   "id": "94b8bc7f",
   "metadata": {},
   "outputs": [
    {
     "name": "stdout",
     "output_type": "stream",
     "text": [
      "Enter start = 1\n",
      "Enter end = 10\n",
      "Enter number of values = 4\n",
      "The 4 random number between 1 and 10 are = [1 4 1 8]\n"
     ]
    }
   ],
   "source": [
    "a=int(input(\"Enter start = \"))\n",
    "b=int(input(\"Enter end = \"))\n",
    "c=int(input(\"Enter number of values = \"))\n",
    "n=np.random.randint(a,b,c)\n",
    "print(f\"The {c} random number between {a} and {b} are = {n}\")"
   ]
  },
  {
   "cell_type": "code",
   "execution_count": 46,
   "id": "d9b6ad18",
   "metadata": {},
   "outputs": [
    {
     "data": {
      "text/plain": [
       "array([0.19009353, 0.84249514, 0.55905471, 0.08069801, 0.10458657])"
      ]
     },
     "execution_count": 46,
     "metadata": {},
     "output_type": "execute_result"
    }
   ],
   "source": [
    "# (b).rand()==> it will generate random number between 0 to 1\n",
    "a=np.random.rand(5)\n",
    "a"
   ]
  },
  {
   "cell_type": "code",
   "execution_count": 47,
   "id": "389148e6",
   "metadata": {},
   "outputs": [
    {
     "data": {
      "text/plain": [
       "(5,)"
      ]
     },
     "execution_count": 47,
     "metadata": {},
     "output_type": "execute_result"
    }
   ],
   "source": [
    "a.shape"
   ]
  },
  {
   "cell_type": "code",
   "execution_count": 51,
   "id": "279b12ef",
   "metadata": {},
   "outputs": [
    {
     "data": {
      "text/plain": [
       "2"
      ]
     },
     "execution_count": 51,
     "metadata": {},
     "output_type": "execute_result"
    }
   ],
   "source": [
    "a.ndim"
   ]
  },
  {
   "cell_type": "code",
   "execution_count": 52,
   "id": "d53fefd6",
   "metadata": {},
   "outputs": [
    {
     "data": {
      "text/plain": [
       "array([[0.42605358, 0.84493602, 0.17729106],\n",
       "       [0.72670366, 0.10574733, 0.33607399]])"
      ]
     },
     "execution_count": 52,
     "metadata": {},
     "output_type": "execute_result"
    }
   ],
   "source": [
    "a=np.random.rand(2,3)\n",
    "a"
   ]
  },
  {
   "cell_type": "code",
   "execution_count": 53,
   "id": "e93e39dd",
   "metadata": {},
   "outputs": [
    {
     "data": {
      "text/plain": [
       "(2, 3)"
      ]
     },
     "execution_count": 53,
     "metadata": {},
     "output_type": "execute_result"
    }
   ],
   "source": [
    "a.shape"
   ]
  },
  {
   "cell_type": "code",
   "execution_count": 54,
   "id": "f6dfe52e",
   "metadata": {},
   "outputs": [
    {
     "data": {
      "text/plain": [
       "2"
      ]
     },
     "execution_count": 54,
     "metadata": {},
     "output_type": "execute_result"
    }
   ],
   "source": [
    "a.ndim"
   ]
  },
  {
   "cell_type": "code",
   "execution_count": 58,
   "id": "35156499",
   "metadata": {},
   "outputs": [
    {
     "name": "stdout",
     "output_type": "stream",
     "text": [
      "1,12 = [[26 51 46 45  6  5 35 30 46 44 14 17]]\n",
      "\n",
      "2,6 = [[26 51 46 45  6  5]\n",
      " [35 30 46 44 14 17]]\n",
      "\n",
      "3,4 = [[26 51 46 45]\n",
      " [ 6  5 35 30]\n",
      " [46 44 14 17]]\n",
      "\n",
      "4,3 = [[26 51 46]\n",
      " [45  6  5]\n",
      " [35 30 46]\n",
      " [44 14 17]]\n",
      "\n",
      "6,2 = [[26 51]\n",
      " [46 45]\n",
      " [ 6  5]\n",
      " [35 30]\n",
      " [46 44]\n",
      " [14 17]]\n",
      "\n",
      "12,1 = [[26]\n",
      " [51]\n",
      " [46]\n",
      " [45]\n",
      " [ 6]\n",
      " [ 5]\n",
      " [35]\n",
      " [30]\n",
      " [46]\n",
      " [44]\n",
      " [14]\n",
      " [17]]\n"
     ]
    }
   ],
   "source": [
    "# Reshape ==> n(rows)*n(columns) =n(total)\n",
    "a=np.random.randint(1,60,12)\n",
    "print(\"1,12 =\",a.reshape(1,12))\n",
    "print()\n",
    "print(\"2,6 =\",a.reshape(2,6))\n",
    "print()\n",
    "print(\"3,4 =\",a.reshape(3,4))\n",
    "print()\n",
    "print(\"4,3 =\",a.reshape(4,3))\n",
    "print()\n",
    "print(\"6,2 =\",a.reshape(6,2))\n",
    "print()\n",
    "print(\"12,1 =\",a.reshape(12,1))"
   ]
  },
  {
   "cell_type": "markdown",
   "id": "f6246349",
   "metadata": {},
   "source": [
    "# principal of -1"
   ]
  },
  {
   "cell_type": "code",
   "execution_count": 61,
   "id": "ce7d4169",
   "metadata": {},
   "outputs": [
    {
     "data": {
      "text/plain": [
       "array([[26, 51, 46],\n",
       "       [45,  6,  5],\n",
       "       [35, 30, 46],\n",
       "       [44, 14, 17]])"
      ]
     },
     "execution_count": 61,
     "metadata": {},
     "output_type": "execute_result"
    }
   ],
   "source": [
    "a=a.reshape(-1,3)\n",
    "a"
   ]
  },
  {
   "cell_type": "code",
   "execution_count": 62,
   "id": "e602bfc4",
   "metadata": {},
   "outputs": [
    {
     "data": {
      "text/plain": [
       "array([[26, 51, 46, 45],\n",
       "       [ 6,  5, 35, 30],\n",
       "       [46, 44, 14, 17]])"
      ]
     },
     "execution_count": 62,
     "metadata": {},
     "output_type": "execute_result"
    }
   ],
   "source": [
    "a=a.reshape(-1,4)\n",
    "a"
   ]
  },
  {
   "cell_type": "code",
   "execution_count": 63,
   "id": "66abad04",
   "metadata": {},
   "outputs": [
    {
     "data": {
      "text/plain": [
       "array([[26, 51, 46, 45,  6,  5],\n",
       "       [35, 30, 46, 44, 14, 17]])"
      ]
     },
     "execution_count": 63,
     "metadata": {},
     "output_type": "execute_result"
    }
   ],
   "source": [
    "a=a.reshape(-1,6)\n",
    "a"
   ]
  },
  {
   "cell_type": "code",
   "execution_count": 64,
   "id": "52cb23f9",
   "metadata": {},
   "outputs": [
    {
     "data": {
      "text/plain": [
       "array([[26, 51],\n",
       "       [46, 45],\n",
       "       [ 6,  5],\n",
       "       [35, 30],\n",
       "       [46, 44],\n",
       "       [14, 17]])"
      ]
     },
     "execution_count": 64,
     "metadata": {},
     "output_type": "execute_result"
    }
   ],
   "source": [
    "a=a.reshape(-1,2)\n",
    "a"
   ]
  },
  {
   "cell_type": "code",
   "execution_count": 76,
   "id": "8e141b35",
   "metadata": {},
   "outputs": [
    {
     "data": {
      "text/plain": [
       "array([9, 5, 1])"
      ]
     },
     "execution_count": 76,
     "metadata": {},
     "output_type": "execute_result"
    }
   ],
   "source": [
    "np.random.seed(21)\n",
    "a=np.random.randint(1,10,3)\n",
    "a"
   ]
  },
  {
   "cell_type": "code",
   "execution_count": 79,
   "id": "4f449ec2",
   "metadata": {},
   "outputs": [
    {
     "data": {
      "text/plain": [
       "array([6, 5, 1])"
      ]
     },
     "execution_count": 79,
     "metadata": {},
     "output_type": "execute_result"
    }
   ],
   "source": [
    "np.random.seed(22)\n",
    "a=np.random.randint(1,10,3)\n",
    "a"
   ]
  },
  {
   "cell_type": "code",
   "execution_count": 58,
   "id": "3ea78207",
   "metadata": {},
   "outputs": [],
   "source": [
    "a=np.array([1,2,3,4]).reshape(2,2)\n",
    "b=np.array([5,6,7,8]).reshape(2,2)"
   ]
  },
  {
   "cell_type": "code",
   "execution_count": 59,
   "id": "38134fc6",
   "metadata": {},
   "outputs": [
    {
     "data": {
      "text/plain": [
       "array([[ 6,  8],\n",
       "       [10, 12]])"
      ]
     },
     "execution_count": 59,
     "metadata": {},
     "output_type": "execute_result"
    }
   ],
   "source": [
    "a+b"
   ]
  },
  {
   "cell_type": "code",
   "execution_count": 60,
   "id": "6ae8701b",
   "metadata": {},
   "outputs": [
    {
     "data": {
      "text/plain": [
       "array([[ 5, 12],\n",
       "       [21, 32]])"
      ]
     },
     "execution_count": 60,
     "metadata": {},
     "output_type": "execute_result"
    }
   ],
   "source": [
    "a*b"
   ]
  },
  {
   "cell_type": "code",
   "execution_count": 61,
   "id": "37c85415",
   "metadata": {},
   "outputs": [
    {
     "data": {
      "text/plain": [
       "array([[19, 22],\n",
       "       [43, 50]])"
      ]
     },
     "execution_count": 61,
     "metadata": {},
     "output_type": "execute_result"
    }
   ],
   "source": [
    "a.dot(b)"
   ]
  },
  {
   "cell_type": "markdown",
   "id": "3256d9ca",
   "metadata": {},
   "source": [
    "### Assignment\n",
    "\n",
    "1. Difference b/w mutable and immutable with example\n",
    "2. Difference b/w list and tuple [minimum 4 ex]\n",
    "3. Difference b/w map and filter and lambda [real life usecase]\n",
    "   given age if 18 plus true else false by using filter fun\n",
    "4. difference b/w strip, split, isalpha, isdigit, isalnum [example with working process]\n"
   ]
  },
  {
   "cell_type": "markdown",
   "id": "1599aac9",
   "metadata": {},
   "source": [
    "# given age if 18 plus true else false by using filter fun"
   ]
  },
  {
   "cell_type": "code",
   "execution_count": 7,
   "id": "3fc85c91",
   "metadata": {},
   "outputs": [
    {
     "name": "stdout",
     "output_type": "stream",
     "text": [
      "[20, 25, 18, 30]\n",
      "[False, True, False, True, True, True]\n"
     ]
    }
   ],
   "source": [
    "ages = [16, 20, 14, 25, 18, 30]\n",
    "filterage = list(filter(lambda age: age >= 18, ages))\n",
    "result=[]\n",
    "for age in ages:\n",
    "    if age >= 18:\n",
    "        result.append(True)\n",
    "    else:\n",
    "        result.append(False)\n",
    "print(filterage)\n",
    "print(result)"
   ]
  },
  {
   "cell_type": "markdown",
   "id": "d197d667",
   "metadata": {},
   "source": [
    "# 1. Difference b/w mutable and immutable with example"
   ]
  },
  {
   "cell_type": "markdown",
   "id": "30e088df",
   "metadata": {},
   "source": [
    "# 2. Difference b/w list and tuple [minimum 4 ex]"
   ]
  },
  {
   "cell_type": "code",
   "execution_count": 63,
   "id": "9865192b",
   "metadata": {},
   "outputs": [
    {
     "data": {
      "text/plain": [
       "['orange', 'banana', 'cherry']"
      ]
     },
     "execution_count": 63,
     "metadata": {},
     "output_type": "execute_result"
    }
   ],
   "source": [
    "fruits_list = [\"apple\", \"banana\", \"cherry\"]\n",
    "fruits_list[0] = \"orange\"\n",
    "fruits_list"
   ]
  },
  {
   "cell_type": "code",
   "execution_count": 64,
   "id": "4efa57ca",
   "metadata": {},
   "outputs": [
    {
     "ename": "TypeError",
     "evalue": "'tuple' object does not support item assignment",
     "output_type": "error",
     "traceback": [
      "\u001b[1;31m---------------------------------------------------------------------------\u001b[0m",
      "\u001b[1;31mTypeError\u001b[0m                                 Traceback (most recent call last)",
      "Cell \u001b[1;32mIn[64], line 2\u001b[0m\n\u001b[0;32m      1\u001b[0m fruits_tuple \u001b[38;5;241m=\u001b[39m (\u001b[38;5;124m\"\u001b[39m\u001b[38;5;124mapple\u001b[39m\u001b[38;5;124m\"\u001b[39m, \u001b[38;5;124m\"\u001b[39m\u001b[38;5;124mbanana\u001b[39m\u001b[38;5;124m\"\u001b[39m, \u001b[38;5;124m\"\u001b[39m\u001b[38;5;124mcherry\u001b[39m\u001b[38;5;124m\"\u001b[39m)\n\u001b[1;32m----> 2\u001b[0m fruits_tuple[\u001b[38;5;241m0\u001b[39m] \u001b[38;5;241m=\u001b[39m \u001b[38;5;124m\"\u001b[39m\u001b[38;5;124morange\u001b[39m\u001b[38;5;124m\"\u001b[39m\n",
      "\u001b[1;31mTypeError\u001b[0m: 'tuple' object does not support item assignment"
     ]
    }
   ],
   "source": [
    "fruits_tuple = (\"apple\", \"banana\", \"cherry\")\n",
    "fruits_tuple[0] = \"orange\""
   ]
  },
  {
   "cell_type": "code",
   "execution_count": 65,
   "id": "04586c04",
   "metadata": {},
   "outputs": [
    {
     "data": {
      "text/plain": [
       "['orange', 'cherry', 'grape']"
      ]
     },
     "execution_count": 65,
     "metadata": {},
     "output_type": "execute_result"
    }
   ],
   "source": [
    "fruits_list.append(\"grape\")\n",
    "fruits_list.remove(\"banana\")\n",
    "fruits_list"
   ]
  },
  {
   "cell_type": "code",
   "execution_count": 66,
   "id": "bc7fc242",
   "metadata": {},
   "outputs": [
    {
     "data": {
      "text/plain": [
       "('apple', 'banana', 'cherry', 'grape', 'orange')"
      ]
     },
     "execution_count": 66,
     "metadata": {},
     "output_type": "execute_result"
    }
   ],
   "source": [
    "fruits_tuple + (\"grape\", \"orange\")"
   ]
  },
  {
   "cell_type": "markdown",
   "id": "41268d6e",
   "metadata": {},
   "source": [
    "# 3. Difference b/w map and filter and lambda [real life usecase]"
   ]
  },
  {
   "cell_type": "code",
   "execution_count": null,
   "id": "b342241d",
   "metadata": {},
   "outputs": [],
   "source": []
  },
  {
   "cell_type": "markdown",
   "id": "f084c6b0",
   "metadata": {},
   "source": [
    "# 4. difference b/w strip, split, isalpha, isdigit, isalnum [example with working process]"
   ]
  },
  {
   "cell_type": "code",
   "execution_count": 5,
   "id": "333d6e19",
   "metadata": {},
   "outputs": [
    {
     "data": {
      "text/plain": [
       "['hello', 'world']"
      ]
     },
     "execution_count": 5,
     "metadata": {},
     "output_type": "execute_result"
    }
   ],
   "source": [
    "a=\"hello world\"\n",
    "a.split()\n",
    "#split with comma"
   ]
  },
  {
   "cell_type": "code",
   "execution_count": 37,
   "id": "78698167",
   "metadata": {},
   "outputs": [
    {
     "data": {
      "text/plain": [
       "'hello world'"
      ]
     },
     "execution_count": 37,
     "metadata": {},
     "output_type": "execute_result"
    }
   ],
   "source": [
    "a=\"       hello world\"\n",
    "a.strip()\n",
    "#remove space from start and end"
   ]
  },
  {
   "cell_type": "code",
   "execution_count": 42,
   "id": "ac913358",
   "metadata": {},
   "outputs": [
    {
     "data": {
      "text/plain": [
       "True"
      ]
     },
     "execution_count": 42,
     "metadata": {},
     "output_type": "execute_result"
    }
   ],
   "source": [
    "a=\"hello\"\n",
    "a.isalpha()\n",
    "#check al element are alphabet"
   ]
  },
  {
   "cell_type": "code",
   "execution_count": 44,
   "id": "5de08d73",
   "metadata": {},
   "outputs": [
    {
     "data": {
      "text/plain": [
       "True"
      ]
     },
     "execution_count": 44,
     "metadata": {},
     "output_type": "execute_result"
    }
   ],
   "source": [
    "a=\"1234\"\n",
    "a.isdigit()\n",
    "#check all element are num"
   ]
  },
  {
   "cell_type": "code",
   "execution_count": 49,
   "id": "6813b698",
   "metadata": {},
   "outputs": [
    {
     "data": {
      "text/plain": [
       "False"
      ]
     },
     "execution_count": 49,
     "metadata": {},
     "output_type": "execute_result"
    }
   ],
   "source": [
    "a=\"helloworld\"\n",
    "a.isalnum()\n",
    "#check if element are num or alphabet"
   ]
  }
 ],
 "metadata": {
  "kernelspec": {
   "display_name": "Python 3 (ipykernel)",
   "language": "python",
   "name": "python3"
  },
  "language_info": {
   "codemirror_mode": {
    "name": "ipython",
    "version": 3
   },
   "file_extension": ".py",
   "mimetype": "text/x-python",
   "name": "python",
   "nbconvert_exporter": "python",
   "pygments_lexer": "ipython3",
   "version": "3.11.3"
  }
 },
 "nbformat": 4,
 "nbformat_minor": 5
}
