{
 "cells": [
  {
   "cell_type": "code",
   "execution_count": 1,
   "id": "17d1562b",
   "metadata": {},
   "outputs": [],
   "source": [
    "#list"
   ]
  },
  {
   "cell_type": "code",
   "execution_count": 16,
   "id": "513cf6c9",
   "metadata": {},
   "outputs": [
    {
     "name": "stdout",
     "output_type": "stream",
     "text": [
      "sahil ahil\n",
      "hemant emant\n",
      "hey ey\n",
      "['ahil', 'emant', 'ey']\n"
     ]
    }
   ],
   "source": [
    "lis=[10,20,21,\"sahil\",\"hemant\",\"hey\"]\n",
    "mylist=[]\n",
    "for i in lis:\n",
    "    if type(i) == str:\n",
    "        print(i,i[1:])\n",
    "        mylist.append(i[1:])\n",
    "print(mylist)"
   ]
  },
  {
   "cell_type": "code",
   "execution_count": 18,
   "id": "8b2cdd8f",
   "metadata": {},
   "outputs": [
    {
     "data": {
      "text/plain": [
       "int"
      ]
     },
     "execution_count": 18,
     "metadata": {},
     "output_type": "execute_result"
    }
   ],
   "source": [
    "mytuple=10\n",
    "type(mytuple)"
   ]
  },
  {
   "cell_type": "code",
   "execution_count": 21,
   "id": "62cf4d0b",
   "metadata": {},
   "outputs": [
    {
     "data": {
      "text/plain": [
       "tuple"
      ]
     },
     "execution_count": 21,
     "metadata": {},
     "output_type": "execute_result"
    }
   ],
   "source": [
    "mytuple=10,\n",
    "type(mytuple)"
   ]
  },
  {
   "cell_type": "code",
   "execution_count": 24,
   "id": "4e6b23f3",
   "metadata": {},
   "outputs": [
    {
     "name": "stdout",
     "output_type": "stream",
     "text": [
      "<class 'tuple'>\n",
      "(10, 20, 30, 'hey')\n"
     ]
    }
   ],
   "source": [
    "mytuple=(10,20,30,'hey')\n",
    "print(type(mytuple))\n",
    "print(mytuple)"
   ]
  },
  {
   "cell_type": "code",
   "execution_count": 26,
   "id": "f9676888",
   "metadata": {},
   "outputs": [
    {
     "data": {
      "text/plain": [
       "(10, 20, 30, 'hey', 100, 1000)"
      ]
     },
     "execution_count": 26,
     "metadata": {},
     "output_type": "execute_result"
    }
   ],
   "source": [
    "mytuple=(10,20,30,'hey')\n",
    "mytuple+(100,1000)"
   ]
  },
  {
   "cell_type": "code",
   "execution_count": 35,
   "id": "eed52af1",
   "metadata": {},
   "outputs": [
    {
     "name": "stdout",
     "output_type": "stream",
     "text": [
      "[30]\n",
      "[10, 20, 'sahil', 31, 43, 33]\n"
     ]
    }
   ],
   "source": [
    "#create a tuple with multiple element and if element is int and is a multiple of 2 or 3 so we insert that element in to list\n",
    "#else in other list\n",
    "mytuple=(10,20,'sahil',31,43,33,30)\n",
    "list1=[]\n",
    "list2=[]\n",
    "for i in tuple:\n",
    "    if type(i)==int and (i%2==0 and i%3==0):\n",
    "        list1.append(i)\n",
    "        #print(i)\n",
    "    else:\n",
    "        list2.append(i)\n",
    "print(list1)\n",
    "print(list2)"
   ]
  },
  {
   "cell_type": "markdown",
   "id": "33e648bb",
   "metadata": {},
   "source": [
    "# TASK"
   ]
  },
  {
   "cell_type": "code",
   "execution_count": null,
   "id": "e88c704c",
   "metadata": {},
   "outputs": [],
   "source": [
    "'''\n",
    "1.create a program to identify all the unique words or element from list and insert all the duplicate element in other list.\n",
    "2.create a program to get string element which have more than 2 vowels and append it into the vowellist.\n",
    "3.now write a program to remove element from the list which are not float or have any vowel in thier words using while loop.\n",
    "'''"
   ]
  },
  {
   "cell_type": "code",
   "execution_count": 17,
   "id": "719df1ea",
   "metadata": {},
   "outputs": [
    {
     "name": "stdout",
     "output_type": "stream",
     "text": [
      "20\n",
      "30\n",
      "34\n",
      "30\n",
      "2\n",
      "20\n"
     ]
    }
   ],
   "source": [
    "#1.create a program to identify all the unique words or element from list and insert all the duplicate element in other list\n",
    "lis =[20,30,34,30,'sahil','sarthak',2,'sahil',20]\n",
    "duplicate =[]\n",
    "for i in lis:\n",
    "    #print(i)\n",
    "    if i not in lis[i+1:i]:\n",
    "        print(i)"
   ]
  }
 ],
 "metadata": {
  "kernelspec": {
   "display_name": "Python 3 (ipykernel)",
   "language": "python",
   "name": "python3"
  },
  "language_info": {
   "codemirror_mode": {
    "name": "ipython",
    "version": 3
   },
   "file_extension": ".py",
   "mimetype": "text/x-python",
   "name": "python",
   "nbconvert_exporter": "python",
   "pygments_lexer": "ipython3",
   "version": "3.11.3"
  }
 },
 "nbformat": 4,
 "nbformat_minor": 5
}
